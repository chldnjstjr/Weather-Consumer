{
  "nbformat": 4,
  "nbformat_minor": 0,
  "metadata": {
    "colab": {
      "name": "R 패널회귀분석",
      "provenance": [],
      "collapsed_sections": [],
      "authorship_tag": "ABX9TyNYQb1z4MIF4BV0oJibsDhd"
    },
    "kernelspec": {
      "name": "ir",
      "display_name": "R"
    },
    "language_info": {
      "name": "R"
    }
  },
  "cells": [
    {
      "cell_type": "markdown",
      "metadata": {
        "id": "GlIJjChxes_6"
      },
      "source": [
        "Colab에서 R 사용 가능\n",
        "\n",
        "[링크 텍스트](https://www.youtube.com/watch?v=ugNlbyOlWlQ) #이 분 없었으면 평생 헤맸을듯"
      ]
    },
    {
      "cell_type": "code",
      "metadata": {
        "id": "57Zb-HPyd9zJ"
      },
      "source": [
        "#엑셀 불러올 준비\n",
        "system(\"gdown --id 1q0JuMeYNscfq2BrGuEfk-_fDZTj2y5k-\")\n",
        "library(readxl)"
      ],
      "execution_count": 58,
      "outputs": []
    },
    {
      "cell_type": "code",
      "metadata": {
        "id": "lSvTiJwEeXEm"
      },
      "source": [
        "df_master = read_excel(\"df_master.xlsx\") #구글 드라이브에서 주소 가져올 때 링크가 있는 모든 사용자에게 공개 꼭! 해줘야함 "
      ],
      "execution_count": 59,
      "outputs": []
    },
    {
      "cell_type": "code",
      "metadata": {
        "colab": {
          "base_uri": "https://localhost:8080/",
          "height": 35
        },
        "id": "UGenOATLI-oK",
        "outputId": "564e3ec1-86d3-4317-8a0a-a40ae8de7398"
      },
      "source": [
        "unique(df_master$CLAC1_NM)"
      ],
      "execution_count": 60,
      "outputs": [
        {
          "output_type": "display_data",
          "data": {
            "text/plain": [
              "[1] \"건강식품\" \"냉동식품\" \"냉장식품\" \"과일\"     \"축산물\"  "
            ],
            "text/latex": "\\begin{enumerate*}\n\\item '건강식품'\n\\item '냉동식품'\n\\item '냉장식품'\n\\item '과일'\n\\item '축산물'\n\\end{enumerate*}\n",
            "text/markdown": "1. '건강식품'\n2. '냉동식품'\n3. '냉장식품'\n4. '과일'\n5. '축산물'\n\n\n",
            "text/html": [
              "<style>\n",
              ".list-inline {list-style: none; margin:0; padding: 0}\n",
              ".list-inline>li {display: inline-block}\n",
              ".list-inline>li:not(:last-child)::after {content: \"\\00b7\"; padding: 0 .5ex}\n",
              "</style>\n",
              "<ol class=list-inline><li>'건강식품'</li><li>'냉동식품'</li><li>'냉장식품'</li><li>'과일'</li><li>'축산물'</li></ol>\n"
            ]
          },
          "metadata": {
            "tags": []
          }
        }
      ]
    },
    {
      "cell_type": "code",
      "metadata": {
        "colab": {
          "base_uri": "https://localhost:8080/",
          "height": 35
        },
        "id": "vjSjEnSernnt",
        "outputId": "37ef1889-5467-4e86-e51a-39c7db63e3a7"
      },
      "source": [
        "length(unique(df_master$CLNT_ID)) # 고유 ID는 9만 33397명"
      ],
      "execution_count": 61,
      "outputs": [
        {
          "output_type": "display_data",
          "data": {
            "text/plain": [
              "[1] 93397"
            ],
            "text/latex": "93397",
            "text/markdown": "93397",
            "text/html": [
              "93397"
            ]
          },
          "metadata": {
            "tags": []
          }
        }
      ]
    },
    {
      "cell_type": "code",
      "metadata": {
        "colab": {
          "base_uri": "https://localhost:8080/"
        },
        "id": "kwKVHInvmw2S",
        "outputId": "aaaec71c-7415-4363-8d4f-506e030103d0"
      },
      "source": [
        "install.packages(\"plm\")\n",
        "library(plm)"
      ],
      "execution_count": 62,
      "outputs": [
        {
          "output_type": "stream",
          "text": [
            "Installing package into ‘/usr/local/lib/R/site-library’\n",
            "(as ‘lib’ is unspecified)\n",
            "\n"
          ],
          "name": "stderr"
        }
      ]
    },
    {
      "cell_type": "code",
      "metadata": {
        "id": "Q1K7sWQfIUOx"
      },
      "source": [
        "df_master_health <- subset(df_master, CLAC1_NM==\"건강식품\") \n",
        "df_master_ice <- subset(df_master, CLAC1_NM==\"냉동식품\") \n",
        "df_master_ref <- subset(df_master, CLAC1_NM==\"냉장식품\") \n",
        "df_master_fruit <- subset(df_master, CLAC1_NM==\"과일\")\n",
        "df_master_meet  <- subset(df_master, CLAC1_NM==\"축산물\")\n",
        "#따로 분석해볼까 싶어서 분리"
      ],
      "execution_count": null,
      "outputs": []
    },
    {
      "cell_type": "code",
      "metadata": {
        "colab": {
          "base_uri": "https://localhost:8080/"
        },
        "id": "5hYUeZQ7GMau",
        "outputId": "05a6a102-eb73-4d60-ad23-8a86615c2be5"
      },
      "source": [
        "library(dplyr)\n",
        "z <- data.frame(df_master %>% group_by(SESS_DT, CLNT_ID) %>% summarise(AMOUNT=sum(PD_AMOUNT)))"
      ],
      "execution_count": 146,
      "outputs": [
        {
          "output_type": "stream",
          "text": [
            "`summarise()` has grouped output by 'SESS_DT'. You can override using the `.groups` argument.\n",
            "\n"
          ],
          "name": "stderr"
        }
      ]
    },
    {
      "cell_type": "code",
      "metadata": {
        "colab": {
          "base_uri": "https://localhost:8080/",
          "height": 286
        },
        "id": "RWeKqPETlFhK",
        "outputId": "a095d73b-65f4-451e-a5d5-b33f0a387578"
      },
      "source": [
        "head(z)"
      ],
      "execution_count": 147,
      "outputs": [
        {
          "output_type": "display_data",
          "data": {
            "text/plain": [
              "  SESS_DT    CLNT_ID AMOUNT\n",
              "1 2018-04-01 13597   39600 \n",
              "2 2018-04-01 13996    9000 \n",
              "3 2018-04-01 39411   54700 \n",
              "4 2018-04-01 51795   53800 \n",
              "5 2018-04-01 89523   23900 \n",
              "6 2018-04-01 93514   67500 "
            ],
            "text/latex": "A data.frame: 6 × 3\n\\begin{tabular}{r|lll}\n  & SESS\\_DT & CLNT\\_ID & AMOUNT\\\\\n  & <dttm> & <dbl> & <dbl>\\\\\n\\hline\n\t1 & 2018-04-01 & 13597 & 39600\\\\\n\t2 & 2018-04-01 & 13996 &  9000\\\\\n\t3 & 2018-04-01 & 39411 & 54700\\\\\n\t4 & 2018-04-01 & 51795 & 53800\\\\\n\t5 & 2018-04-01 & 89523 & 23900\\\\\n\t6 & 2018-04-01 & 93514 & 67500\\\\\n\\end{tabular}\n",
            "text/markdown": "\nA data.frame: 6 × 3\n\n| <!--/--> | SESS_DT &lt;dttm&gt; | CLNT_ID &lt;dbl&gt; | AMOUNT &lt;dbl&gt; |\n|---|---|---|---|\n| 1 | 2018-04-01 | 13597 | 39600 |\n| 2 | 2018-04-01 | 13996 |  9000 |\n| 3 | 2018-04-01 | 39411 | 54700 |\n| 4 | 2018-04-01 | 51795 | 53800 |\n| 5 | 2018-04-01 | 89523 | 23900 |\n| 6 | 2018-04-01 | 93514 | 67500 |\n\n",
            "text/html": [
              "<table class=\"dataframe\">\n",
              "<caption>A data.frame: 6 × 3</caption>\n",
              "<thead>\n",
              "\t<tr><th></th><th scope=col>SESS_DT</th><th scope=col>CLNT_ID</th><th scope=col>AMOUNT</th></tr>\n",
              "\t<tr><th></th><th scope=col>&lt;dttm&gt;</th><th scope=col>&lt;dbl&gt;</th><th scope=col>&lt;dbl&gt;</th></tr>\n",
              "</thead>\n",
              "<tbody>\n",
              "\t<tr><th scope=row>1</th><td>2018-04-01</td><td>13597</td><td>39600</td></tr>\n",
              "\t<tr><th scope=row>2</th><td>2018-04-01</td><td>13996</td><td> 9000</td></tr>\n",
              "\t<tr><th scope=row>3</th><td>2018-04-01</td><td>39411</td><td>54700</td></tr>\n",
              "\t<tr><th scope=row>4</th><td>2018-04-01</td><td>51795</td><td>53800</td></tr>\n",
              "\t<tr><th scope=row>5</th><td>2018-04-01</td><td>89523</td><td>23900</td></tr>\n",
              "\t<tr><th scope=row>6</th><td>2018-04-01</td><td>93514</td><td>67500</td></tr>\n",
              "</tbody>\n",
              "</table>\n"
            ]
          },
          "metadata": {
            "tags": []
          }
        }
      ]
    },
    {
      "cell_type": "code",
      "metadata": {
        "colab": {
          "base_uri": "https://localhost:8080/"
        },
        "id": "qb6mGjs9e2XH",
        "outputId": "b1efbafc-53f6-4e7a-d6a2-ad32bf494e9e"
      },
      "source": [
        "str(z)"
      ],
      "execution_count": 148,
      "outputs": [
        {
          "output_type": "stream",
          "text": [
            "'data.frame':\t131715 obs. of  3 variables:\n",
            " $ SESS_DT: POSIXct, format: \"2018-04-01\" \"2018-04-01\" ...\n",
            " $ CLNT_ID: num  13597 13996 39411 51795 89523 ...\n",
            " $ AMOUNT : num  39600 9000 54700 53800 23900 ...\n"
          ],
          "name": "stdout"
        }
      ]
    },
    {
      "cell_type": "code",
      "metadata": {
        "id": "ItJnz77LJHZ8"
      },
      "source": [
        "#기상 변수만 추출\n",
        "df_weather<- data.frame(df_master %>%\n",
        "  select(SESS_DT,CLAC1_NM,SEASON,TEMP_AVG,RAINFALL_DAY,HUMID_AVG,DUST))\n",
        "\n",
        "df_weather<- df_weather[-which(duplicated(df_master$SESS_DT)),]"
      ],
      "execution_count": 149,
      "outputs": []
    },
    {
      "cell_type": "code",
      "metadata": {
        "colab": {
          "base_uri": "https://localhost:8080/"
        },
        "id": "Yfd9WWpDRxYS",
        "outputId": "3f909ec8-452e-4c3c-cb3c-64aa06e5aae4"
      },
      "source": [
        "str(df_weather)"
      ],
      "execution_count": 150,
      "outputs": [
        {
          "output_type": "stream",
          "text": [
            "'data.frame':\t183 obs. of  7 variables:\n",
            " $ SESS_DT     : POSIXct, format: \"2018-08-13\" \"2018-05-16\" ...\n",
            " $ CLAC1_NM    : chr  \"건강식품\" \"건강식품\" \"건강식품\" \"건강식품\" ...\n",
            " $ SEASON      : chr  \"summer\" \"spring\" \"spring\" \"summer\" ...\n",
            " $ TEMP_AVG    : num  30.5 23.2 22.3 26.1 21.5 14.6 23.8 23.7 21.9 24 ...\n",
            " $ RAINFALL_DAY: num  1 28.3 0 0 0 0 0 96.5 0 0 ...\n",
            " $ HUMID_AVG   : num  68.6 95.4 49.8 81 78.6 22.9 65.1 92.4 68 56.5 ...\n",
            " $ DUST        : num  33 38 44 19 45 29 25 11 29 13 ...\n"
          ],
          "name": "stdout"
        }
      ]
    },
    {
      "cell_type": "code",
      "metadata": {
        "colab": {
          "base_uri": "https://localhost:8080/",
          "height": 303
        },
        "id": "i3e7odRIIgfw",
        "outputId": "dcb8c6f5-ef30-4752-ce58-e7b8b10a577e"
      },
      "source": [
        "y <- left_join(z,df_weather,by='SESS_DT')\n",
        "head(y)\n",
        "nrow(y)"
      ],
      "execution_count": 151,
      "outputs": [
        {
          "output_type": "display_data",
          "data": {
            "text/plain": [
              "  SESS_DT    CLNT_ID AMOUNT CLAC1_NM SEASON TEMP_AVG RAINFALL_DAY HUMID_AVG\n",
              "1 2018-04-01 13597   39600  건강식품 spring 17.5     0            52.4     \n",
              "2 2018-04-01 13996    9000  건강식품 spring 17.5     0            52.4     \n",
              "3 2018-04-01 39411   54700  건강식품 spring 17.5     0            52.4     \n",
              "4 2018-04-01 51795   53800  건강식품 spring 17.5     0            52.4     \n",
              "5 2018-04-01 89523   23900  건강식품 spring 17.5     0            52.4     \n",
              "6 2018-04-01 93514   67500  건강식품 spring 17.5     0            52.4     \n",
              "  DUST\n",
              "1 30  \n",
              "2 30  \n",
              "3 30  \n",
              "4 30  \n",
              "5 30  \n",
              "6 30  "
            ],
            "text/latex": "A data.frame: 6 × 9\n\\begin{tabular}{r|lllllllll}\n  & SESS\\_DT & CLNT\\_ID & AMOUNT & CLAC1\\_NM & SEASON & TEMP\\_AVG & RAINFALL\\_DAY & HUMID\\_AVG & DUST\\\\\n  & <dttm> & <dbl> & <dbl> & <chr> & <chr> & <dbl> & <dbl> & <dbl> & <dbl>\\\\\n\\hline\n\t1 & 2018-04-01 & 13597 & 39600 & 건강식품 & spring & 17.5 & 0 & 52.4 & 30\\\\\n\t2 & 2018-04-01 & 13996 &  9000 & 건강식품 & spring & 17.5 & 0 & 52.4 & 30\\\\\n\t3 & 2018-04-01 & 39411 & 54700 & 건강식품 & spring & 17.5 & 0 & 52.4 & 30\\\\\n\t4 & 2018-04-01 & 51795 & 53800 & 건강식품 & spring & 17.5 & 0 & 52.4 & 30\\\\\n\t5 & 2018-04-01 & 89523 & 23900 & 건강식품 & spring & 17.5 & 0 & 52.4 & 30\\\\\n\t6 & 2018-04-01 & 93514 & 67500 & 건강식품 & spring & 17.5 & 0 & 52.4 & 30\\\\\n\\end{tabular}\n",
            "text/markdown": "\nA data.frame: 6 × 9\n\n| <!--/--> | SESS_DT &lt;dttm&gt; | CLNT_ID &lt;dbl&gt; | AMOUNT &lt;dbl&gt; | CLAC1_NM &lt;chr&gt; | SEASON &lt;chr&gt; | TEMP_AVG &lt;dbl&gt; | RAINFALL_DAY &lt;dbl&gt; | HUMID_AVG &lt;dbl&gt; | DUST &lt;dbl&gt; |\n|---|---|---|---|---|---|---|---|---|---|\n| 1 | 2018-04-01 | 13597 | 39600 | 건강식품 | spring | 17.5 | 0 | 52.4 | 30 |\n| 2 | 2018-04-01 | 13996 |  9000 | 건강식품 | spring | 17.5 | 0 | 52.4 | 30 |\n| 3 | 2018-04-01 | 39411 | 54700 | 건강식품 | spring | 17.5 | 0 | 52.4 | 30 |\n| 4 | 2018-04-01 | 51795 | 53800 | 건강식품 | spring | 17.5 | 0 | 52.4 | 30 |\n| 5 | 2018-04-01 | 89523 | 23900 | 건강식품 | spring | 17.5 | 0 | 52.4 | 30 |\n| 6 | 2018-04-01 | 93514 | 67500 | 건강식품 | spring | 17.5 | 0 | 52.4 | 30 |\n\n",
            "text/html": [
              "<table class=\"dataframe\">\n",
              "<caption>A data.frame: 6 × 9</caption>\n",
              "<thead>\n",
              "\t<tr><th></th><th scope=col>SESS_DT</th><th scope=col>CLNT_ID</th><th scope=col>AMOUNT</th><th scope=col>CLAC1_NM</th><th scope=col>SEASON</th><th scope=col>TEMP_AVG</th><th scope=col>RAINFALL_DAY</th><th scope=col>HUMID_AVG</th><th scope=col>DUST</th></tr>\n",
              "\t<tr><th></th><th scope=col>&lt;dttm&gt;</th><th scope=col>&lt;dbl&gt;</th><th scope=col>&lt;dbl&gt;</th><th scope=col>&lt;chr&gt;</th><th scope=col>&lt;chr&gt;</th><th scope=col>&lt;dbl&gt;</th><th scope=col>&lt;dbl&gt;</th><th scope=col>&lt;dbl&gt;</th><th scope=col>&lt;dbl&gt;</th></tr>\n",
              "</thead>\n",
              "<tbody>\n",
              "\t<tr><th scope=row>1</th><td>2018-04-01</td><td>13597</td><td>39600</td><td>건강식품</td><td>spring</td><td>17.5</td><td>0</td><td>52.4</td><td>30</td></tr>\n",
              "\t<tr><th scope=row>2</th><td>2018-04-01</td><td>13996</td><td> 9000</td><td>건강식품</td><td>spring</td><td>17.5</td><td>0</td><td>52.4</td><td>30</td></tr>\n",
              "\t<tr><th scope=row>3</th><td>2018-04-01</td><td>39411</td><td>54700</td><td>건강식품</td><td>spring</td><td>17.5</td><td>0</td><td>52.4</td><td>30</td></tr>\n",
              "\t<tr><th scope=row>4</th><td>2018-04-01</td><td>51795</td><td>53800</td><td>건강식품</td><td>spring</td><td>17.5</td><td>0</td><td>52.4</td><td>30</td></tr>\n",
              "\t<tr><th scope=row>5</th><td>2018-04-01</td><td>89523</td><td>23900</td><td>건강식품</td><td>spring</td><td>17.5</td><td>0</td><td>52.4</td><td>30</td></tr>\n",
              "\t<tr><th scope=row>6</th><td>2018-04-01</td><td>93514</td><td>67500</td><td>건강식품</td><td>spring</td><td>17.5</td><td>0</td><td>52.4</td><td>30</td></tr>\n",
              "</tbody>\n",
              "</table>\n"
            ]
          },
          "metadata": {
            "tags": []
          }
        },
        {
          "output_type": "display_data",
          "data": {
            "text/plain": [
              "[1] 131715"
            ],
            "text/latex": "131715",
            "text/markdown": "131715",
            "text/html": [
              "131715"
            ]
          },
          "metadata": {
            "tags": []
          }
        }
      ]
    },
    {
      "cell_type": "code",
      "metadata": {
        "colab": {
          "base_uri": "https://localhost:8080/",
          "height": 52
        },
        "id": "4xi72ayUQFSs",
        "outputId": "f5d8b2e2-4b99-432c-acdc-534b41a346ca"
      },
      "source": [
        "length(unique(y$SESS_DT)) #아까 duplicated 했으니 총 183일이 맞음. \n",
        "length(unique(y$CLNT_ID))"
      ],
      "execution_count": 163,
      "outputs": [
        {
          "output_type": "display_data",
          "data": {
            "text/plain": [
              "[1] 183"
            ],
            "text/latex": "183",
            "text/markdown": "183",
            "text/html": [
              "183"
            ]
          },
          "metadata": {
            "tags": []
          }
        },
        {
          "output_type": "display_data",
          "data": {
            "text/plain": [
              "[1] 93397"
            ],
            "text/latex": "93397",
            "text/markdown": "93397",
            "text/html": [
              "93397"
            ]
          },
          "metadata": {
            "tags": []
          }
        }
      ]
    },
    {
      "cell_type": "code",
      "metadata": {
        "id": "4uMgWSlRN8m5"
      },
      "source": [
        "y$MONTH <- as.character(y$SESS_DT)"
      ],
      "execution_count": 131,
      "outputs": []
    },
    {
      "cell_type": "code",
      "metadata": {
        "colab": {
          "base_uri": "https://localhost:8080/",
          "height": 286
        },
        "id": "GqQ7VugKOd_x",
        "outputId": "0b5bd8f4-7c9c-4285-f8c7-d74f1dbe32ab"
      },
      "source": [
        "head(y)"
      ],
      "execution_count": 153,
      "outputs": [
        {
          "output_type": "display_data",
          "data": {
            "text/plain": [
              "  SESS_DT    CLNT_ID AMOUNT CLAC1_NM SEASON TEMP_AVG RAINFALL_DAY HUMID_AVG\n",
              "1 2018-04-01 13597   39600  건강식품 spring 17.5     0            52.4     \n",
              "2 2018-04-01 13996    9000  건강식품 spring 17.5     0            52.4     \n",
              "3 2018-04-01 39411   54700  건강식품 spring 17.5     0            52.4     \n",
              "4 2018-04-01 51795   53800  건강식품 spring 17.5     0            52.4     \n",
              "5 2018-04-01 89523   23900  건강식품 spring 17.5     0            52.4     \n",
              "6 2018-04-01 93514   67500  건강식품 spring 17.5     0            52.4     \n",
              "  DUST\n",
              "1 30  \n",
              "2 30  \n",
              "3 30  \n",
              "4 30  \n",
              "5 30  \n",
              "6 30  "
            ],
            "text/latex": "A data.frame: 6 × 9\n\\begin{tabular}{r|lllllllll}\n  & SESS\\_DT & CLNT\\_ID & AMOUNT & CLAC1\\_NM & SEASON & TEMP\\_AVG & RAINFALL\\_DAY & HUMID\\_AVG & DUST\\\\\n  & <dttm> & <dbl> & <dbl> & <chr> & <chr> & <dbl> & <dbl> & <dbl> & <dbl>\\\\\n\\hline\n\t1 & 2018-04-01 & 13597 & 39600 & 건강식품 & spring & 17.5 & 0 & 52.4 & 30\\\\\n\t2 & 2018-04-01 & 13996 &  9000 & 건강식품 & spring & 17.5 & 0 & 52.4 & 30\\\\\n\t3 & 2018-04-01 & 39411 & 54700 & 건강식품 & spring & 17.5 & 0 & 52.4 & 30\\\\\n\t4 & 2018-04-01 & 51795 & 53800 & 건강식품 & spring & 17.5 & 0 & 52.4 & 30\\\\\n\t5 & 2018-04-01 & 89523 & 23900 & 건강식품 & spring & 17.5 & 0 & 52.4 & 30\\\\\n\t6 & 2018-04-01 & 93514 & 67500 & 건강식품 & spring & 17.5 & 0 & 52.4 & 30\\\\\n\\end{tabular}\n",
            "text/markdown": "\nA data.frame: 6 × 9\n\n| <!--/--> | SESS_DT &lt;dttm&gt; | CLNT_ID &lt;dbl&gt; | AMOUNT &lt;dbl&gt; | CLAC1_NM &lt;chr&gt; | SEASON &lt;chr&gt; | TEMP_AVG &lt;dbl&gt; | RAINFALL_DAY &lt;dbl&gt; | HUMID_AVG &lt;dbl&gt; | DUST &lt;dbl&gt; |\n|---|---|---|---|---|---|---|---|---|---|\n| 1 | 2018-04-01 | 13597 | 39600 | 건강식품 | spring | 17.5 | 0 | 52.4 | 30 |\n| 2 | 2018-04-01 | 13996 |  9000 | 건강식품 | spring | 17.5 | 0 | 52.4 | 30 |\n| 3 | 2018-04-01 | 39411 | 54700 | 건강식품 | spring | 17.5 | 0 | 52.4 | 30 |\n| 4 | 2018-04-01 | 51795 | 53800 | 건강식품 | spring | 17.5 | 0 | 52.4 | 30 |\n| 5 | 2018-04-01 | 89523 | 23900 | 건강식품 | spring | 17.5 | 0 | 52.4 | 30 |\n| 6 | 2018-04-01 | 93514 | 67500 | 건강식품 | spring | 17.5 | 0 | 52.4 | 30 |\n\n",
            "text/html": [
              "<table class=\"dataframe\">\n",
              "<caption>A data.frame: 6 × 9</caption>\n",
              "<thead>\n",
              "\t<tr><th></th><th scope=col>SESS_DT</th><th scope=col>CLNT_ID</th><th scope=col>AMOUNT</th><th scope=col>CLAC1_NM</th><th scope=col>SEASON</th><th scope=col>TEMP_AVG</th><th scope=col>RAINFALL_DAY</th><th scope=col>HUMID_AVG</th><th scope=col>DUST</th></tr>\n",
              "\t<tr><th></th><th scope=col>&lt;dttm&gt;</th><th scope=col>&lt;dbl&gt;</th><th scope=col>&lt;dbl&gt;</th><th scope=col>&lt;chr&gt;</th><th scope=col>&lt;chr&gt;</th><th scope=col>&lt;dbl&gt;</th><th scope=col>&lt;dbl&gt;</th><th scope=col>&lt;dbl&gt;</th><th scope=col>&lt;dbl&gt;</th></tr>\n",
              "</thead>\n",
              "<tbody>\n",
              "\t<tr><th scope=row>1</th><td>2018-04-01</td><td>13597</td><td>39600</td><td>건강식품</td><td>spring</td><td>17.5</td><td>0</td><td>52.4</td><td>30</td></tr>\n",
              "\t<tr><th scope=row>2</th><td>2018-04-01</td><td>13996</td><td> 9000</td><td>건강식품</td><td>spring</td><td>17.5</td><td>0</td><td>52.4</td><td>30</td></tr>\n",
              "\t<tr><th scope=row>3</th><td>2018-04-01</td><td>39411</td><td>54700</td><td>건강식품</td><td>spring</td><td>17.5</td><td>0</td><td>52.4</td><td>30</td></tr>\n",
              "\t<tr><th scope=row>4</th><td>2018-04-01</td><td>51795</td><td>53800</td><td>건강식품</td><td>spring</td><td>17.5</td><td>0</td><td>52.4</td><td>30</td></tr>\n",
              "\t<tr><th scope=row>5</th><td>2018-04-01</td><td>89523</td><td>23900</td><td>건강식품</td><td>spring</td><td>17.5</td><td>0</td><td>52.4</td><td>30</td></tr>\n",
              "\t<tr><th scope=row>6</th><td>2018-04-01</td><td>93514</td><td>67500</td><td>건강식품</td><td>spring</td><td>17.5</td><td>0</td><td>52.4</td><td>30</td></tr>\n",
              "</tbody>\n",
              "</table>\n"
            ]
          },
          "metadata": {
            "tags": []
          }
        }
      ]
    },
    {
      "cell_type": "code",
      "metadata": {
        "id": "Qo74_O6PbI-Z"
      },
      "source": [
        "y_meet$CLNT_ID  <- as.character(y_meet$CLNT_ID)"
      ],
      "execution_count": 92,
      "outputs": []
    },
    {
      "cell_type": "code",
      "metadata": {
        "colab": {
          "base_uri": "https://localhost:8080/",
          "height": 35
        },
        "id": "UnNrvoOzkm3U",
        "outputId": "045e3ba3-6779-4a89-9ea6-945281b951ed"
      },
      "source": [
        "any(table(y$SESS_DT, y$CLNT_ID) !=1)"
      ],
      "execution_count": 162,
      "outputs": [
        {
          "output_type": "display_data",
          "data": {
            "text/plain": [
              "[1] TRUE"
            ],
            "text/latex": "TRUE",
            "text/markdown": "TRUE",
            "text/html": [
              "TRUE"
            ]
          },
          "metadata": {
            "tags": []
          }
        }
      ]
    },
    {
      "cell_type": "code",
      "metadata": {
        "id": "OLPG4aBCSfrY"
      },
      "source": [
        "#pooltest 함수를 통해 고정효과 모델에 대한 검정\n",
        "pooltest(amount~ factor(SEASON)+TEMP_AVG+RAINFALL_DAY+HUMID_AVG+DUST, index=c(\"CLNT_ID\",\"MONTH\"), data=y, model=\"within\")"
      ],
      "execution_count": null,
      "outputs": []
    },
    {
      "cell_type": "code",
      "metadata": {
        "colab": {
          "base_uri": "https://localhost:8080/",
          "height": 641
        },
        "id": "J1fzM1YQATN8",
        "outputId": "3cb76068-3457-442a-bd18-06e43deffccd"
      },
      "source": [
        "fe <- plm(log(AMOUNT)~ TEMP_AVG+RAINFALL_DAY+HUMID_AVG+DUST, index=c(\"CLNT_ID\", \"SESS_DT\"), data=y, model=\"within\")\n",
        "summary(fe)"
      ],
      "execution_count": 166,
      "outputs": [
        {
          "output_type": "display_data",
          "data": {
            "text/plain": [
              "Oneway (individual) effect Random Effect Model \n",
              "   (Swamy-Arora's transformation)\n",
              "\n",
              "Call:\n",
              "plm(formula = log(AMOUNT) ~ TEMP_AVG + RAINFALL_DAY + HUMID_AVG + \n",
              "    DUST, data = y, model = \"random\", index = c(\"CLNT_ID\", \"SESS_DT\"))\n",
              "\n",
              "Unbalanced Panel: n = 93397, T = 1-109, N = 131715\n",
              "\n",
              "Effects:\n",
              "                 var std.dev share\n",
              "idiosyncratic 0.4728  0.6876 0.422\n",
              "individual    0.6471  0.8044 0.578\n",
              "theta:\n",
              "   Min. 1st Qu.  Median    Mean 3rd Qu.    Max. \n",
              " 0.3503  0.3503  0.3503  0.4452  0.4827  0.9184 \n",
              "\n",
              "Residuals:\n",
              "   Min. 1st Qu.  Median    Mean 3rd Qu.    Max. \n",
              "-5.2435 -0.4502 -0.0352 -0.0052  0.4195  3.6647 \n",
              "\n",
              "Coefficients:\n",
              "                Estimate  Std. Error  z-value  Pr(>|z|)    \n",
              "(Intercept)  11.06022813  0.01810138 611.0156 < 2.2e-16 ***\n",
              "TEMP_AVG     -0.00812202  0.00046770 -17.3661 < 2.2e-16 ***\n",
              "RAINFALL_DAY -0.00022047  0.00018580  -1.1866   0.23539    \n",
              "HUMID_AVG     0.00034926  0.00019674   1.7752   0.07586 .  \n",
              "DUST         -0.00086508  0.00017393  -4.9738 6.566e-07 ***\n",
              "---\n",
              "Signif. codes:  0 ‘***’ 0.001 ‘**’ 0.01 ‘*’ 0.05 ‘.’ 0.1 ‘ ’ 1\n",
              "\n",
              "Total Sum of Squares:    297710\n",
              "Residual Sum of Squares: 61511\n",
              "R-Squared:      0.79365\n",
              "Adj. R-Squared: 0.79364\n",
              "Chisq: 308.986 on 4 DF, p-value: < 2.22e-16"
            ]
          },
          "metadata": {
            "tags": []
          }
        }
      ]
    },
    {
      "cell_type": "code",
      "metadata": {
        "colab": {
          "base_uri": "https://localhost:8080/",
          "height": 121
        },
        "id": "012GmwY6smsY",
        "outputId": "737b5e90-fa32-49b5-cdc2-e994b5d2f045"
      },
      "source": [
        "# 확률효과를 검정하기 위한 LM 검정 통계량\n",
        "plmtest(log(PD_AMOUNT) ~ factor(SEASON)+TEMP_AVG+RAINFALL_DAY+HUMID_AVG+DUST, index=c(\"SESS_DT\"), data=df_master, model=\"random\")\n",
        "\n",
        "#확률효과 검정 결과에 의하면 1%유의 수준에서 확률효과가 없다는 귀무가설을 기각하게 되어 패널 자료에 통계적으로 유의미한 확률효과가 있다고 볼 수 있다. "
      ],
      "execution_count": null,
      "outputs": [
        {
          "output_type": "display_data",
          "data": {
            "text/plain": [
              "\n",
              "\tLagrange Multiplier Test - (Honda) for unbalanced panels\n",
              "\n",
              "data:  log(PD_AMOUNT) ~ factor(SEASON) + TEMP_AVG + RAINFALL_DAY + HUMID_AVG +  ...\n",
              "normal = 238.45, p-value < 2.2e-16\n",
              "alternative hypothesis: significant effects\n"
            ]
          },
          "metadata": {
            "tags": []
          }
        }
      ]
    },
    {
      "cell_type": "code",
      "metadata": {
        "id": "QFweh3iyd7E5",
        "colab": {
          "base_uri": "https://localhost:8080/",
          "height": 218
        },
        "outputId": "27effc27-012b-40b1-8735-53f2e4c4b807"
      },
      "source": [
        "b <- plm(log(PD_AMOUNT) ~ factor(SEASON)+TEMP_AVG+RAINFALL_DAY+HUMID_AVG+DUST, index=c(\"CLNT_ID\", \"SESS_DT\"), data=df_master, model=\"random\")\n",
        "summary(b)\n",
        "#와씨 r제곱 0.86"
      ],
      "execution_count": null,
      "outputs": [
        {
          "output_type": "error",
          "ename": "ERROR",
          "evalue": "ignored",
          "traceback": [
            "Error in pdata.frame(data, index): variable CLNT_ID does not exist (individual index)\nTraceback:\n",
            "1. plm(log(PD_AMOUNT) ~ factor(SEASON) + TEMP_AVG + RAINFALL_DAY + \n .     HUMID_AVG + DUST, index = c(\"CLNT_ID\", \"SESS_DT\"), data = df_master, \n .     model = \"random\")",
            "2. pdata.frame(data, index)",
            "3. stop(paste(\"variable \", id.name, \" does not exist (individual index)\", \n .     sep = \"\"))"
          ]
        }
      ]
    },
    {
      "cell_type": "code",
      "metadata": {
        "colab": {
          "base_uri": "https://localhost:8080/",
          "height": 121
        },
        "id": "AUgYVIJWnSgn",
        "outputId": "d23b2b9b-f684-45b0-c598-c2e2998a8ef7"
      },
      "source": [
        "phtest(a, b)"
      ],
      "execution_count": null,
      "outputs": [
        {
          "output_type": "display_data",
          "data": {
            "text/plain": [
              "\n",
              "\tHausman Test\n",
              "\n",
              "data:  log(PD_AMOUNT) ~ factor(SEASON) + TEMP_AVG + RAINFALL_DAY + HUMID_AVG +  ...\n",
              "chisq = 570.75, df = 6, p-value < 2.2e-16\n",
              "alternative hypothesis: one model is inconsistent\n"
            ]
          },
          "metadata": {
            "tags": []
          }
        }
      ]
    },
    {
      "cell_type": "markdown",
      "metadata": {
        "id": "wGoWUSV-sxXc"
      },
      "source": [
        "### Hausman Test 해석\n",
        "\n",
        "카이제곱 통계량은 570.75으로 1% 유의수준에서 고정효과모형과 확률효과모형이 동일하다는 귀무가설을 기각한다. 따라서 본 연구에서 사용한 데이터세트의 경우 확률효과모형이 고정효과모형에 비해 설명력이 더 높은 타당한 모형이라 판단하였다."
      ]
    },
    {
      "cell_type": "code",
      "metadata": {
        "colab": {
          "base_uri": "https://localhost:8080/",
          "height": 287
        },
        "id": "WbppmuwzO7vx",
        "outputId": "174e2c6f-ec68-4f95-ffa6-9fc45340cf2c"
      },
      "source": [
        "c <- plm(log(PD_AMOUNT) ~ factor(SEASON)+TEMP_AVG+RAINFALL_DAY+HUMID_AVG+DUST, index=c(\"CLNT_ID\"), data=df_master, model=\"between\", effect = \"twoways\")\n",
        "summary(c)"
      ],
      "execution_count": null,
      "outputs": [
        {
          "output_type": "error",
          "ename": "ERROR",
          "evalue": "ignored",
          "traceback": [
            "Error in model.matrix.pdata.frame(data, rhs = 1, model = model, effect = effect, : twoways effect only relevant for within, random and pooling models\nTraceback:\n",
            "1. plm(log(PD_AMOUNT) ~ factor(SEASON) + TEMP_AVG + RAINFALL_DAY + \n .     HUMID_AVG + DUST, index = c(\"CLNT_ID\"), data = df_master, \n .     model = \"between\", effect = \"twoways\")",
            "2. plm.fit(data, model, effect, random.method, random.models, random.dfcor, \n .     inst.method)",
            "3. model.matrix(data, rhs = 1, model = model, effect = effect, theta = theta, \n .     cstcovar.rm = \"all\")",
            "4. model.matrix.pdata.frame(data, rhs = 1, model = model, effect = effect, \n .     theta = theta, cstcovar.rm = \"all\")",
            "5. stop(\"twoways effect only relevant for within, random and pooling models\")"
          ]
        }
      ]
    },
    {
      "cell_type": "code",
      "metadata": {
        "id": "HWM1nJtvPE-Q"
      },
      "source": [
        "d <- plm(log(PD_AMOUNT) ~ factor(SEASON)+TEMP_AVG+RAINFALL_DAY+HUMID_AVG+DUST, index=c(\"CLNT_ID\"), data=df_master, model=\"within\", effect = \"twoways\")\n",
        "summary(d)"
      ],
      "execution_count": null,
      "outputs": []
    },
    {
      "cell_type": "markdown",
      "metadata": {
        "id": "2Gd4osIOlZrU"
      },
      "source": [
        "# 나를 괴롭혔던 문제 \n",
        "\n",
        "## ID와 Time의 중복 \n",
        "\n",
        "패널 회귀분석에서는(적어도 plm함수에서는) ID와 Time이 짝을 이뤘을 때 중복이 있으면 안된다. 예를 들어 이름(ID)에 김철수, 김영희, 김민수가 있고 각각 출생연도(Time)이 1995, 1996, 1995와 같이 ID와 Time이 짝을 이루었을 때 중복이 되는 값이 없어야 한다. 그러나 본 Lpoint 데이터세트의 경우 한 ID에 대해 세션 날짜가 중복되는 경우가 많았다. 이유는 세션 ID라는 별도의 변수가 있었기 때문에 세션ID가 중복되지 않을 지언정 그 세션 ID에 해당하는 세션 날짜는 중복이 발생하였다. \n",
        "\n",
        "따라서 내가 index로 세션 날짜를 포함시키니 duplicate 문제가 발생함! \n",
        "그래서 groupby를 통해 한 CLNT_ID의 SESS_DT 안에서 합계 구매액을 구한 데이터 프레임을 생성하고 거기에 다시 기상 변수들을 join 시켰음. \n",
        "\n"
      ]
    },
    {
      "cell_type": "code",
      "metadata": {
        "id": "HF3oW6rBCpQ-"
      },
      "source": [
        "data(\"Produc\", package = \"plm\")"
      ],
      "execution_count": null,
      "outputs": []
    },
    {
      "cell_type": "code",
      "metadata": {
        "colab": {
          "base_uri": "https://localhost:8080/",
          "height": 303
        },
        "id": "Q5TL-6z2Cqgk",
        "outputId": "4fb46c88-fcf3-490e-a702-2242f4530363"
      },
      "source": [
        "head(Produc)\n",
        "nrow(Produc)"
      ],
      "execution_count": null,
      "outputs": [
        {
          "output_type": "display_data",
          "data": {
            "text/plain": [
              "  state   year region pcap     hwy     water   util    pc       gsp   emp   \n",
              "1 ALABAMA 1970 6      15032.67 7325.80 1655.68 6051.20 35793.80 28418 1010.5\n",
              "2 ALABAMA 1971 6      15501.94 7525.94 1721.02 6254.98 37299.91 29375 1021.9\n",
              "3 ALABAMA 1972 6      15972.41 7765.42 1764.75 6442.23 38670.30 31303 1072.3\n",
              "4 ALABAMA 1973 6      16406.26 7907.66 1742.41 6756.19 40084.01 33430 1135.5\n",
              "5 ALABAMA 1974 6      16762.67 8025.52 1734.85 7002.29 42057.31 33749 1169.8\n",
              "6 ALABAMA 1975 6      17316.26 8158.23 1752.27 7405.76 43971.71 33604 1155.4\n",
              "  unemp\n",
              "1 4.7  \n",
              "2 5.2  \n",
              "3 4.7  \n",
              "4 3.9  \n",
              "5 5.5  \n",
              "6 7.7  "
            ],
            "text/latex": "A data.frame: 6 × 11\n\\begin{tabular}{r|lllllllllll}\n  & state & year & region & pcap & hwy & water & util & pc & gsp & emp & unemp\\\\\n  & <fct> & <int> & <fct> & <dbl> & <dbl> & <dbl> & <dbl> & <dbl> & <int> & <dbl> & <dbl>\\\\\n\\hline\n\t1 & ALABAMA & 1970 & 6 & 15032.67 & 7325.80 & 1655.68 & 6051.20 & 35793.80 & 28418 & 1010.5 & 4.7\\\\\n\t2 & ALABAMA & 1971 & 6 & 15501.94 & 7525.94 & 1721.02 & 6254.98 & 37299.91 & 29375 & 1021.9 & 5.2\\\\\n\t3 & ALABAMA & 1972 & 6 & 15972.41 & 7765.42 & 1764.75 & 6442.23 & 38670.30 & 31303 & 1072.3 & 4.7\\\\\n\t4 & ALABAMA & 1973 & 6 & 16406.26 & 7907.66 & 1742.41 & 6756.19 & 40084.01 & 33430 & 1135.5 & 3.9\\\\\n\t5 & ALABAMA & 1974 & 6 & 16762.67 & 8025.52 & 1734.85 & 7002.29 & 42057.31 & 33749 & 1169.8 & 5.5\\\\\n\t6 & ALABAMA & 1975 & 6 & 17316.26 & 8158.23 & 1752.27 & 7405.76 & 43971.71 & 33604 & 1155.4 & 7.7\\\\\n\\end{tabular}\n",
            "text/markdown": "\nA data.frame: 6 × 11\n\n| <!--/--> | state &lt;fct&gt; | year &lt;int&gt; | region &lt;fct&gt; | pcap &lt;dbl&gt; | hwy &lt;dbl&gt; | water &lt;dbl&gt; | util &lt;dbl&gt; | pc &lt;dbl&gt; | gsp &lt;int&gt; | emp &lt;dbl&gt; | unemp &lt;dbl&gt; |\n|---|---|---|---|---|---|---|---|---|---|---|---|\n| 1 | ALABAMA | 1970 | 6 | 15032.67 | 7325.80 | 1655.68 | 6051.20 | 35793.80 | 28418 | 1010.5 | 4.7 |\n| 2 | ALABAMA | 1971 | 6 | 15501.94 | 7525.94 | 1721.02 | 6254.98 | 37299.91 | 29375 | 1021.9 | 5.2 |\n| 3 | ALABAMA | 1972 | 6 | 15972.41 | 7765.42 | 1764.75 | 6442.23 | 38670.30 | 31303 | 1072.3 | 4.7 |\n| 4 | ALABAMA | 1973 | 6 | 16406.26 | 7907.66 | 1742.41 | 6756.19 | 40084.01 | 33430 | 1135.5 | 3.9 |\n| 5 | ALABAMA | 1974 | 6 | 16762.67 | 8025.52 | 1734.85 | 7002.29 | 42057.31 | 33749 | 1169.8 | 5.5 |\n| 6 | ALABAMA | 1975 | 6 | 17316.26 | 8158.23 | 1752.27 | 7405.76 | 43971.71 | 33604 | 1155.4 | 7.7 |\n\n",
            "text/html": [
              "<table class=\"dataframe\">\n",
              "<caption>A data.frame: 6 × 11</caption>\n",
              "<thead>\n",
              "\t<tr><th></th><th scope=col>state</th><th scope=col>year</th><th scope=col>region</th><th scope=col>pcap</th><th scope=col>hwy</th><th scope=col>water</th><th scope=col>util</th><th scope=col>pc</th><th scope=col>gsp</th><th scope=col>emp</th><th scope=col>unemp</th></tr>\n",
              "\t<tr><th></th><th scope=col>&lt;fct&gt;</th><th scope=col>&lt;int&gt;</th><th scope=col>&lt;fct&gt;</th><th scope=col>&lt;dbl&gt;</th><th scope=col>&lt;dbl&gt;</th><th scope=col>&lt;dbl&gt;</th><th scope=col>&lt;dbl&gt;</th><th scope=col>&lt;dbl&gt;</th><th scope=col>&lt;int&gt;</th><th scope=col>&lt;dbl&gt;</th><th scope=col>&lt;dbl&gt;</th></tr>\n",
              "</thead>\n",
              "<tbody>\n",
              "\t<tr><th scope=row>1</th><td>ALABAMA</td><td>1970</td><td>6</td><td>15032.67</td><td>7325.80</td><td>1655.68</td><td>6051.20</td><td>35793.80</td><td>28418</td><td>1010.5</td><td>4.7</td></tr>\n",
              "\t<tr><th scope=row>2</th><td>ALABAMA</td><td>1971</td><td>6</td><td>15501.94</td><td>7525.94</td><td>1721.02</td><td>6254.98</td><td>37299.91</td><td>29375</td><td>1021.9</td><td>5.2</td></tr>\n",
              "\t<tr><th scope=row>3</th><td>ALABAMA</td><td>1972</td><td>6</td><td>15972.41</td><td>7765.42</td><td>1764.75</td><td>6442.23</td><td>38670.30</td><td>31303</td><td>1072.3</td><td>4.7</td></tr>\n",
              "\t<tr><th scope=row>4</th><td>ALABAMA</td><td>1973</td><td>6</td><td>16406.26</td><td>7907.66</td><td>1742.41</td><td>6756.19</td><td>40084.01</td><td>33430</td><td>1135.5</td><td>3.9</td></tr>\n",
              "\t<tr><th scope=row>5</th><td>ALABAMA</td><td>1974</td><td>6</td><td>16762.67</td><td>8025.52</td><td>1734.85</td><td>7002.29</td><td>42057.31</td><td>33749</td><td>1169.8</td><td>5.5</td></tr>\n",
              "\t<tr><th scope=row>6</th><td>ALABAMA</td><td>1975</td><td>6</td><td>17316.26</td><td>8158.23</td><td>1752.27</td><td>7405.76</td><td>43971.71</td><td>33604</td><td>1155.4</td><td>7.7</td></tr>\n",
              "</tbody>\n",
              "</table>\n"
            ]
          },
          "metadata": {
            "tags": []
          }
        },
        {
          "output_type": "display_data",
          "data": {
            "text/plain": [
              "[1] 816"
            ],
            "text/latex": "816",
            "text/markdown": "816",
            "text/html": [
              "816"
            ]
          },
          "metadata": {
            "tags": []
          }
        }
      ]
    },
    {
      "cell_type": "code",
      "metadata": {
        "colab": {
          "base_uri": "https://localhost:8080/",
          "height": 35
        },
        "id": "lE-fygypEJsT",
        "outputId": "0ef61442-07c4-4c0d-f78b-5ea5c2c946c4"
      },
      "source": [
        "unique(Produc$year)"
      ],
      "execution_count": null,
      "outputs": [
        {
          "output_type": "display_data",
          "data": {
            "text/plain": [
              " [1] 1970 1971 1972 1973 1974 1975 1976 1977 1978 1979 1980 1981 1982 1983 1984\n",
              "[16] 1985 1986"
            ],
            "text/latex": "\\begin{enumerate*}\n\\item 1970\n\\item 1971\n\\item 1972\n\\item 1973\n\\item 1974\n\\item 1975\n\\item 1976\n\\item 1977\n\\item 1978\n\\item 1979\n\\item 1980\n\\item 1981\n\\item 1982\n\\item 1983\n\\item 1984\n\\item 1985\n\\item 1986\n\\end{enumerate*}\n",
            "text/markdown": "1. 1970\n2. 1971\n3. 1972\n4. 1973\n5. 1974\n6. 1975\n7. 1976\n8. 1977\n9. 1978\n10. 1979\n11. 1980\n12. 1981\n13. 1982\n14. 1983\n15. 1984\n16. 1985\n17. 1986\n\n\n",
            "text/html": [
              "<style>\n",
              ".list-inline {list-style: none; margin:0; padding: 0}\n",
              ".list-inline>li {display: inline-block}\n",
              ".list-inline>li:not(:last-child)::after {content: \"\\00b7\"; padding: 0 .5ex}\n",
              "</style>\n",
              "<ol class=list-inline><li>1970</li><li>1971</li><li>1972</li><li>1973</li><li>1974</li><li>1975</li><li>1976</li><li>1977</li><li>1978</li><li>1979</li><li>1980</li><li>1981</li><li>1982</li><li>1983</li><li>1984</li><li>1985</li><li>1986</li></ol>\n"
            ]
          },
          "metadata": {
            "tags": []
          }
        }
      ]
    },
    {
      "cell_type": "code",
      "metadata": {
        "colab": {
          "base_uri": "https://localhost:8080/",
          "height": 503
        },
        "id": "3LLEoKyxDpqI",
        "outputId": "b1018d1c-c66c-48a2-a583-657229c6e5bb"
      },
      "source": [
        "z <- plm(gsp ~ pcap+hwy+water+util+pc+emp, index=c(\"state\",\"year\"), data=Produc, model=\"within\")\n",
        "summary(z)"
      ],
      "execution_count": null,
      "outputs": [
        {
          "output_type": "display_data",
          "data": {
            "text/plain": [
              "Oneway (individual) effect Within Model\n",
              "\n",
              "Call:\n",
              "plm(formula = gsp ~ pcap + hwy + water + util + pc + emp, data = Produc, \n",
              "    model = \"within\", index = c(\"state\", \"year\"))\n",
              "\n",
              "Balanced Panel: n = 48, T = 17, N = 816\n",
              "\n",
              "Residuals:\n",
              "    Min.  1st Qu.   Median     Mean  3rd Qu.     Max. \n",
              "-15589.7   -698.1    -52.3      0.0    722.3  17112.5 \n",
              "\n",
              "Coefficients:\n",
              "         Estimate  Std. Error t-value  Pr(>|t|)    \n",
              "pcap   1.1187e+04  1.5093e+04  0.7412    0.4588    \n",
              "hwy   -1.1188e+04  1.5093e+04 -0.7413    0.4587    \n",
              "water -1.1186e+04  1.5093e+04 -0.7412    0.4588    \n",
              "util  -1.1188e+04  1.5093e+04 -0.7413    0.4588    \n",
              "pc     9.5852e-02  1.9909e-02  4.8146 1.779e-06 ***\n",
              "emp    3.6047e+01  7.9502e-01 45.3409 < 2.2e-16 ***\n",
              "---\n",
              "Signif. codes:  0 ‘***’ 0.001 ‘**’ 0.01 ‘*’ 0.05 ‘.’ 0.1 ‘ ’ 1\n",
              "\n",
              "Total Sum of Squares:    1.3289e+11\n",
              "Residual Sum of Squares: 5028400000\n",
              "R-Squared:      0.96216\n",
              "Adj. R-Squared: 0.95953\n",
              "F-statistic: 3229.25 on 6 and 762 DF, p-value: < 2.22e-16"
            ]
          },
          "metadata": {
            "tags": []
          }
        }
      ]
    }
  ]
}