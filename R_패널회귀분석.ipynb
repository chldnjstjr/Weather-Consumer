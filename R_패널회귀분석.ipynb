{
  "nbformat": 4,
  "nbformat_minor": 0,
  "metadata": {
    "colab": {
      "name": "R 패널회귀분석",
      "provenance": [],
      "authorship_tag": "ABX9TyMgviAD7uenBim9WGwHGuMK"
    },
    "kernelspec": {
      "name": "ir",
      "display_name": "R"
    },
    "language_info": {
      "name": "R"
    }
  },
  "cells": [
    {
      "cell_type": "markdown",
      "metadata": {
        "id": "GlIJjChxes_6"
      },
      "source": [
        "Colab에서 R 사용 가능\n",
        "\n",
        "[링크 텍스트](https://www.youtube.com/watch?v=ugNlbyOlWlQ) #이 분 없었으면 평생 헤맸을듯"
      ]
    },
    {
      "cell_type": "code",
      "metadata": {
        "id": "57Zb-HPyd9zJ"
      },
      "source": [
        "#엑셀 불러올 준비\n",
        "system(\"gdown --id 1q0JuMeYNscfq2BrGuEfk-_fDZTj2y5k-\")\n",
        "library(readxl)"
      ],
      "execution_count": 1,
      "outputs": []
    },
    {
      "cell_type": "code",
      "metadata": {
        "id": "lSvTiJwEeXEm"
      },
      "source": [
        "df_master = read_excel(\"df_master.xlsx\") #구글 드라이브에서 주소 가져올 때 링크가 있는 모든 사용자에게 공개 꼭! 해줘야함 "
      ],
      "execution_count": 2,
      "outputs": []
    },
    {
      "cell_type": "code",
      "metadata": {
        "colab": {
          "base_uri": "https://localhost:8080/",
          "height": 34
        },
        "id": "UGenOATLI-oK",
        "outputId": "750ccc33-d950-4f4d-aea4-f635e9fc9d18"
      },
      "source": [
        "unique(df_master$CLAC1_NM)"
      ],
      "execution_count": null,
      "outputs": [
        {
          "output_type": "display_data",
          "data": {
            "text/plain": [
              "[1] \"건강식품\" \"냉동식품\" \"냉장식품\" \"과일\"     \"축산물\"  "
            ],
            "text/latex": "\\begin{enumerate*}\n\\item '건강식품'\n\\item '냉동식품'\n\\item '냉장식품'\n\\item '과일'\n\\item '축산물'\n\\end{enumerate*}\n",
            "text/markdown": "1. '건강식품'\n2. '냉동식품'\n3. '냉장식품'\n4. '과일'\n5. '축산물'\n\n\n",
            "text/html": [
              "<style>\n",
              ".list-inline {list-style: none; margin:0; padding: 0}\n",
              ".list-inline>li {display: inline-block}\n",
              ".list-inline>li:not(:last-child)::after {content: \"\\00b7\"; padding: 0 .5ex}\n",
              "</style>\n",
              "<ol class=list-inline><li>'건강식품'</li><li>'냉동식품'</li><li>'냉장식품'</li><li>'과일'</li><li>'축산물'</li></ol>\n"
            ]
          },
          "metadata": {
            "tags": []
          }
        }
      ]
    },
    {
      "cell_type": "code",
      "metadata": {
        "colab": {
          "base_uri": "https://localhost:8080/",
          "height": 34
        },
        "id": "vjSjEnSernnt",
        "outputId": "60286fcb-b83d-4ff7-ab5e-1167cde06587"
      },
      "source": [
        "length(unique(df_master$CLNT_ID)) # 고유 ID는 9만 33397명"
      ],
      "execution_count": null,
      "outputs": [
        {
          "output_type": "display_data",
          "data": {
            "text/plain": [
              "[1] 93397"
            ],
            "text/latex": "93397",
            "text/markdown": "93397",
            "text/html": [
              "93397"
            ]
          },
          "metadata": {
            "tags": []
          }
        }
      ]
    },
    {
      "cell_type": "code",
      "metadata": {
        "id": "wWcwlDHttid3"
      },
      "source": [
        "#library(haven)\n",
        "#df_master$MONTH <- format(as.Date(df_master$SESS_DT), \"%m\")\n",
        "#df_master$MONTH <- as.integer(df_master$MONTH)"
      ],
      "execution_count": null,
      "outputs": []
    },
    {
      "cell_type": "code",
      "metadata": {
        "colab": {
          "base_uri": "https://localhost:8080/"
        },
        "id": "MJXI-qRhA0kk",
        "outputId": "9cbdac27-95fc-466e-87cc-61f2c25078d2"
      },
      "source": [
        "#pdf_master <- pdata.frame(df_master, index=c(\"CLNT_ID\",\"MONTH\"))\n",
        "\n",
        "#CLNT_ID와 함께 시간번수를 index로 넣으려고 했으나 오류 발생 \n",
        "#아마도 SESS_DT가 POSIX-format(날짜형식)이라서 그런 것 같음. "
      ],
      "execution_count": null,
      "outputs": [
        {
          "output_type": "stream",
          "text": [
            "Warning message in pdata.frame(df_master, index = c(\"CLNT_ID\", \"MONTH\")):\n",
            "“duplicate couples (id-time) in resulting pdata.frame\n",
            " to find out which, use, e.g., table(index(your_pdataframe), useNA = \"ifany\")”\n"
          ],
          "name": "stderr"
        }
      ]
    },
    {
      "cell_type": "code",
      "metadata": {
        "colab": {
          "base_uri": "https://localhost:8080/"
        },
        "id": "kwKVHInvmw2S",
        "outputId": "5b4b7aec-102f-4d95-edb4-e529ef01ca44"
      },
      "source": [
        "install.packages(\"plm\")\n",
        "library(plm)"
      ],
      "execution_count": 4,
      "outputs": [
        {
          "output_type": "stream",
          "text": [
            "Installing package into ‘/usr/local/lib/R/site-library’\n",
            "(as ‘lib’ is unspecified)\n",
            "\n",
            "also installing the dependencies ‘miscTools’, ‘rbibutils’, ‘bdsmatrix’, ‘zoo’, ‘sandwich’, ‘lmtest’, ‘maxLik’, ‘Rdpack’, ‘Formula’\n",
            "\n",
            "\n"
          ],
          "name": "stderr"
        }
      ]
    },
    {
      "cell_type": "code",
      "metadata": {
        "id": "UYgAkJtL1gqm",
        "colab": {
          "base_uri": "https://localhost:8080/"
        },
        "outputId": "2461a2e6-a675-47ab-a45b-0ba3b1b7e233"
      },
      "source": [
        "#SESS_DT 형식으로 인해 index에 추가하지 못하는 오류 \n",
        "# 참고: https://stackoverflow.com/questions/31773723/r-plm-regression-with-time-in-posix-format\n",
        "#install.packages('plm')\n",
        "library(dplyr)\n",
        "df_master <- df_master %>%\n",
        "    group_by(CLNT_ID) %>%\n",
        "    mutate(clock = seq_along(CLNT_ID))\n",
        "panel <- pdata.frame(df_master, c(\"CLNT_ID\", \"SESS_DT\"))"
      ],
      "execution_count": null,
      "outputs": [
        {
          "output_type": "stream",
          "text": [
            "\n",
            "Attaching package: ‘plm’\n",
            "\n",
            "\n",
            "The following objects are masked from ‘package:dplyr’:\n",
            "\n",
            "    between, lag, lead\n",
            "\n",
            "\n",
            "Warning message in pdata.frame(df_master, c(\"CLNT_ID\", \"SESS_DT\")):\n",
            "“duplicate couples (id-time) in resulting pdata.frame\n",
            " to find out which, use, e.g., table(index(your_pdataframe), useNA = \"ifany\")”\n"
          ],
          "name": "stderr"
        }
      ]
    },
    {
      "cell_type": "code",
      "metadata": {
        "id": "Q1K7sWQfIUOx"
      },
      "source": [
        "df_master_health <- subset(df_master, CLAC1_NM==\"건강식품\") \n",
        "df_master_ice <- subset(df_master, CLAC1_NM==\"냉동식품\") \n",
        "df_master_ref <- subset(df_master, CLAC1_NM==\"냉장식품\") \n",
        "df_master_fruit <- subset(df_master, CLAC1_NM==\"과일\")\n",
        "df_master_meet  <- subset(df_master, CLAC1_NM==\"축산물\")\n",
        "#따로 분석해볼까 싶어서 분리"
      ],
      "execution_count": null,
      "outputs": []
    },
    {
      "cell_type": "code",
      "metadata": {
        "colab": {
          "base_uri": "https://localhost:8080/"
        },
        "id": "FEYbCy-nALGN",
        "outputId": "2a7d68a3-552e-4fc5-9e0d-66728f7f7354"
      },
      "source": [
        "panel <- pdata.frame(df_master, c(\"CLNT_ID\", \"SESS_DT\"))"
      ],
      "execution_count": null,
      "outputs": [
        {
          "output_type": "stream",
          "text": [
            "Warning message in pdata.frame(df_master, c(\"CLNT_ID\", \"SESS_DT\")):\n",
            "“duplicate couples (id-time) in resulting pdata.frame\n",
            " to find out which, use, e.g., table(index(your_pdataframe), useNA = \"ifany\")”\n"
          ],
          "name": "stderr"
        }
      ]
    },
    {
      "cell_type": "code",
      "metadata": {
        "colab": {
          "base_uri": "https://localhost:8080/",
          "height": 530
        },
        "id": "WUKP-BsSsO7E",
        "outputId": "81e922b2-5613-4191-ab7e-a92dee22bc30"
      },
      "source": [
        "#pooltest 함수를 통해 고정효과 모델에 대한 검정\n",
        "pooltest(log(PD_AMOUNT) ~ factor(SEASON)+TEMP_AVG+RAINFALL_DAY+HUMID_AVG+DUST, index=c(\"CLNT_ID\"), data=df_master, model=\"within\")"
      ],
      "execution_count": 13,
      "outputs": [
        {
          "output_type": "error",
          "ename": "ERROR",
          "evalue": "ignored",
          "traceback": [
            "Error in FUN(X[[i]], ...): insufficient number of observations\nTraceback:\n",
            "1. pooltest(log(PD_AMOUNT) ~ factor(SEASON) + TEMP_AVG + RAINFALL_DAY + \n .     HUMID_AVG + DUST, index = c(\"CLNT_ID\"), data = df_master, \n .     model = \"within\")",
            "2. pooltest.formula(log(PD_AMOUNT) ~ factor(SEASON) + TEMP_AVG + \n .     RAINFALL_DAY + HUMID_AVG + DUST, index = c(\"CLNT_ID\"), data = df_master, \n .     model = \"within\")",
            "3. eval(cl, parent.frame())",
            "4. eval(cl, parent.frame())",
            "5. pvcm(formula = log(PD_AMOUNT) ~ factor(SEASON) + TEMP_AVG + RAINFALL_DAY + \n .     HUMID_AVG + DUST, data = df_master, index = c(\"CLNT_ID\"), \n .     model = \"within\", effect = \"individual\")",
            "6. pvcm.within(formula, data, effect)",
            "7. lapply(ml, function(x) {\n .     X <- model.matrix(x)\n .     if (nrow(X) <= ncol(X)) \n .         stop(\"insufficient number of observations\")\n .     y <- pmodel.response(x)\n .     r <- lm(y ~ X - 1)\n .     nc <- colnames(model.frame(r)$X)\n .     names(r$coefficients) <- nc\n .     r\n . })",
            "8. FUN(X[[i]], ...)",
            "9. stop(\"insufficient number of observations\")"
          ]
        }
      ]
    },
    {
      "cell_type": "code",
      "metadata": {
        "colab": {
          "base_uri": "https://localhost:8080/",
          "height": 451
        },
        "id": "J1fzM1YQATN8",
        "outputId": "fd82de86-a7ac-4a4d-ea8a-f90782526a66"
      },
      "source": [
        "a <- plm(log(PD_AMOUNT) ~ TEMP_AVG+RAINFALL_DAY+DUST, index=c(\"CLNT_ID\"), data=df_master, model=\"within\")\n",
        "summary(a)"
      ],
      "execution_count": 21,
      "outputs": [
        {
          "output_type": "display_data",
          "data": {
            "text/plain": [
              "Oneway (individual) effect Within Model\n",
              "\n",
              "Call:\n",
              "plm(formula = log(PD_AMOUNT) ~ TEMP_AVG + RAINFALL_DAY + DUST, \n",
              "    data = df_master, model = \"within\", index = c(\"CLNT_ID\"))\n",
              "\n",
              "Unbalanced Panel: n = 93397, T = 1-576, N = 188189\n",
              "\n",
              "Residuals:\n",
              "     Min.   1st Qu.    Median   3rd Qu.      Max. \n",
              "-5.703677 -0.064606  0.000000  0.051984  3.869823 \n",
              "\n",
              "Coefficients:\n",
              "                Estimate  Std. Error t-value  Pr(>|t|)    \n",
              "TEMP_AVG     -0.00329662  0.00049844 -6.6139 3.763e-11 ***\n",
              "RAINFALL_DAY  0.00041124  0.00015254  2.6959  0.007021 ** \n",
              "DUST          0.00011689  0.00018569  0.6295  0.529010    \n",
              "---\n",
              "Signif. codes:  0 ‘***’ 0.001 ‘**’ 0.01 ‘*’ 0.05 ‘.’ 0.1 ‘ ’ 1\n",
              "\n",
              "Total Sum of Squares:    30702\n",
              "Residual Sum of Squares: 30684\n",
              "R-Squared:      0.00060797\n",
              "Adj. R-Squared: -0.98413\n",
              "F-statistic: 19.2212 on 3 and 94789 DF, p-value: 1.8704e-12"
            ]
          },
          "metadata": {
            "tags": []
          }
        }
      ]
    },
    {
      "cell_type": "code",
      "metadata": {
        "colab": {
          "base_uri": "https://localhost:8080/",
          "height": 121
        },
        "id": "012GmwY6smsY",
        "outputId": "f6b1ac10-f701-4cd5-fff5-d98afbb54ed8"
      },
      "source": [
        "# 확률효과를 검정하기 위한 LM 검정 통계량\n",
        "plmtest(log(PD_AMOUNT) ~ factor(SEASON)+TEMP_AVG+RAINFALL_DAY+HUMID_AVG+DUST, index=c(\"CLNT_ID\"), data=df_master, model=\"random\")\n",
        "\n",
        "#확률효과 검정 결과에 의하면 1%유의 수준에서 확률효과가 없다는 귀무가설을 기각하게 되어 패널 자료에 통계적으로 유의미한 확률효과가 있다고 볼 수 있다. "
      ],
      "execution_count": 12,
      "outputs": [
        {
          "output_type": "display_data",
          "data": {
            "text/plain": [
              "\n",
              "\tLagrange Multiplier Test - (Honda) for unbalanced panels\n",
              "\n",
              "data:  log(PD_AMOUNT) ~ factor(SEASON) + TEMP_AVG + RAINFALL_DAY + HUMID_AVG +  ...\n",
              "normal = 1121.5, p-value < 2.2e-16\n",
              "alternative hypothesis: significant effects\n"
            ]
          },
          "metadata": {
            "tags": []
          }
        }
      ]
    },
    {
      "cell_type": "code",
      "metadata": {
        "id": "QFweh3iyd7E5",
        "colab": {
          "base_uri": "https://localhost:8080/",
          "height": 676
        },
        "outputId": "10943411-681d-400b-813f-3b215c34e7fb"
      },
      "source": [
        "b <- plm(log(PD_AMOUNT) ~ factor(SEASON)+TEMP_AVG+RAINFALL_DAY+HUMID_AVG+DUST, index=c(\"CLNT_ID\"), data=df_master, model=\"random\")\n",
        "summary(b)\n",
        "#와씨 r제곱 0.86"
      ],
      "execution_count": 6,
      "outputs": [
        {
          "output_type": "display_data",
          "data": {
            "text/plain": [
              "Oneway (individual) effect Random Effect Model \n",
              "   (Swamy-Arora's transformation)\n",
              "\n",
              "Call:\n",
              "plm(formula = log(PD_AMOUNT) ~ factor(SEASON) + TEMP_AVG + RAINFALL_DAY + \n",
              "    HUMID_AVG + DUST, data = df_master, model = \"random\", index = c(\"CLNT_ID\"))\n",
              "\n",
              "Unbalanced Panel: n = 93397, T = 1-576, N = 188189\n",
              "\n",
              "Effects:\n",
              "                 var std.dev share\n",
              "idiosyncratic 0.3230  0.5683 0.278\n",
              "individual    0.8405  0.9168 0.722\n",
              "theta:\n",
              "   Min. 1st Qu.  Median    Mean 3rd Qu.    Max. \n",
              " 0.4731  0.4731  0.5985  0.6314  0.7039  0.9742 \n",
              "\n",
              "Residuals:\n",
              "   Min. 1st Qu.  Median    Mean 3rd Qu.    Max. \n",
              "-5.2624 -0.3469  0.0050 -0.0085  0.3333  4.0646 \n",
              "\n",
              "Coefficients:\n",
              "                        Estimate  Std. Error  z-value  Pr(>|z|)    \n",
              "(Intercept)          10.96129962  0.01852359 591.7482 < 2.2e-16 ***\n",
              "factor(SEASON)spring -0.36336578  0.00822108 -44.1993 < 2.2e-16 ***\n",
              "factor(SEASON)summer -0.38379421  0.00708165 -54.1956 < 2.2e-16 ***\n",
              "TEMP_AVG             -0.00468985  0.00057838  -8.1086 5.121e-16 ***\n",
              "RAINFALL_DAY          0.00073595  0.00014009   5.2534 1.493e-07 ***\n",
              "HUMID_AVG             0.00024627  0.00016584   1.4850    0.1376    \n",
              "DUST                  0.00098803  0.00014461   6.8325 8.345e-12 ***\n",
              "---\n",
              "Signif. codes:  0 ‘***’ 0.001 ‘**’ 0.01 ‘*’ 0.05 ‘.’ 0.1 ‘ ’ 1\n",
              "\n",
              "Total Sum of Squares:    389360\n",
              "Residual Sum of Squares: 56013\n",
              "R-Squared:      0.85649\n",
              "Adj. R-Squared: 0.85648\n",
              "Chisq: 3705.49 on 6 DF, p-value: < 2.22e-16"
            ]
          },
          "metadata": {
            "tags": []
          }
        }
      ]
    },
    {
      "cell_type": "code",
      "metadata": {
        "colab": {
          "base_uri": "https://localhost:8080/",
          "height": 121
        },
        "id": "AUgYVIJWnSgn",
        "outputId": "d23b2b9b-f684-45b0-c598-c2e2998a8ef7"
      },
      "source": [
        "phtest(a, b)"
      ],
      "execution_count": 8,
      "outputs": [
        {
          "output_type": "display_data",
          "data": {
            "text/plain": [
              "\n",
              "\tHausman Test\n",
              "\n",
              "data:  log(PD_AMOUNT) ~ factor(SEASON) + TEMP_AVG + RAINFALL_DAY + HUMID_AVG +  ...\n",
              "chisq = 570.75, df = 6, p-value < 2.2e-16\n",
              "alternative hypothesis: one model is inconsistent\n"
            ]
          },
          "metadata": {
            "tags": []
          }
        }
      ]
    },
    {
      "cell_type": "markdown",
      "metadata": {
        "id": "wGoWUSV-sxXc"
      },
      "source": [
        "### Hausman Test 해석\n",
        "\n",
        "카이제곱 통계량은 570.75으로 1% 유의수준에서 고정효과모형과 확률효과모형이 동일하다는 귀무가설을 기각한다. 따라서 본 연구에서 사용한 데이터세트의 경우 확률효과모형이 고정효과모형에 비해 설명력이 더 높은 타당한 모형이라 판단하였다."
      ]
    },
    {
      "cell_type": "code",
      "metadata": {
        "colab": {
          "base_uri": "https://localhost:8080/",
          "height": 287
        },
        "id": "WbppmuwzO7vx",
        "outputId": "174e2c6f-ec68-4f95-ffa6-9fc45340cf2c"
      },
      "source": [
        "c <- plm(log(PD_AMOUNT) ~ factor(SEASON)+TEMP_AVG+RAINFALL_DAY+HUMID_AVG+DUST, index=c(\"CLNT_ID\"), data=df_master, model=\"between\", effect = \"twoways\")\n",
        "summary(c)"
      ],
      "execution_count": 15,
      "outputs": [
        {
          "output_type": "error",
          "ename": "ERROR",
          "evalue": "ignored",
          "traceback": [
            "Error in model.matrix.pdata.frame(data, rhs = 1, model = model, effect = effect, : twoways effect only relevant for within, random and pooling models\nTraceback:\n",
            "1. plm(log(PD_AMOUNT) ~ factor(SEASON) + TEMP_AVG + RAINFALL_DAY + \n .     HUMID_AVG + DUST, index = c(\"CLNT_ID\"), data = df_master, \n .     model = \"between\", effect = \"twoways\")",
            "2. plm.fit(data, model, effect, random.method, random.models, random.dfcor, \n .     inst.method)",
            "3. model.matrix(data, rhs = 1, model = model, effect = effect, theta = theta, \n .     cstcovar.rm = \"all\")",
            "4. model.matrix.pdata.frame(data, rhs = 1, model = model, effect = effect, \n .     theta = theta, cstcovar.rm = \"all\")",
            "5. stop(\"twoways effect only relevant for within, random and pooling models\")"
          ]
        }
      ]
    },
    {
      "cell_type": "code",
      "metadata": {
        "id": "HWM1nJtvPE-Q"
      },
      "source": [
        "d <- plm(log(PD_AMOUNT) ~ factor(SEASON)+TEMP_AVG+RAINFALL_DAY+HUMID_AVG+DUST, index=c(\"CLNT_ID\"), data=df_master, model=\"within\", effect = \"twoways\")\n",
        "summary(d)"
      ],
      "execution_count": 17,
      "outputs": []
    },
    {
      "cell_type": "markdown",
      "metadata": {
        "id": "2Gd4osIOlZrU"
      },
      "source": [
        "# 패널 회귀분석 공부좀 해야됨 \n",
        "## 고정효과, 임의효과 개념 아직도 제대로 모름ㅠ \n",
        "\n"
      ]
    }
  ]
}