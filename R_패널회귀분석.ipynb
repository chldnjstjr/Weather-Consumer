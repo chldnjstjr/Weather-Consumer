{
  "nbformat": 4,
  "nbformat_minor": 0,
  "metadata": {
    "colab": {
      "name": "R 패널회귀분석",
      "provenance": [],
      "collapsed_sections": [],
      "authorship_tag": "ABX9TyNHrQhFftpgPUzGQ6HIf5QN"
    },
    "kernelspec": {
      "name": "ir",
      "display_name": "R"
    },
    "language_info": {
      "name": "R"
    }
  },
  "cells": [
    {
      "cell_type": "markdown",
      "metadata": {
        "id": "GlIJjChxes_6"
      },
      "source": [
        "Colab에서 R 사용 가능\n",
        "\n",
        "[링크 텍스트](https://www.youtube.com/watch?v=ugNlbyOlWlQ) #이 분 없었으면 평생 헤맸을듯"
      ]
    },
    {
      "cell_type": "code",
      "metadata": {
        "id": "57Zb-HPyd9zJ"
      },
      "source": [
        "#엑셀 불러올 준비\n",
        "system(\"gdown --id 1q0JuMeYNscfq2BrGuEfk-_fDZTj2y5k-\")\n",
        "library(readxl)"
      ],
      "execution_count": 1,
      "outputs": []
    },
    {
      "cell_type": "code",
      "metadata": {
        "colab": {
          "base_uri": "https://localhost:8080/"
        },
        "id": "xIVGEUo71jPW",
        "outputId": "78a670cb-732e-4ae7-a633-bb12d3689a08"
      },
      "source": [
        "str(df_master)"
      ],
      "execution_count": 14,
      "outputs": [
        {
          "output_type": "stream",
          "text": [
            "tibble [188,189 × 29] (S3: tbl_df/tbl/data.frame)\n",
            " $ CLNT_ID     : num [1:188189] 4316011 4351904 4351904 4395026 4549371 ...\n",
            " $ SESS_ID     : num [1:188189] 2889247 8220376 8220376 7473082 4421328 ...\n",
            " $ PD_C        : num [1:188189] 574397 747273 803015 722396 563452 ...\n",
            " $ PD_ADD_NM   : chr [1:188189] \"1개\" \"(not set)\" \"(not set)\" \"1개\" ...\n",
            " $ PD_BRA_NM   : chr [1:188189] \"농협홍삼한삼인\" \"[새남해농협]\" \"[새남해농협]\" \"천지인\" ...\n",
            " $ PD_BUY_AM   : num [1:188189] 39000 39000 45430 39000 61500 ...\n",
            " $ PD_BUY_CT   : num [1:188189] 1 1 1 1 1 1 1 3 5 3 ...\n",
            " $ PD_NM       : chr [1:188189] \"한삼인 홍삼정 굿데이스틱 60포/쇼핑백증정\" \"새남해농협 해두룸 흑마늘진액 프리미엄 70ml 20팩\" \"[새남해농협]해두룸 흑마늘진액(80ml*30봉)\" \"[동원천지인] 홍삼정 데일리원 (10mlx30포)\" ...\n",
            " $ CLAC1_NM    : chr [1:188189] \"건강식품\" \"건강식품\" \"건강식품\" \"건강식품\" ...\n",
            " $ CLAC2_NM    : chr [1:188189] \"홍삼/인삼가공식품\" \"건강진액\" \"건강진액\" \"홍삼/인삼가공식품\" ...\n",
            " $ CLAC3_NM    : chr [1:188189] \"홍삼액\" \"채소즙\" \"채소즙\" \"홍삼액\" ...\n",
            " $ SESS_DT     : POSIXct[1:188189], format: \"2018-08-13\" \"2018-05-16\" ...\n",
            " $ ZON_NM      : chr [1:188189] \"서울\" \"경기도\" \"경기도\" \"서울\" ...\n",
            " $ CITY_NM     : chr [1:188189] \"Seoul\" \"Bucheon-si\" \"Bucheon-si\" \"Seoul\" ...\n",
            " $ PD_AMOUNT   : num [1:188189] 39000 39000 45430 39000 61500 ...\n",
            " $ SEASON      : chr [1:188189] \"summer\" \"spring\" \"spring\" \"spring\" ...\n",
            " $ DAY_OF_WEEK : num [1:188189] 0 2 2 0 2 2 6 4 4 4 ...\n",
            " $ WEEKEND     : logi [1:188189] FALSE FALSE FALSE FALSE FALSE FALSE ...\n",
            " $ ZON_INDEX   : num [1:188189] 108 119 119 108 112 112 119 108 108 108 ...\n",
            " $ TEMP_AVG    : num [1:188189] 30.5 23.2 23.2 22.3 26.1 26.1 21.5 14.6 14.6 14.6 ...\n",
            " $ RAINFALL_HR : num [1:188189] 1.58 8.13 8.13 0 0 0 0 0 0 0 ...\n",
            " $ RAINFALL_DAY: num [1:188189] 1 28.3 28.3 0 0 0 0 0 0 0 ...\n",
            " $ WIND_AVG    : num [1:188189] 1.4 1.9 1.9 1.6 2.2 2.2 1.2 1.3 1.3 1.3 ...\n",
            " $ DEWPT_AVG   : num [1:188189] 23.7 22.3 22.3 11 22.2 22.2 17.2 -6.9 -6.9 -6.9 ...\n",
            " $ HUMID_AVG   : num [1:188189] 68.6 95.4 95.4 49.8 81 81 78.6 22.9 22.9 22.9 ...\n",
            " $ STEAMP_AVG  : num [1:188189] 29.3 27 27 13.2 26.8 26.8 19.6 3.7 3.7 3.7 ...\n",
            " $ ATMOS_AGV   : num [1:188189] 1000 1001 1001 1000 1004 ...\n",
            " $ SOLAR_SUM   : num [1:188189] 12.3 1.5 1.5 26.5 27.8 ...\n",
            " $ DUST        : num [1:188189] 33 38 38 44 19 19 45 29 29 29 ...\n"
          ],
          "name": "stdout"
        }
      ]
    },
    {
      "cell_type": "code",
      "metadata": {
        "id": "lSvTiJwEeXEm"
      },
      "source": [
        "df_master = read_excel(\"df_master.xlsx\") #구글 드라이브에서 주소 가져올 때 링크가 있는 모든 사용자에게 공개 꼭! 해줘야함 "
      ],
      "execution_count": 2,
      "outputs": []
    },
    {
      "cell_type": "code",
      "metadata": {
        "colab": {
          "base_uri": "https://localhost:8080/",
          "height": 35
        },
        "id": "UGenOATLI-oK",
        "outputId": "dc4965ad-871c-4812-a6e8-e16d7f2dd2b6"
      },
      "source": [
        "unique(df_master$CLAC1_NM)"
      ],
      "execution_count": 3,
      "outputs": [
        {
          "output_type": "display_data",
          "data": {
            "text/plain": [
              "[1] \"건강식품\" \"냉동식품\" \"냉장식품\" \"과일\"     \"축산물\"  "
            ],
            "text/latex": "\\begin{enumerate*}\n\\item '건강식품'\n\\item '냉동식품'\n\\item '냉장식품'\n\\item '과일'\n\\item '축산물'\n\\end{enumerate*}\n",
            "text/markdown": "1. '건강식품'\n2. '냉동식품'\n3. '냉장식품'\n4. '과일'\n5. '축산물'\n\n\n",
            "text/html": [
              "<style>\n",
              ".list-inline {list-style: none; margin:0; padding: 0}\n",
              ".list-inline>li {display: inline-block}\n",
              ".list-inline>li:not(:last-child)::after {content: \"\\00b7\"; padding: 0 .5ex}\n",
              "</style>\n",
              "<ol class=list-inline><li>'건강식품'</li><li>'냉동식품'</li><li>'냉장식품'</li><li>'과일'</li><li>'축산물'</li></ol>\n"
            ]
          },
          "metadata": {
            "tags": []
          }
        }
      ]
    },
    {
      "cell_type": "code",
      "metadata": {
        "colab": {
          "base_uri": "https://localhost:8080/",
          "height": 35
        },
        "id": "vjSjEnSernnt",
        "outputId": "bab32025-07ac-471c-e629-d74f98b97ebf"
      },
      "source": [
        "length(unique(df_master$CLNT_ID)) # 고유 ID는 9만 33397명"
      ],
      "execution_count": 4,
      "outputs": [
        {
          "output_type": "display_data",
          "data": {
            "text/plain": [
              "[1] 93397"
            ],
            "text/latex": "93397",
            "text/markdown": "93397",
            "text/html": [
              "93397"
            ]
          },
          "metadata": {
            "tags": []
          }
        }
      ]
    },
    {
      "cell_type": "code",
      "metadata": {
        "colab": {
          "base_uri": "https://localhost:8080/"
        },
        "id": "kwKVHInvmw2S",
        "outputId": "87a29443-4071-4503-d0ca-56c678b75b5a"
      },
      "source": [
        "install.packages(\"plm\")\n",
        "library(plm)"
      ],
      "execution_count": 5,
      "outputs": [
        {
          "output_type": "stream",
          "text": [
            "Installing package into ‘/usr/local/lib/R/site-library’\n",
            "(as ‘lib’ is unspecified)\n",
            "\n",
            "also installing the dependencies ‘miscTools’, ‘rbibutils’, ‘bdsmatrix’, ‘zoo’, ‘sandwich’, ‘lmtest’, ‘maxLik’, ‘Rdpack’, ‘Formula’\n",
            "\n",
            "\n"
          ],
          "name": "stderr"
        }
      ]
    },
    {
      "cell_type": "code",
      "metadata": {
        "id": "Q1K7sWQfIUOx"
      },
      "source": [
        "df_master_health <- subset(df_master, CLAC1_NM==\"건강식품\") \n",
        "df_master_ice <- subset(df_master, CLAC1_NM==\"냉동식품\") \n",
        "df_master_ref <- subset(df_master, CLAC1_NM==\"냉장식품\") \n",
        "df_master_fruit <- subset(df_master, CLAC1_NM==\"과일\")\n",
        "df_master_meet  <- subset(df_master, CLAC1_NM==\"축산물\")\n",
        "#따로 분석해볼까 싶어서 분리"
      ],
      "execution_count": null,
      "outputs": []
    },
    {
      "cell_type": "code",
      "metadata": {
        "colab": {
          "base_uri": "https://localhost:8080/"
        },
        "id": "5hYUeZQ7GMau",
        "outputId": "4197cfbf-c181-46bb-8c92-6236f122572e"
      },
      "source": [
        "library(dplyr)\n",
        "z <- data.frame(df_master %>% group_by(SESS_DT, CLNT_ID) %>% summarise(AMOUNT=sum(PD_AMOUNT)))"
      ],
      "execution_count": 6,
      "outputs": [
        {
          "output_type": "stream",
          "text": [
            "\n",
            "Attaching package: ‘dplyr’\n",
            "\n",
            "\n",
            "The following objects are masked from ‘package:plm’:\n",
            "\n",
            "    between, lag, lead\n",
            "\n",
            "\n",
            "The following objects are masked from ‘package:stats’:\n",
            "\n",
            "    filter, lag\n",
            "\n",
            "\n",
            "The following objects are masked from ‘package:base’:\n",
            "\n",
            "    intersect, setdiff, setequal, union\n",
            "\n",
            "\n",
            "`summarise()` has grouped output by 'SESS_DT'. You can override using the `.groups` argument.\n",
            "\n"
          ],
          "name": "stderr"
        }
      ]
    },
    {
      "cell_type": "code",
      "metadata": {
        "colab": {
          "base_uri": "https://localhost:8080/",
          "height": 286
        },
        "id": "RWeKqPETlFhK",
        "outputId": "65a07a44-65a1-4cb4-ce87-8abc7821898c"
      },
      "source": [
        "head(z)"
      ],
      "execution_count": 7,
      "outputs": [
        {
          "output_type": "display_data",
          "data": {
            "text/plain": [
              "  SESS_DT    CLNT_ID AMOUNT\n",
              "1 2018-04-01 13597   39600 \n",
              "2 2018-04-01 13996    9000 \n",
              "3 2018-04-01 39411   54700 \n",
              "4 2018-04-01 51795   53800 \n",
              "5 2018-04-01 89523   23900 \n",
              "6 2018-04-01 93514   67500 "
            ],
            "text/latex": "A data.frame: 6 × 3\n\\begin{tabular}{r|lll}\n  & SESS\\_DT & CLNT\\_ID & AMOUNT\\\\\n  & <dttm> & <dbl> & <dbl>\\\\\n\\hline\n\t1 & 2018-04-01 & 13597 & 39600\\\\\n\t2 & 2018-04-01 & 13996 &  9000\\\\\n\t3 & 2018-04-01 & 39411 & 54700\\\\\n\t4 & 2018-04-01 & 51795 & 53800\\\\\n\t5 & 2018-04-01 & 89523 & 23900\\\\\n\t6 & 2018-04-01 & 93514 & 67500\\\\\n\\end{tabular}\n",
            "text/markdown": "\nA data.frame: 6 × 3\n\n| <!--/--> | SESS_DT &lt;dttm&gt; | CLNT_ID &lt;dbl&gt; | AMOUNT &lt;dbl&gt; |\n|---|---|---|---|\n| 1 | 2018-04-01 | 13597 | 39600 |\n| 2 | 2018-04-01 | 13996 |  9000 |\n| 3 | 2018-04-01 | 39411 | 54700 |\n| 4 | 2018-04-01 | 51795 | 53800 |\n| 5 | 2018-04-01 | 89523 | 23900 |\n| 6 | 2018-04-01 | 93514 | 67500 |\n\n",
            "text/html": [
              "<table class=\"dataframe\">\n",
              "<caption>A data.frame: 6 × 3</caption>\n",
              "<thead>\n",
              "\t<tr><th></th><th scope=col>SESS_DT</th><th scope=col>CLNT_ID</th><th scope=col>AMOUNT</th></tr>\n",
              "\t<tr><th></th><th scope=col>&lt;dttm&gt;</th><th scope=col>&lt;dbl&gt;</th><th scope=col>&lt;dbl&gt;</th></tr>\n",
              "</thead>\n",
              "<tbody>\n",
              "\t<tr><th scope=row>1</th><td>2018-04-01</td><td>13597</td><td>39600</td></tr>\n",
              "\t<tr><th scope=row>2</th><td>2018-04-01</td><td>13996</td><td> 9000</td></tr>\n",
              "\t<tr><th scope=row>3</th><td>2018-04-01</td><td>39411</td><td>54700</td></tr>\n",
              "\t<tr><th scope=row>4</th><td>2018-04-01</td><td>51795</td><td>53800</td></tr>\n",
              "\t<tr><th scope=row>5</th><td>2018-04-01</td><td>89523</td><td>23900</td></tr>\n",
              "\t<tr><th scope=row>6</th><td>2018-04-01</td><td>93514</td><td>67500</td></tr>\n",
              "</tbody>\n",
              "</table>\n"
            ]
          },
          "metadata": {
            "tags": []
          }
        }
      ]
    },
    {
      "cell_type": "code",
      "metadata": {
        "colab": {
          "base_uri": "https://localhost:8080/"
        },
        "id": "qb6mGjs9e2XH",
        "outputId": "29fd41ad-f5c2-4e11-cb0e-c9073f425975"
      },
      "source": [
        "str(z)"
      ],
      "execution_count": 8,
      "outputs": [
        {
          "output_type": "stream",
          "text": [
            "'data.frame':\t131715 obs. of  3 variables:\n",
            " $ SESS_DT: POSIXct, format: \"2018-04-01\" \"2018-04-01\" ...\n",
            " $ CLNT_ID: num  13597 13996 39411 51795 89523 ...\n",
            " $ AMOUNT : num  39600 9000 54700 53800 23900 ...\n"
          ],
          "name": "stdout"
        }
      ]
    },
    {
      "cell_type": "code",
      "metadata": {
        "id": "ItJnz77LJHZ8"
      },
      "source": [
        "#기상 변수만 추출\n",
        "df_weather<- data.frame(df_master %>%\n",
        "  select(SESS_DT,CLAC1_NM,SEASON,TEMP_AVG,RAINFALL_DAY,HUMID_AVG,DUST, WEEKEND))\n",
        "\n",
        "df_weather<- df_weather[-which(duplicated(df_master$SESS_DT)),]"
      ],
      "execution_count": 11,
      "outputs": []
    },
    {
      "cell_type": "code",
      "metadata": {
        "colab": {
          "base_uri": "https://localhost:8080/"
        },
        "id": "Yfd9WWpDRxYS",
        "outputId": "882d4794-19c7-4041-bda2-542fe3dc5c32"
      },
      "source": [
        "str(df_weather)"
      ],
      "execution_count": 12,
      "outputs": [
        {
          "output_type": "stream",
          "text": [
            "'data.frame':\t183 obs. of  8 variables:\n",
            " $ SESS_DT     : POSIXct, format: \"2018-08-13\" \"2018-05-16\" ...\n",
            " $ CLAC1_NM    : chr  \"건강식품\" \"건강식품\" \"건강식품\" \"건강식품\" ...\n",
            " $ SEASON      : chr  \"summer\" \"spring\" \"spring\" \"summer\" ...\n",
            " $ TEMP_AVG    : num  30.5 23.2 22.3 26.1 21.5 14.6 23.8 23.7 21.9 24 ...\n",
            " $ RAINFALL_DAY: num  1 28.3 0 0 0 0 0 96.5 0 0 ...\n",
            " $ HUMID_AVG   : num  68.6 95.4 49.8 81 78.6 22.9 65.1 92.4 68 56.5 ...\n",
            " $ DUST        : num  33 38 44 19 45 29 25 11 29 13 ...\n",
            " $ WEEKEND     : logi  FALSE FALSE FALSE FALSE TRUE FALSE ...\n"
          ],
          "name": "stdout"
        }
      ]
    },
    {
      "cell_type": "code",
      "metadata": {
        "colab": {
          "base_uri": "https://localhost:8080/",
          "height": 303
        },
        "id": "i3e7odRIIgfw",
        "outputId": "4cba8a1f-6242-40bf-c822-5fbe09c5ec0a"
      },
      "source": [
        "y <- left_join(z,df_weather,by='SESS_DT')\n",
        "head(y)\n",
        "nrow(y)"
      ],
      "execution_count": 13,
      "outputs": [
        {
          "output_type": "display_data",
          "data": {
            "text/plain": [
              "  SESS_DT    CLNT_ID AMOUNT CLAC1_NM SEASON TEMP_AVG RAINFALL_DAY HUMID_AVG\n",
              "1 2018-04-01 13597   39600  건강식품 spring 17.5     0            52.4     \n",
              "2 2018-04-01 13996    9000  건강식품 spring 17.5     0            52.4     \n",
              "3 2018-04-01 39411   54700  건강식품 spring 17.5     0            52.4     \n",
              "4 2018-04-01 51795   53800  건강식품 spring 17.5     0            52.4     \n",
              "5 2018-04-01 89523   23900  건강식품 spring 17.5     0            52.4     \n",
              "6 2018-04-01 93514   67500  건강식품 spring 17.5     0            52.4     \n",
              "  DUST WEEKEND\n",
              "1 30   TRUE   \n",
              "2 30   TRUE   \n",
              "3 30   TRUE   \n",
              "4 30   TRUE   \n",
              "5 30   TRUE   \n",
              "6 30   TRUE   "
            ],
            "text/latex": "A data.frame: 6 × 10\n\\begin{tabular}{r|llllllllll}\n  & SESS\\_DT & CLNT\\_ID & AMOUNT & CLAC1\\_NM & SEASON & TEMP\\_AVG & RAINFALL\\_DAY & HUMID\\_AVG & DUST & WEEKEND\\\\\n  & <dttm> & <dbl> & <dbl> & <chr> & <chr> & <dbl> & <dbl> & <dbl> & <dbl> & <lgl>\\\\\n\\hline\n\t1 & 2018-04-01 & 13597 & 39600 & 건강식품 & spring & 17.5 & 0 & 52.4 & 30 & TRUE\\\\\n\t2 & 2018-04-01 & 13996 &  9000 & 건강식품 & spring & 17.5 & 0 & 52.4 & 30 & TRUE\\\\\n\t3 & 2018-04-01 & 39411 & 54700 & 건강식품 & spring & 17.5 & 0 & 52.4 & 30 & TRUE\\\\\n\t4 & 2018-04-01 & 51795 & 53800 & 건강식품 & spring & 17.5 & 0 & 52.4 & 30 & TRUE\\\\\n\t5 & 2018-04-01 & 89523 & 23900 & 건강식품 & spring & 17.5 & 0 & 52.4 & 30 & TRUE\\\\\n\t6 & 2018-04-01 & 93514 & 67500 & 건강식품 & spring & 17.5 & 0 & 52.4 & 30 & TRUE\\\\\n\\end{tabular}\n",
            "text/markdown": "\nA data.frame: 6 × 10\n\n| <!--/--> | SESS_DT &lt;dttm&gt; | CLNT_ID &lt;dbl&gt; | AMOUNT &lt;dbl&gt; | CLAC1_NM &lt;chr&gt; | SEASON &lt;chr&gt; | TEMP_AVG &lt;dbl&gt; | RAINFALL_DAY &lt;dbl&gt; | HUMID_AVG &lt;dbl&gt; | DUST &lt;dbl&gt; | WEEKEND &lt;lgl&gt; |\n|---|---|---|---|---|---|---|---|---|---|---|\n| 1 | 2018-04-01 | 13597 | 39600 | 건강식품 | spring | 17.5 | 0 | 52.4 | 30 | TRUE |\n| 2 | 2018-04-01 | 13996 |  9000 | 건강식품 | spring | 17.5 | 0 | 52.4 | 30 | TRUE |\n| 3 | 2018-04-01 | 39411 | 54700 | 건강식품 | spring | 17.5 | 0 | 52.4 | 30 | TRUE |\n| 4 | 2018-04-01 | 51795 | 53800 | 건강식품 | spring | 17.5 | 0 | 52.4 | 30 | TRUE |\n| 5 | 2018-04-01 | 89523 | 23900 | 건강식품 | spring | 17.5 | 0 | 52.4 | 30 | TRUE |\n| 6 | 2018-04-01 | 93514 | 67500 | 건강식품 | spring | 17.5 | 0 | 52.4 | 30 | TRUE |\n\n",
            "text/html": [
              "<table class=\"dataframe\">\n",
              "<caption>A data.frame: 6 × 10</caption>\n",
              "<thead>\n",
              "\t<tr><th></th><th scope=col>SESS_DT</th><th scope=col>CLNT_ID</th><th scope=col>AMOUNT</th><th scope=col>CLAC1_NM</th><th scope=col>SEASON</th><th scope=col>TEMP_AVG</th><th scope=col>RAINFALL_DAY</th><th scope=col>HUMID_AVG</th><th scope=col>DUST</th><th scope=col>WEEKEND</th></tr>\n",
              "\t<tr><th></th><th scope=col>&lt;dttm&gt;</th><th scope=col>&lt;dbl&gt;</th><th scope=col>&lt;dbl&gt;</th><th scope=col>&lt;chr&gt;</th><th scope=col>&lt;chr&gt;</th><th scope=col>&lt;dbl&gt;</th><th scope=col>&lt;dbl&gt;</th><th scope=col>&lt;dbl&gt;</th><th scope=col>&lt;dbl&gt;</th><th scope=col>&lt;lgl&gt;</th></tr>\n",
              "</thead>\n",
              "<tbody>\n",
              "\t<tr><th scope=row>1</th><td>2018-04-01</td><td>13597</td><td>39600</td><td>건강식품</td><td>spring</td><td>17.5</td><td>0</td><td>52.4</td><td>30</td><td>TRUE</td></tr>\n",
              "\t<tr><th scope=row>2</th><td>2018-04-01</td><td>13996</td><td> 9000</td><td>건강식품</td><td>spring</td><td>17.5</td><td>0</td><td>52.4</td><td>30</td><td>TRUE</td></tr>\n",
              "\t<tr><th scope=row>3</th><td>2018-04-01</td><td>39411</td><td>54700</td><td>건강식품</td><td>spring</td><td>17.5</td><td>0</td><td>52.4</td><td>30</td><td>TRUE</td></tr>\n",
              "\t<tr><th scope=row>4</th><td>2018-04-01</td><td>51795</td><td>53800</td><td>건강식품</td><td>spring</td><td>17.5</td><td>0</td><td>52.4</td><td>30</td><td>TRUE</td></tr>\n",
              "\t<tr><th scope=row>5</th><td>2018-04-01</td><td>89523</td><td>23900</td><td>건강식품</td><td>spring</td><td>17.5</td><td>0</td><td>52.4</td><td>30</td><td>TRUE</td></tr>\n",
              "\t<tr><th scope=row>6</th><td>2018-04-01</td><td>93514</td><td>67500</td><td>건강식품</td><td>spring</td><td>17.5</td><td>0</td><td>52.4</td><td>30</td><td>TRUE</td></tr>\n",
              "</tbody>\n",
              "</table>\n"
            ]
          },
          "metadata": {
            "tags": []
          }
        },
        {
          "output_type": "display_data",
          "data": {
            "text/plain": [
              "[1] 131715"
            ],
            "text/latex": "131715",
            "text/markdown": "131715",
            "text/html": [
              "131715"
            ]
          },
          "metadata": {
            "tags": []
          }
        }
      ]
    },
    {
      "cell_type": "code",
      "metadata": {
        "colab": {
          "base_uri": "https://localhost:8080/",
          "height": 52
        },
        "id": "4xi72ayUQFSs",
        "outputId": "3e072088-d6df-4727-d4f8-d4710ff7dd2b"
      },
      "source": [
        "length(unique(y$SESS_DT)) #아까 duplicated 했으니 총 183일이 맞음. \n",
        "length(unique(y$CLNT_ID))"
      ],
      "execution_count": 15,
      "outputs": [
        {
          "output_type": "display_data",
          "data": {
            "text/plain": [
              "[1] 183"
            ],
            "text/latex": "183",
            "text/markdown": "183",
            "text/html": [
              "183"
            ]
          },
          "metadata": {
            "tags": []
          }
        },
        {
          "output_type": "display_data",
          "data": {
            "text/plain": [
              "[1] 93397"
            ],
            "text/latex": "93397",
            "text/markdown": "93397",
            "text/html": [
              "93397"
            ]
          },
          "metadata": {
            "tags": []
          }
        }
      ]
    },
    {
      "cell_type": "code",
      "metadata": {
        "id": "4uMgWSlRN8m5"
      },
      "source": [
        "y$MONTH <- as.character(y$SESS_DT)"
      ],
      "execution_count": 16,
      "outputs": []
    },
    {
      "cell_type": "code",
      "metadata": {
        "colab": {
          "base_uri": "https://localhost:8080/",
          "height": 286
        },
        "id": "GqQ7VugKOd_x",
        "outputId": "46a9ce47-ba08-451a-8d33-fce8a9987959"
      },
      "source": [
        "head(y)"
      ],
      "execution_count": null,
      "outputs": [
        {
          "output_type": "display_data",
          "data": {
            "text/plain": [
              "  SESS_DT    CLNT_ID AMOUNT CLAC1_NM SEASON TEMP_AVG RAINFALL_DAY HUMID_AVG\n",
              "1 2018-04-01 13597   39600  건강식품 spring 17.5     0            52.4     \n",
              "2 2018-04-01 13996    9000  건강식품 spring 17.5     0            52.4     \n",
              "3 2018-04-01 39411   54700  건강식품 spring 17.5     0            52.4     \n",
              "4 2018-04-01 51795   53800  건강식품 spring 17.5     0            52.4     \n",
              "5 2018-04-01 89523   23900  건강식품 spring 17.5     0            52.4     \n",
              "6 2018-04-01 93514   67500  건강식품 spring 17.5     0            52.4     \n",
              "  DUST MONTH     \n",
              "1 30   2018-04-01\n",
              "2 30   2018-04-01\n",
              "3 30   2018-04-01\n",
              "4 30   2018-04-01\n",
              "5 30   2018-04-01\n",
              "6 30   2018-04-01"
            ],
            "text/latex": "A data.frame: 6 × 10\n\\begin{tabular}{r|llllllllll}\n  & SESS\\_DT & CLNT\\_ID & AMOUNT & CLAC1\\_NM & SEASON & TEMP\\_AVG & RAINFALL\\_DAY & HUMID\\_AVG & DUST & MONTH\\\\\n  & <dttm> & <dbl> & <dbl> & <chr> & <chr> & <dbl> & <dbl> & <dbl> & <dbl> & <chr>\\\\\n\\hline\n\t1 & 2018-04-01 & 13597 & 39600 & 건강식품 & spring & 17.5 & 0 & 52.4 & 30 & 2018-04-01\\\\\n\t2 & 2018-04-01 & 13996 &  9000 & 건강식품 & spring & 17.5 & 0 & 52.4 & 30 & 2018-04-01\\\\\n\t3 & 2018-04-01 & 39411 & 54700 & 건강식품 & spring & 17.5 & 0 & 52.4 & 30 & 2018-04-01\\\\\n\t4 & 2018-04-01 & 51795 & 53800 & 건강식품 & spring & 17.5 & 0 & 52.4 & 30 & 2018-04-01\\\\\n\t5 & 2018-04-01 & 89523 & 23900 & 건강식품 & spring & 17.5 & 0 & 52.4 & 30 & 2018-04-01\\\\\n\t6 & 2018-04-01 & 93514 & 67500 & 건강식품 & spring & 17.5 & 0 & 52.4 & 30 & 2018-04-01\\\\\n\\end{tabular}\n",
            "text/markdown": "\nA data.frame: 6 × 10\n\n| <!--/--> | SESS_DT &lt;dttm&gt; | CLNT_ID &lt;dbl&gt; | AMOUNT &lt;dbl&gt; | CLAC1_NM &lt;chr&gt; | SEASON &lt;chr&gt; | TEMP_AVG &lt;dbl&gt; | RAINFALL_DAY &lt;dbl&gt; | HUMID_AVG &lt;dbl&gt; | DUST &lt;dbl&gt; | MONTH &lt;chr&gt; |\n|---|---|---|---|---|---|---|---|---|---|---|\n| 1 | 2018-04-01 | 13597 | 39600 | 건강식품 | spring | 17.5 | 0 | 52.4 | 30 | 2018-04-01 |\n| 2 | 2018-04-01 | 13996 |  9000 | 건강식품 | spring | 17.5 | 0 | 52.4 | 30 | 2018-04-01 |\n| 3 | 2018-04-01 | 39411 | 54700 | 건강식품 | spring | 17.5 | 0 | 52.4 | 30 | 2018-04-01 |\n| 4 | 2018-04-01 | 51795 | 53800 | 건강식품 | spring | 17.5 | 0 | 52.4 | 30 | 2018-04-01 |\n| 5 | 2018-04-01 | 89523 | 23900 | 건강식품 | spring | 17.5 | 0 | 52.4 | 30 | 2018-04-01 |\n| 6 | 2018-04-01 | 93514 | 67500 | 건강식품 | spring | 17.5 | 0 | 52.4 | 30 | 2018-04-01 |\n\n",
            "text/html": [
              "<table class=\"dataframe\">\n",
              "<caption>A data.frame: 6 × 10</caption>\n",
              "<thead>\n",
              "\t<tr><th></th><th scope=col>SESS_DT</th><th scope=col>CLNT_ID</th><th scope=col>AMOUNT</th><th scope=col>CLAC1_NM</th><th scope=col>SEASON</th><th scope=col>TEMP_AVG</th><th scope=col>RAINFALL_DAY</th><th scope=col>HUMID_AVG</th><th scope=col>DUST</th><th scope=col>MONTH</th></tr>\n",
              "\t<tr><th></th><th scope=col>&lt;dttm&gt;</th><th scope=col>&lt;dbl&gt;</th><th scope=col>&lt;dbl&gt;</th><th scope=col>&lt;chr&gt;</th><th scope=col>&lt;chr&gt;</th><th scope=col>&lt;dbl&gt;</th><th scope=col>&lt;dbl&gt;</th><th scope=col>&lt;dbl&gt;</th><th scope=col>&lt;dbl&gt;</th><th scope=col>&lt;chr&gt;</th></tr>\n",
              "</thead>\n",
              "<tbody>\n",
              "\t<tr><th scope=row>1</th><td>2018-04-01</td><td>13597</td><td>39600</td><td>건강식품</td><td>spring</td><td>17.5</td><td>0</td><td>52.4</td><td>30</td><td>2018-04-01</td></tr>\n",
              "\t<tr><th scope=row>2</th><td>2018-04-01</td><td>13996</td><td> 9000</td><td>건강식품</td><td>spring</td><td>17.5</td><td>0</td><td>52.4</td><td>30</td><td>2018-04-01</td></tr>\n",
              "\t<tr><th scope=row>3</th><td>2018-04-01</td><td>39411</td><td>54700</td><td>건강식품</td><td>spring</td><td>17.5</td><td>0</td><td>52.4</td><td>30</td><td>2018-04-01</td></tr>\n",
              "\t<tr><th scope=row>4</th><td>2018-04-01</td><td>51795</td><td>53800</td><td>건강식품</td><td>spring</td><td>17.5</td><td>0</td><td>52.4</td><td>30</td><td>2018-04-01</td></tr>\n",
              "\t<tr><th scope=row>5</th><td>2018-04-01</td><td>89523</td><td>23900</td><td>건강식품</td><td>spring</td><td>17.5</td><td>0</td><td>52.4</td><td>30</td><td>2018-04-01</td></tr>\n",
              "\t<tr><th scope=row>6</th><td>2018-04-01</td><td>93514</td><td>67500</td><td>건강식품</td><td>spring</td><td>17.5</td><td>0</td><td>52.4</td><td>30</td><td>2018-04-01</td></tr>\n",
              "</tbody>\n",
              "</table>\n"
            ]
          },
          "metadata": {
            "tags": []
          }
        }
      ]
    },
    {
      "cell_type": "code",
      "metadata": {
        "colab": {
          "base_uri": "https://localhost:8080/",
          "height": 35
        },
        "id": "UnNrvoOzkm3U",
        "outputId": "99e460e1-d406-4441-c228-7f9bfe3e1b1e"
      },
      "source": [
        "any(table(y$MONTH, y$CLNT_ID) !=1)"
      ],
      "execution_count": null,
      "outputs": [
        {
          "output_type": "display_data",
          "data": {
            "text/plain": [
              "[1] TRUE"
            ],
            "text/latex": "TRUE",
            "text/markdown": "TRUE",
            "text/html": [
              "TRUE"
            ]
          },
          "metadata": {
            "tags": []
          }
        }
      ]
    },
    {
      "cell_type": "code",
      "metadata": {
        "id": "52ySEsp6m_fy"
      },
      "source": [
        "attach(y)"
      ],
      "execution_count": null,
      "outputs": []
    },
    {
      "cell_type": "code",
      "metadata": {
        "id": "Hrrr6QTYnC8e"
      },
      "source": [
        "form <- AMOUNT ~ factor(SEASON)+ TEMP_AVG+RAINFALL_DAY+HUMID_AVG+DUST"
      ],
      "execution_count": null,
      "outputs": []
    },
    {
      "cell_type": "code",
      "metadata": {
        "colab": {
          "base_uri": "https://localhost:8080/",
          "height": 461
        },
        "id": "p0J09Rw0nKL_",
        "outputId": "0da9e88b-620d-44f7-9e68-e8342360e987"
      },
      "source": [
        "pooltest(form, data = y, index = c(\"CLNT_ID\", \"MONTH\"), model = \"within\")"
      ],
      "execution_count": null,
      "outputs": [
        {
          "output_type": "error",
          "ename": "ERROR",
          "evalue": "ignored",
          "traceback": [
            "Error in FUN(X[[i]], ...): insufficient number of observations\nTraceback:\n",
            "1. pooltest(form, data = y, index = c(\"CLNT_ID\", \"MONTH\"), model = \"within\")",
            "2. pooltest.formula(form, data = y, index = c(\"CLNT_ID\", \"MONTH\"), \n .     model = \"within\")",
            "3. eval(cl, parent.frame())",
            "4. eval(cl, parent.frame())",
            "5. pvcm(formula = form, data = y, index = c(\"CLNT_ID\", \"MONTH\"), \n .     model = \"within\", effect = \"individual\")",
            "6. pvcm.within(formula, data, effect)",
            "7. lapply(ml, function(x) {\n .     X <- model.matrix(x)\n .     if (nrow(X) <= ncol(X)) \n .         stop(\"insufficient number of observations\")\n .     y <- pmodel.response(x)\n .     r <- lm(y ~ X - 1)\n .     nc <- colnames(model.frame(r)$X)\n .     names(r$coefficients) <- nc\n .     r\n . })",
            "8. FUN(X[[i]], ...)",
            "9. stop(\"insufficient number of observations\")"
          ]
        }
      ]
    },
    {
      "cell_type": "code",
      "metadata": {
        "id": "OLPG4aBCSfrY"
      },
      "source": [
        "#pooltest 함수를 통해 고정효과 모델에 대한 검정\n",
        "pooltest(AMOUNT ~ factor(SEASON)+ TEMP_AVG+RAINFALL_DAY+HUMID_AVG+DUST, index=c(\"CLNT_ID\", \"MONTH\"), data=y, model=\"within\")"
      ],
      "execution_count": null,
      "outputs": []
    },
    {
      "cell_type": "code",
      "metadata": {
        "colab": {
          "base_uri": "https://localhost:8080/",
          "height": 537
        },
        "id": "J1fzM1YQATN8",
        "outputId": "1799c607-a86d-4410-8087-16460c70bd60"
      },
      "source": [
        "fe <- plm(log(AMOUNT) ~ factor(SEASON)+ TEMP_AVG+RAINFALL_DAY+log(HUMID_AVG)+DUST+WEEKEND, index=c(\"CLNT_ID\", \"SESS_DT\"), data=y, model=\"within\")\n",
        "summary(fe)"
      ],
      "execution_count": 18,
      "outputs": [
        {
          "output_type": "display_data",
          "data": {
            "text/plain": [
              "Oneway (individual) effect Within Model\n",
              "\n",
              "Call:\n",
              "plm(formula = log(AMOUNT) ~ factor(SEASON) + TEMP_AVG + RAINFALL_DAY + \n",
              "    log(HUMID_AVG) + DUST + WEEKEND, data = y, model = \"within\", \n",
              "    index = c(\"CLNT_ID\", \"SESS_DT\"))\n",
              "\n",
              "Unbalanced Panel: n = 93397, T = 1-109, N = 131715\n",
              "\n",
              "Residuals:\n",
              "   Min. 1st Qu.  Median 3rd Qu.    Max. \n",
              "-5.7213  0.0000  0.0000  0.0000  2.9329 \n",
              "\n",
              "Coefficients:\n",
              "                        Estimate  Std. Error  t-value  Pr(>|t|)    \n",
              "factor(SEASON)spring -0.19719797  0.01902792 -10.3636 < 2.2e-16 ***\n",
              "factor(SEASON)summer -0.20363023  0.01745372 -11.6669 < 2.2e-16 ***\n",
              "TEMP_AVG             -0.00227611  0.00099354  -2.2909   0.02197 *  \n",
              "RAINFALL_DAY          0.00158408  0.00024997   6.3370 2.368e-10 ***\n",
              "log(HUMID_AVG)       -0.01033458  0.01716222  -0.6022   0.54706    \n",
              "DUST                  0.00040589  0.00024531   1.6546   0.09802 .  \n",
              "WEEKENDTRUE           0.01906966  0.00835348   2.2828   0.02245 *  \n",
              "---\n",
              "Signif. codes:  0 ‘***’ 0.001 ‘**’ 0.01 ‘*’ 0.05 ‘.’ 0.1 ‘ ’ 1\n",
              "\n",
              "Total Sum of Squares:    18142\n",
              "Residual Sum of Squares: 18044\n",
              "R-Squared:      0.0054275\n",
              "Adj. R-Squared: -2.4194\n",
              "F-statistic: 29.8666 on 7 and 38311 DF, p-value: < 2.22e-16"
            ]
          },
          "metadata": {
            "tags": []
          }
        }
      ]
    },
    {
      "cell_type": "code",
      "metadata": {
        "colab": {
          "base_uri": "https://localhost:8080/",
          "height": 121
        },
        "id": "012GmwY6smsY",
        "outputId": "68a0fe06-e977-4cad-bef2-ba331580b824"
      },
      "source": [
        "# 확률효과를 검정하기 위한 LM 검정 통계량\n",
        "plmtest(AMOUNT ~ factor(SEASON) + TEMP_AVG+RAINFALL_DAY+HUMID_AVG+DUST, index=c(\"CLNT_ID\", \"MONTH\"), data=y, model=\"random\")\n",
        "\n",
        "#확률효과 검정 결과에 의하면 1%유의 수준에서 확률효과가 없다는 귀무가설을 기각하게 되어 패널 자료에 통계적으로 유의미한 확률효과가 있다고 볼 수 있다. "
      ],
      "execution_count": null,
      "outputs": [
        {
          "output_type": "display_data",
          "data": {
            "text/plain": [
              "\n",
              "\tLagrange Multiplier Test - (Honda) for unbalanced panels\n",
              "\n",
              "data:  AMOUNT ~ factor(SEASON) + TEMP_AVG + RAINFALL_DAY + HUMID_AVG +  ...\n",
              "normal = 1781.8, p-value < 2.2e-16\n",
              "alternative hypothesis: significant effects\n"
            ]
          },
          "metadata": {
            "tags": []
          }
        }
      ]
    },
    {
      "cell_type": "code",
      "metadata": {
        "id": "QFweh3iyd7E5",
        "colab": {
          "base_uri": "https://localhost:8080/",
          "height": 693
        },
        "outputId": "d628af3b-3c6b-42d2-8117-e12db0d67a21"
      },
      "source": [
        "re <- plm(log(AMOUNT) ~ factor(SEASON) + log(TEMP_AVG)+RAINFALL_DAY+HUMID_AVG+DUST, index=c(\"CLNT_ID\", \"MONTH\"), data=y, model=\"random\")\n",
        "summary(re)\n",
        "#와씨 r제곱 0.86"
      ],
      "execution_count": null,
      "outputs": [
        {
          "output_type": "display_data",
          "data": {
            "text/plain": [
              "Oneway (individual) effect Random Effect Model \n",
              "   (Swamy-Arora's transformation)\n",
              "\n",
              "Call:\n",
              "plm(formula = log(AMOUNT) ~ factor(SEASON) + log(TEMP_AVG) + \n",
              "    RAINFALL_DAY + HUMID_AVG + DUST, data = y, model = \"random\", \n",
              "    index = c(\"CLNT_ID\", \"MONTH\"))\n",
              "\n",
              "Unbalanced Panel: n = 93397, T = 1-109, N = 131715\n",
              "\n",
              "Effects:\n",
              "                 var std.dev share\n",
              "idiosyncratic 0.4711  0.6864  0.44\n",
              "individual    0.5997  0.7744  0.56\n",
              "theta:\n",
              "   Min. 1st Qu.  Median    Mean 3rd Qu.    Max. \n",
              " 0.3367  0.3367  0.3367  0.4321  0.4690  0.9154 \n",
              "\n",
              "Residuals:\n",
              "   Min. 1st Qu.  Median    Mean 3rd Qu.    Max. \n",
              "-5.1734 -0.4449 -0.0322 -0.0029  0.4275  3.8073 \n",
              "\n",
              "Coefficients:\n",
              "                        Estimate  Std. Error  z-value  Pr(>|z|)    \n",
              "(Intercept)          11.23185535  0.03868122 290.3697 < 2.2e-16 ***\n",
              "factor(SEASON)spring -0.42960490  0.00930859 -46.1514 < 2.2e-16 ***\n",
              "factor(SEASON)summer -0.52724582  0.00765140 -68.9084 < 2.2e-16 ***\n",
              "log(TEMP_AVG)        -0.00906505  0.01155356  -0.7846    0.4327    \n",
              "RAINFALL_DAY          0.00152133  0.00018512   8.2180 < 2.2e-16 ***\n",
              "HUMID_AVG             0.00028051  0.00019544   1.4352    0.1512    \n",
              "DUST                  0.00091287  0.00017834   5.1188 3.075e-07 ***\n",
              "---\n",
              "Signif. codes:  0 ‘***’ 0.001 ‘**’ 0.01 ‘*’ 0.05 ‘.’ 0.1 ‘ ’ 1\n",
              "\n",
              "Total Sum of Squares:    303740\n",
              "Residual Sum of Squares: 61256\n",
              "R-Squared:      0.79841\n",
              "Adj. R-Squared: 0.7984\n",
              "Chisq: 5108.98 on 6 DF, p-value: < 2.22e-16"
            ]
          },
          "metadata": {
            "tags": []
          }
        }
      ]
    },
    {
      "cell_type": "code",
      "metadata": {
        "colab": {
          "base_uri": "https://localhost:8080/",
          "height": 121
        },
        "id": "AUgYVIJWnSgn",
        "outputId": "35ddbadd-828d-460d-8f29-4272628afe48"
      },
      "source": [
        "phtest(fe, re)"
      ],
      "execution_count": null,
      "outputs": [
        {
          "output_type": "display_data",
          "data": {
            "text/plain": [
              "\n",
              "\tHausman Test\n",
              "\n",
              "data:  AMOUNT ~ factor(SEASON) + TEMP_AVG + RAINFALL_DAY + HUMID_AVG +  ...\n",
              "chisq = 108.87, df = 6, p-value < 2.2e-16\n",
              "alternative hypothesis: one model is inconsistent\n"
            ]
          },
          "metadata": {
            "tags": []
          }
        }
      ]
    },
    {
      "cell_type": "markdown",
      "metadata": {
        "id": "wGoWUSV-sxXc"
      },
      "source": [
        "### Hausman Test 해석\n",
        "\n",
        "카이제곱 통계량은 570.75으로 1% 유의수준에서 고정효과모형과 확률효과모형이 동일하다는 귀무가설을 기각한다. 따라서 본 연구에서 사용한 데이터세트의 경우 확률효과모형이 고정효과모형에 비해 설명력이 더 높은 타당한 모형이라 판단하였다."
      ]
    },
    {
      "cell_type": "code",
      "metadata": {
        "colab": {
          "base_uri": "https://localhost:8080/",
          "height": 287
        },
        "id": "WbppmuwzO7vx",
        "outputId": "174e2c6f-ec68-4f95-ffa6-9fc45340cf2c"
      },
      "source": [
        "c <- plm(log(PD_AMOUNT) ~ factor(SEASON)+TEMP_AVG+RAINFALL_DAY+HUMID_AVG+DUST, index=c(\"CLNT_ID\"), data=df_master, model=\"between\", effect = \"twoways\")\n",
        "summary(c)"
      ],
      "execution_count": null,
      "outputs": [
        {
          "output_type": "error",
          "ename": "ERROR",
          "evalue": "ignored",
          "traceback": [
            "Error in model.matrix.pdata.frame(data, rhs = 1, model = model, effect = effect, : twoways effect only relevant for within, random and pooling models\nTraceback:\n",
            "1. plm(log(PD_AMOUNT) ~ factor(SEASON) + TEMP_AVG + RAINFALL_DAY + \n .     HUMID_AVG + DUST, index = c(\"CLNT_ID\"), data = df_master, \n .     model = \"between\", effect = \"twoways\")",
            "2. plm.fit(data, model, effect, random.method, random.models, random.dfcor, \n .     inst.method)",
            "3. model.matrix(data, rhs = 1, model = model, effect = effect, theta = theta, \n .     cstcovar.rm = \"all\")",
            "4. model.matrix.pdata.frame(data, rhs = 1, model = model, effect = effect, \n .     theta = theta, cstcovar.rm = \"all\")",
            "5. stop(\"twoways effect only relevant for within, random and pooling models\")"
          ]
        }
      ]
    },
    {
      "cell_type": "code",
      "metadata": {
        "id": "HWM1nJtvPE-Q"
      },
      "source": [
        "d <- plm(log(PD_AMOUNT) ~ factor(SEASON)+TEMP_AVG+RAINFALL_DAY+HUMID_AVG+DUST, index=c(\"CLNT_ID\"), data=df_master, model=\"within\", effect = \"twoways\")\n",
        "summary(d)"
      ],
      "execution_count": null,
      "outputs": []
    },
    {
      "cell_type": "markdown",
      "metadata": {
        "id": "2Gd4osIOlZrU"
      },
      "source": [
        "# 나를 괴롭혔던 문제 \n",
        "\n",
        "## ID와 Time의 중복 \n",
        "\n",
        "패널 회귀분석에서는(적어도 plm함수에서는) ID와 Time이 짝을 이뤘을 때 중복이 있으면 안된다. 예를 들어 이름(ID)에 김철수, 김영희, 김민수가 있고 각각 출생연도(Time)이 1995, 1996, 1995와 같이 ID와 Time이 짝을 이루었을 때 중복이 되는 값이 없어야 한다. 그러나 본 Lpoint 데이터세트의 경우 한 ID에 대해 세션 날짜가 중복되는 경우가 많았다. 이유는 세션 ID라는 별도의 변수가 있었기 때문에 세션ID가 중복되지 않을 지언정 그 세션 ID에 해당하는 세션 날짜는 중복이 발생하였다. \n",
        "\n",
        "따라서 내가 index로 세션 날짜를 포함시키니 duplicate 문제가 발생함! \n",
        "그래서 groupby를 통해 한 CLNT_ID의 SESS_DT 안에서 합계 구매액을 구한 데이터 프레임을 생성하고 거기에 다시 기상 변수들을 join 시켰음. \n",
        "\n"
      ]
    },
    {
      "cell_type": "code",
      "metadata": {
        "id": "HF3oW6rBCpQ-"
      },
      "source": [
        "data(\"Produc\", package = \"plm\")"
      ],
      "execution_count": null,
      "outputs": []
    },
    {
      "cell_type": "code",
      "metadata": {
        "colab": {
          "base_uri": "https://localhost:8080/",
          "height": 303
        },
        "id": "Q5TL-6z2Cqgk",
        "outputId": "4fb46c88-fcf3-490e-a702-2242f4530363"
      },
      "source": [
        "head(Produc)\n",
        "nrow(Produc)"
      ],
      "execution_count": null,
      "outputs": [
        {
          "output_type": "display_data",
          "data": {
            "text/plain": [
              "  state   year region pcap     hwy     water   util    pc       gsp   emp   \n",
              "1 ALABAMA 1970 6      15032.67 7325.80 1655.68 6051.20 35793.80 28418 1010.5\n",
              "2 ALABAMA 1971 6      15501.94 7525.94 1721.02 6254.98 37299.91 29375 1021.9\n",
              "3 ALABAMA 1972 6      15972.41 7765.42 1764.75 6442.23 38670.30 31303 1072.3\n",
              "4 ALABAMA 1973 6      16406.26 7907.66 1742.41 6756.19 40084.01 33430 1135.5\n",
              "5 ALABAMA 1974 6      16762.67 8025.52 1734.85 7002.29 42057.31 33749 1169.8\n",
              "6 ALABAMA 1975 6      17316.26 8158.23 1752.27 7405.76 43971.71 33604 1155.4\n",
              "  unemp\n",
              "1 4.7  \n",
              "2 5.2  \n",
              "3 4.7  \n",
              "4 3.9  \n",
              "5 5.5  \n",
              "6 7.7  "
            ],
            "text/latex": "A data.frame: 6 × 11\n\\begin{tabular}{r|lllllllllll}\n  & state & year & region & pcap & hwy & water & util & pc & gsp & emp & unemp\\\\\n  & <fct> & <int> & <fct> & <dbl> & <dbl> & <dbl> & <dbl> & <dbl> & <int> & <dbl> & <dbl>\\\\\n\\hline\n\t1 & ALABAMA & 1970 & 6 & 15032.67 & 7325.80 & 1655.68 & 6051.20 & 35793.80 & 28418 & 1010.5 & 4.7\\\\\n\t2 & ALABAMA & 1971 & 6 & 15501.94 & 7525.94 & 1721.02 & 6254.98 & 37299.91 & 29375 & 1021.9 & 5.2\\\\\n\t3 & ALABAMA & 1972 & 6 & 15972.41 & 7765.42 & 1764.75 & 6442.23 & 38670.30 & 31303 & 1072.3 & 4.7\\\\\n\t4 & ALABAMA & 1973 & 6 & 16406.26 & 7907.66 & 1742.41 & 6756.19 & 40084.01 & 33430 & 1135.5 & 3.9\\\\\n\t5 & ALABAMA & 1974 & 6 & 16762.67 & 8025.52 & 1734.85 & 7002.29 & 42057.31 & 33749 & 1169.8 & 5.5\\\\\n\t6 & ALABAMA & 1975 & 6 & 17316.26 & 8158.23 & 1752.27 & 7405.76 & 43971.71 & 33604 & 1155.4 & 7.7\\\\\n\\end{tabular}\n",
            "text/markdown": "\nA data.frame: 6 × 11\n\n| <!--/--> | state &lt;fct&gt; | year &lt;int&gt; | region &lt;fct&gt; | pcap &lt;dbl&gt; | hwy &lt;dbl&gt; | water &lt;dbl&gt; | util &lt;dbl&gt; | pc &lt;dbl&gt; | gsp &lt;int&gt; | emp &lt;dbl&gt; | unemp &lt;dbl&gt; |\n|---|---|---|---|---|---|---|---|---|---|---|---|\n| 1 | ALABAMA | 1970 | 6 | 15032.67 | 7325.80 | 1655.68 | 6051.20 | 35793.80 | 28418 | 1010.5 | 4.7 |\n| 2 | ALABAMA | 1971 | 6 | 15501.94 | 7525.94 | 1721.02 | 6254.98 | 37299.91 | 29375 | 1021.9 | 5.2 |\n| 3 | ALABAMA | 1972 | 6 | 15972.41 | 7765.42 | 1764.75 | 6442.23 | 38670.30 | 31303 | 1072.3 | 4.7 |\n| 4 | ALABAMA | 1973 | 6 | 16406.26 | 7907.66 | 1742.41 | 6756.19 | 40084.01 | 33430 | 1135.5 | 3.9 |\n| 5 | ALABAMA | 1974 | 6 | 16762.67 | 8025.52 | 1734.85 | 7002.29 | 42057.31 | 33749 | 1169.8 | 5.5 |\n| 6 | ALABAMA | 1975 | 6 | 17316.26 | 8158.23 | 1752.27 | 7405.76 | 43971.71 | 33604 | 1155.4 | 7.7 |\n\n",
            "text/html": [
              "<table class=\"dataframe\">\n",
              "<caption>A data.frame: 6 × 11</caption>\n",
              "<thead>\n",
              "\t<tr><th></th><th scope=col>state</th><th scope=col>year</th><th scope=col>region</th><th scope=col>pcap</th><th scope=col>hwy</th><th scope=col>water</th><th scope=col>util</th><th scope=col>pc</th><th scope=col>gsp</th><th scope=col>emp</th><th scope=col>unemp</th></tr>\n",
              "\t<tr><th></th><th scope=col>&lt;fct&gt;</th><th scope=col>&lt;int&gt;</th><th scope=col>&lt;fct&gt;</th><th scope=col>&lt;dbl&gt;</th><th scope=col>&lt;dbl&gt;</th><th scope=col>&lt;dbl&gt;</th><th scope=col>&lt;dbl&gt;</th><th scope=col>&lt;dbl&gt;</th><th scope=col>&lt;int&gt;</th><th scope=col>&lt;dbl&gt;</th><th scope=col>&lt;dbl&gt;</th></tr>\n",
              "</thead>\n",
              "<tbody>\n",
              "\t<tr><th scope=row>1</th><td>ALABAMA</td><td>1970</td><td>6</td><td>15032.67</td><td>7325.80</td><td>1655.68</td><td>6051.20</td><td>35793.80</td><td>28418</td><td>1010.5</td><td>4.7</td></tr>\n",
              "\t<tr><th scope=row>2</th><td>ALABAMA</td><td>1971</td><td>6</td><td>15501.94</td><td>7525.94</td><td>1721.02</td><td>6254.98</td><td>37299.91</td><td>29375</td><td>1021.9</td><td>5.2</td></tr>\n",
              "\t<tr><th scope=row>3</th><td>ALABAMA</td><td>1972</td><td>6</td><td>15972.41</td><td>7765.42</td><td>1764.75</td><td>6442.23</td><td>38670.30</td><td>31303</td><td>1072.3</td><td>4.7</td></tr>\n",
              "\t<tr><th scope=row>4</th><td>ALABAMA</td><td>1973</td><td>6</td><td>16406.26</td><td>7907.66</td><td>1742.41</td><td>6756.19</td><td>40084.01</td><td>33430</td><td>1135.5</td><td>3.9</td></tr>\n",
              "\t<tr><th scope=row>5</th><td>ALABAMA</td><td>1974</td><td>6</td><td>16762.67</td><td>8025.52</td><td>1734.85</td><td>7002.29</td><td>42057.31</td><td>33749</td><td>1169.8</td><td>5.5</td></tr>\n",
              "\t<tr><th scope=row>6</th><td>ALABAMA</td><td>1975</td><td>6</td><td>17316.26</td><td>8158.23</td><td>1752.27</td><td>7405.76</td><td>43971.71</td><td>33604</td><td>1155.4</td><td>7.7</td></tr>\n",
              "</tbody>\n",
              "</table>\n"
            ]
          },
          "metadata": {
            "tags": []
          }
        },
        {
          "output_type": "display_data",
          "data": {
            "text/plain": [
              "[1] 816"
            ],
            "text/latex": "816",
            "text/markdown": "816",
            "text/html": [
              "816"
            ]
          },
          "metadata": {
            "tags": []
          }
        }
      ]
    },
    {
      "cell_type": "code",
      "metadata": {
        "colab": {
          "base_uri": "https://localhost:8080/",
          "height": 35
        },
        "id": "lE-fygypEJsT",
        "outputId": "0ef61442-07c4-4c0d-f78b-5ea5c2c946c4"
      },
      "source": [
        "unique(Produc$year)"
      ],
      "execution_count": null,
      "outputs": [
        {
          "output_type": "display_data",
          "data": {
            "text/plain": [
              " [1] 1970 1971 1972 1973 1974 1975 1976 1977 1978 1979 1980 1981 1982 1983 1984\n",
              "[16] 1985 1986"
            ],
            "text/latex": "\\begin{enumerate*}\n\\item 1970\n\\item 1971\n\\item 1972\n\\item 1973\n\\item 1974\n\\item 1975\n\\item 1976\n\\item 1977\n\\item 1978\n\\item 1979\n\\item 1980\n\\item 1981\n\\item 1982\n\\item 1983\n\\item 1984\n\\item 1985\n\\item 1986\n\\end{enumerate*}\n",
            "text/markdown": "1. 1970\n2. 1971\n3. 1972\n4. 1973\n5. 1974\n6. 1975\n7. 1976\n8. 1977\n9. 1978\n10. 1979\n11. 1980\n12. 1981\n13. 1982\n14. 1983\n15. 1984\n16. 1985\n17. 1986\n\n\n",
            "text/html": [
              "<style>\n",
              ".list-inline {list-style: none; margin:0; padding: 0}\n",
              ".list-inline>li {display: inline-block}\n",
              ".list-inline>li:not(:last-child)::after {content: \"\\00b7\"; padding: 0 .5ex}\n",
              "</style>\n",
              "<ol class=list-inline><li>1970</li><li>1971</li><li>1972</li><li>1973</li><li>1974</li><li>1975</li><li>1976</li><li>1977</li><li>1978</li><li>1979</li><li>1980</li><li>1981</li><li>1982</li><li>1983</li><li>1984</li><li>1985</li><li>1986</li></ol>\n"
            ]
          },
          "metadata": {
            "tags": []
          }
        }
      ]
    },
    {
      "cell_type": "code",
      "metadata": {
        "colab": {
          "base_uri": "https://localhost:8080/",
          "height": 503
        },
        "id": "3LLEoKyxDpqI",
        "outputId": "b1018d1c-c66c-48a2-a583-657229c6e5bb"
      },
      "source": [
        "z <- plm(gsp ~ pcap+hwy+water+util+pc+emp, index=c(\"state\",\"year\"), data=Produc, model=\"within\")\n",
        "summary(z)"
      ],
      "execution_count": null,
      "outputs": [
        {
          "output_type": "display_data",
          "data": {
            "text/plain": [
              "Oneway (individual) effect Within Model\n",
              "\n",
              "Call:\n",
              "plm(formula = gsp ~ pcap + hwy + water + util + pc + emp, data = Produc, \n",
              "    model = \"within\", index = c(\"state\", \"year\"))\n",
              "\n",
              "Balanced Panel: n = 48, T = 17, N = 816\n",
              "\n",
              "Residuals:\n",
              "    Min.  1st Qu.   Median     Mean  3rd Qu.     Max. \n",
              "-15589.7   -698.1    -52.3      0.0    722.3  17112.5 \n",
              "\n",
              "Coefficients:\n",
              "         Estimate  Std. Error t-value  Pr(>|t|)    \n",
              "pcap   1.1187e+04  1.5093e+04  0.7412    0.4588    \n",
              "hwy   -1.1188e+04  1.5093e+04 -0.7413    0.4587    \n",
              "water -1.1186e+04  1.5093e+04 -0.7412    0.4588    \n",
              "util  -1.1188e+04  1.5093e+04 -0.7413    0.4588    \n",
              "pc     9.5852e-02  1.9909e-02  4.8146 1.779e-06 ***\n",
              "emp    3.6047e+01  7.9502e-01 45.3409 < 2.2e-16 ***\n",
              "---\n",
              "Signif. codes:  0 ‘***’ 0.001 ‘**’ 0.01 ‘*’ 0.05 ‘.’ 0.1 ‘ ’ 1\n",
              "\n",
              "Total Sum of Squares:    1.3289e+11\n",
              "Residual Sum of Squares: 5028400000\n",
              "R-Squared:      0.96216\n",
              "Adj. R-Squared: 0.95953\n",
              "F-statistic: 3229.25 on 6 and 762 DF, p-value: < 2.22e-16"
            ]
          },
          "metadata": {
            "tags": []
          }
        }
      ]
    }
  ]
}