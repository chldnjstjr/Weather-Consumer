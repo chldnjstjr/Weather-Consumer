{
  "nbformat": 4,
  "nbformat_minor": 0,
  "metadata": {
    "colab": {
      "name": "R 패널회귀분석",
      "provenance": [],
      "authorship_tag": "ABX9TyOowgU5i4We4xzDISRTY7R4"
    },
    "kernelspec": {
      "name": "ir",
      "display_name": "R"
    },
    "language_info": {
      "name": "R"
    }
  },
  "cells": [
    {
      "cell_type": "markdown",
      "metadata": {
        "id": "GlIJjChxes_6"
      },
      "source": [
        "Colab에서 R 사용 가능\n",
        "\n",
        "[링크 텍스트](https://www.youtube.com/watch?v=ugNlbyOlWlQ) #이 분 없었으면 평생 헤맸을듯"
      ]
    },
    {
      "cell_type": "code",
      "metadata": {
        "id": "57Zb-HPyd9zJ"
      },
      "source": [
        "#엑셀 불러올 준비\n",
        "system(\"gdown --id 1q0JuMeYNscfq2BrGuEfk-_fDZTj2y5k-\")\n",
        "library(readxl)"
      ],
      "execution_count": 1,
      "outputs": []
    },
    {
      "cell_type": "code",
      "metadata": {
        "id": "lSvTiJwEeXEm"
      },
      "source": [
        "df_master = read_excel(\"df_master.xlsx\") #구글 드라이브에서 주소 가져올 때 링크가 있는 모든 사용자에게 공개 꼭! 해줘야함 "
      ],
      "execution_count": 28,
      "outputs": []
    },
    {
      "cell_type": "code",
      "metadata": {
        "colab": {
          "base_uri": "https://localhost:8080/",
          "height": 34
        },
        "id": "UGenOATLI-oK",
        "outputId": "750ccc33-d950-4f4d-aea4-f635e9fc9d18"
      },
      "source": [
        "unique(df_master$CLAC1_NM)"
      ],
      "execution_count": 3,
      "outputs": [
        {
          "output_type": "display_data",
          "data": {
            "text/plain": [
              "[1] \"건강식품\" \"냉동식품\" \"냉장식품\" \"과일\"     \"축산물\"  "
            ],
            "text/latex": "\\begin{enumerate*}\n\\item '건강식품'\n\\item '냉동식품'\n\\item '냉장식품'\n\\item '과일'\n\\item '축산물'\n\\end{enumerate*}\n",
            "text/markdown": "1. '건강식품'\n2. '냉동식품'\n3. '냉장식품'\n4. '과일'\n5. '축산물'\n\n\n",
            "text/html": [
              "<style>\n",
              ".list-inline {list-style: none; margin:0; padding: 0}\n",
              ".list-inline>li {display: inline-block}\n",
              ".list-inline>li:not(:last-child)::after {content: \"\\00b7\"; padding: 0 .5ex}\n",
              "</style>\n",
              "<ol class=list-inline><li>'건강식품'</li><li>'냉동식품'</li><li>'냉장식품'</li><li>'과일'</li><li>'축산물'</li></ol>\n"
            ]
          },
          "metadata": {
            "tags": []
          }
        }
      ]
    },
    {
      "cell_type": "code",
      "metadata": {
        "colab": {
          "base_uri": "https://localhost:8080/",
          "height": 34
        },
        "id": "vjSjEnSernnt",
        "outputId": "60286fcb-b83d-4ff7-ab5e-1167cde06587"
      },
      "source": [
        "length(unique(df_master$CLNT_ID)) # 고유 ID는 9만 33397명"
      ],
      "execution_count": 4,
      "outputs": [
        {
          "output_type": "display_data",
          "data": {
            "text/plain": [
              "[1] 93397"
            ],
            "text/latex": "93397",
            "text/markdown": "93397",
            "text/html": [
              "93397"
            ]
          },
          "metadata": {
            "tags": []
          }
        }
      ]
    },
    {
      "cell_type": "code",
      "metadata": {
        "id": "wWcwlDHttid3"
      },
      "source": [
        "library(haven)\n",
        "df_master$MONTH <- format(as.Date(df_master$SESS_DT), \"%m\")\n",
        "df_master$MONTH <- as.integer(df_master$MONTH)"
      ],
      "execution_count": 38,
      "outputs": []
    },
    {
      "cell_type": "code",
      "metadata": {
        "colab": {
          "base_uri": "https://localhost:8080/"
        },
        "id": "MJXI-qRhA0kk",
        "outputId": "9cbdac27-95fc-466e-87cc-61f2c25078d2"
      },
      "source": [
        "pdf_master <- pdata.frame(df_master, index=c(\"CLNT_ID\",\"MONTH\"))\n",
        "\n",
        "#CLNT_ID와 함께 시간번수를 index로 넣으려고 했으나 오류 발생 \n",
        "#아마도 SESS_DT가 POSIX-format(날짜형식)이라서 그런 것 같음. "
      ],
      "execution_count": 44,
      "outputs": [
        {
          "output_type": "stream",
          "text": [
            "Warning message in pdata.frame(df_master, index = c(\"CLNT_ID\", \"MONTH\")):\n",
            "“duplicate couples (id-time) in resulting pdata.frame\n",
            " to find out which, use, e.g., table(index(your_pdataframe), useNA = \"ifany\")”\n"
          ],
          "name": "stderr"
        }
      ]
    },
    {
      "cell_type": "code",
      "metadata": {
        "id": "UYgAkJtL1gqm",
        "colab": {
          "base_uri": "https://localhost:8080/"
        },
        "outputId": "2461a2e6-a675-47ab-a45b-0ba3b1b7e233"
      },
      "source": [
        "#SESS_DT 형식으로 인해 index에 추가하지 못하는 오류 \n",
        "# 참고: https://stackoverflow.com/questions/31773723/r-plm-regression-with-time-in-posix-format\n",
        "#install.packages('plm')\n",
        "library(dplyr)\n",
        "library(plm)\n",
        "df_master <- df_master %>%\n",
        "    group_by(CLNT_ID) %>%\n",
        "    mutate(clock = seq_along(CLNT_ID))\n",
        "panel <- pdata.frame(df_master, c(\"CLNT_ID\", \"SESS_DT\"))"
      ],
      "execution_count": 9,
      "outputs": [
        {
          "output_type": "stream",
          "text": [
            "\n",
            "Attaching package: ‘plm’\n",
            "\n",
            "\n",
            "The following objects are masked from ‘package:dplyr’:\n",
            "\n",
            "    between, lag, lead\n",
            "\n",
            "\n",
            "Warning message in pdata.frame(df_master, c(\"CLNT_ID\", \"SESS_DT\")):\n",
            "“duplicate couples (id-time) in resulting pdata.frame\n",
            " to find out which, use, e.g., table(index(your_pdataframe), useNA = \"ifany\")”\n"
          ],
          "name": "stderr"
        }
      ]
    },
    {
      "cell_type": "code",
      "metadata": {
        "id": "Q1K7sWQfIUOx"
      },
      "source": [
        "df_master_health <- subset(df_master, CLAC1_NM==\"건강식품\") \n",
        "df_master_ice <- subset(df_master, CLAC1_NM==\"냉동식품\") \n",
        "df_master_ref <- subset(df_master, CLAC1_NM==\"냉장식품\") \n",
        "df_master_fruit <- subset(df_master, CLAC1_NM==\"과일\")\n",
        "df_master_meet  <- subset(df_master, CLAC1_NM==\"축산물\")\n",
        "#따로 분석해볼까 싶어서 분리"
      ],
      "execution_count": 29,
      "outputs": []
    },
    {
      "cell_type": "code",
      "metadata": {
        "id": "E5Di389X59xp"
      },
      "source": [
        "df_master$DT_INT <- as.integer(format(df_master$SESS_DT, \"%Y%m%d\"))"
      ],
      "execution_count": 30,
      "outputs": []
    },
    {
      "cell_type": "code",
      "metadata": {
        "colab": {
          "base_uri": "https://localhost:8080/"
        },
        "id": "FEYbCy-nALGN",
        "outputId": "2a7d68a3-552e-4fc5-9e0d-66728f7f7354"
      },
      "source": [
        "panel <- pdata.frame(df_master, c(\"CLNT_ID\", \"SESS_DT\"))"
      ],
      "execution_count": 33,
      "outputs": [
        {
          "output_type": "stream",
          "text": [
            "Warning message in pdata.frame(df_master, c(\"CLNT_ID\", \"SESS_DT\")):\n",
            "“duplicate couples (id-time) in resulting pdata.frame\n",
            " to find out which, use, e.g., table(index(your_pdataframe), useNA = \"ifany\")”\n"
          ],
          "name": "stderr"
        }
      ]
    },
    {
      "cell_type": "code",
      "metadata": {
        "colab": {
          "base_uri": "https://localhost:8080/",
          "height": 269
        },
        "id": "J1fzM1YQATN8",
        "outputId": "7879539a-d5e7-43b7-f71f-0325e9f824f8"
      },
      "source": [
        "a <- plm(log(PD_AMOUNT) ~ factor(SEASON)+TEMP_AVG+RAINFALL_DAY+HUMID_AVG+DUST, model=\"within\", data=pdf_master)"
      ],
      "execution_count": 45,
      "outputs": [
        {
          "output_type": "stream",
          "text": [
            "Warning message:\n",
            "“non-unique values when setting 'row.names': ‘100004-5’, ‘1000190-5’, ‘1000453-9’, ‘1000657-5’, ‘1000699-4’, ‘1000758-9’, ‘1000974-8’, ‘1001157-7’, ‘1001544-4’, ‘1001840-5’, ‘1002049-5’, ‘1002452-9’, ‘1002487-6’, ‘1002618-8’, ‘1002713-6’, ‘1002833-7’, ‘1002833-8’, ‘1003050-9’, ‘1003684-8’, ‘100392-7’, ‘100400-5’, ‘100419-9’, ‘1004249-8’, ‘10043-9’, ‘1004780-7’, ‘1004909-4’, ‘1004992-9’, ‘1005008-4’, ‘1005070-9’, ‘1005110-9’, ‘1005236-8’, ‘1005315-5’, ‘1005549-4’, ‘1005606-9’, ‘1005666-5’, ‘1005925-8’, ‘1006217-9’, ‘1006502-6’, ‘1006663-9’, ‘1007384-7’, ‘1007525-7’, ‘1007880-5’, ‘1007910-8’, ‘1008017-9’, ‘1008164-9’, ‘10082-8’, ‘100826-4’, ‘1008306-7’, ‘100842-8’, ‘1008786-4’, ‘1008824-7’, ‘1008991-9’, ‘1009130-4’, ‘1009160-8’, ‘1009261-9’, ‘1009293-7’, ‘100952-5’, ‘10097-9’, ‘1009717-7’, ‘1009735-8’, ‘1009793-4’, ‘1009793-5’, ‘1009793-6’, ‘1009866-5’, ‘1009866-7’, ‘1009934-4’, ‘1009957-4’, ‘10101-5’, ‘101019-4’, ‘1010286-4’, ‘1010286-5’, ‘1010311-9’, ‘1010738-9’, ‘1011002-9’, ‘1011022-9’, ‘1011101-8’, ‘1011711-8’, ‘1011717-9’, ‘1012001-8’, ‘1012063-5’, ‘1012065-9’, ‘1012082-8’, ‘1012466-5’, ‘1012513-4’, ‘1012513-7’, ‘1012513-8’, ‘1012685-7’, ‘1012691-9’, ‘1012933-7’, ‘1013089-9’, ‘1013093-6’, ‘1013112-4’, ‘1013443-7’, ‘101345-9’, ‘1013474-7’, ‘1013601-7’, ‘1013668-6’, ‘101375-9’, ‘1013797-8’, ‘1014009-7’, ‘1014066-8’, ‘1014669-8’, ‘101468-9’, ‘1014797-4’, ‘1014982-4’, ‘1015271-7’, ‘1015742-4’, ‘1015934-9’, ‘1016012-4’, ‘1016258-7’, ‘1016296-4’, ‘1016373-4’, ‘1016373-5’, ‘1016513-9’, ‘1016570-9’, ‘1017046-5’, ‘1017054-8’, ‘1017294-8’, ‘1017351-6’, ‘1017571-9’, ‘1017653-8’, ‘10177-7’, ‘1017986-4’, ‘1018215-9’, ‘1018340-6’, ‘1018703-5’, ‘1018982-9’, ‘1019008-4’, ‘1019094-8’, ‘1019129-4’, ‘101924-9’, ‘1019391-6’, ‘1019432-4’, ‘1019497-9’, ‘1019612-6’, ‘1019649-4’, ‘1019668-7’, ‘1019703-7’, ‘1019876-4’, ‘102015-5’, ‘10206-4’, ‘102071-8’, ‘1020899-7’, ‘1020907-9’, ‘1020955-9’, ‘1021003-4’, ‘1021003-5’, ‘1021003-7’, ‘1021079-9’, ‘1021783-7’, ‘1021800-6’, ‘1022067-5’, ‘1022118-5’, ‘1022129-5’, ‘1022559-6’, ‘1022949-6’, ‘1023128-5’, ‘1023477-4’, ‘1023812-8’, ‘1024243-8’, ‘1024550-8’, ‘102468-7’, ‘1025292-9’, ‘102530-6’, ‘1025356-9’, ‘1025499-9’, ‘1025619-6’, ‘1025835-9’, ‘1025846-7’, ‘1026644-6’, ‘1026644-8’, ‘1026840-6’, ‘1026894-7’, ‘1027189-6’, ‘1027270-6’, ‘1027322-6’, ‘1027389-9’, ‘1027532-4’, ‘1027585-9’, ‘1028029-6’, ‘1028106-9’, ‘102885-4’, ‘1028900-5’, ‘1029055-7’, ‘1029325-4’, ‘1029325-9’, ‘1029397-6’, ‘1029512-7’, ‘1029623-9’, ‘102963-4’, ‘1029639-6’, ‘1029725-8’, ‘1030029-4’, ‘103007-6’, ‘1030224-6’, ‘1030710-9’, ‘1030957-9’, ‘1031163-6’, ‘1031185-8’, ‘1031385-4’, ‘1031496-4’, ‘1031614-4’, ‘1031687-8’, ‘1031791-7’, ‘1032254-8’, ‘10323-9’, ‘1032635-5’, ‘1033165-6’, ‘10333-5’, ‘1033356-8’, ‘1033392-9’, ‘1034334-6’, ‘1034741-6’, ‘1034783-6’, ‘1034783-8’, ‘1035107-8’, ‘1035128-9’, ‘1035152-8’, ‘103533-4’, ‘103541-6’, ‘1035415-4’, ‘1035810-4’, ‘1035810-5’, ‘1035966-6’, ‘1036095-7’, ‘1036779-9’, ‘1037337-4’, ‘1037524-4’, ‘1037724-7’, ‘1037785-5’, ‘1038396-7’, ‘1038396-8’, ‘1038473-6’, ‘1038481-5’, ‘1038538-9’, ‘1038700-7’, ‘1038905-8’, ‘1039231-5’, ‘1039249-5’, ‘1039373-8’, ‘10394-4’, ‘1039444-4’, ‘1039550-4’, ‘1039607-9’, ‘1039706-4’, ‘1039822-8’, ‘104004-4’, ‘1040070-6’, ‘104024-9’, ‘104027-7’, ‘1040586-9’, ‘1041184-7’, ‘1041239-9’, ‘1041447-5’, ‘1041480-9’, ‘1041749-5’, ‘1041772-5’, ‘1041853-9’, ‘1042163-9’, ‘1042221-9’, ‘1042327-9’, ‘1042982-4’, ‘1042982-8’, ‘1043066-6’, ‘1043066-7’, ‘1043066-8’, ‘104333-8’, ‘104333-9’, ‘1043462-5’, ‘1043858-7’, ‘1044127-4’, ‘1044127-6’, ‘1044127-7’, ‘1044244-9’, ‘1044359-6’, ‘1044692-8’, ‘1044776-8’, ‘1045019-5’, ‘1045019-7’, ‘1045254-7’, ‘1045916-4’, ‘104593-6’, ‘104593-9’, ‘1045969-4’, ‘1045993-4’, ‘1045993-5’, ‘104636-9’, ‘1046453-4’, ‘1046456-5’, ‘1046859-6’, ‘104691-9’, ‘1047125-8’, ‘1047261-4’, ‘1047290-7’, ‘1047368-8’, ‘1047506-9’, ‘1047551-7’, ‘1047781-6’, ‘1048027-5’, ‘1048263-9’, ‘1048275-4’, ‘1048395-7’, ‘1048870-9’, ‘104901-5’, ‘1049461-5’, ‘1049501-7’, ‘1049501-8’, ‘1049683-6’, ‘1049683-7’, ‘1049851-5’, ‘104993-9’, ‘1050098-8’, ‘1050287-4’, ‘1050512-9’, ‘1050576-6’, ‘1051018-4’, ‘1051082-7’, ‘1051155-6’, ‘1051294-5’, ‘1051774-7’, ‘105186-6’, ‘1052100-8’, ‘1052134-8’, ‘1052462-6’, ‘1052901-7’, ‘1052905-4’, ‘1052942-6’, ‘1053219-6’, ‘1053224-4’, ‘1053475-9’, ‘1053555-9’, ‘1053864-9’, ‘1054115-6’, ‘1054283-9’, ‘1054858-9’, ‘1054961-5’, ‘1055286-9’, ‘1055315-4’, ‘1055599-6’, ‘1055687-8’, ‘1055693-9’, ‘1055851-6’, ‘1055985-9’, ‘1056307-4’, ‘105656-4’, ‘1056954-8’, ‘1056959-6’, ‘1057017-4’, ‘1057198-7’, ‘1057213-7’, ‘1057230-6’, ‘1057376-5’, ‘1057376-6’, ‘1057429-6’, ‘1057429-9’, ‘1057577-4’, ‘1057867-5’, ‘1057971-7’, ‘1058147-7’, ‘1058261-9’, ‘1058454-9’, ‘1058585-7’, ‘1058609-7’, ‘1058609-8’, ‘1058741-9’, ‘1058743-4’, ‘1058818-7’, ‘1058900-8’, ‘1058917-4’, ‘1059198-6’, ‘1059198-7’, ‘1059255-5’, ‘1059302-7’, ‘1059565-9’, ‘1059638-9’, ‘1059866-5’, ‘1060151-9’, ‘1060605-4’, ‘1060799-4’, ‘1060906-9’, ‘1060914-9’, ‘1060930-9’, ‘1061024-9’, ‘1061028-9’, ‘1061121-6’, ‘1061436-8’, ‘106163-9’, ‘106170-6’, ‘1061844-4’, ‘1061870-5’, ‘1062181-5’, ‘1062240-5’, ‘1062402-4’, ‘106266-8’, ‘1062741-5’, ‘106293-4’, ‘106346-7’, ‘1063628-4’, ‘1063739-7’, ‘1063840-9’, ‘1064228-7’, ‘1064337-8’, ‘1064498-8’, ‘1064723-9’, ‘1064809-6’, ‘1064809-8’, ‘106487-8’, ‘1065037-8’, ‘1065430-4’, ‘1065880-5’, ‘106589-9’, ‘1065933-4’, ‘1066044-5’, ‘1066177-9’, ‘1066303-9’, ‘1066360-7’, ‘106700-4’, ‘106700-5’, ‘106700-7’, ‘106706-5’, ‘1067208-4’, ‘1067288-4’, ‘1067288-6’, ‘1067350-6’, ‘1067504-6’, ‘1067946-5’, ‘1068102-9’, ‘1068751-9’, ‘1068800-7’, ‘1068850-4’, ‘1069004-8’, ‘1069273-5’, ‘1069410-4’, ‘1069410-6’, ‘1069766-5’, ‘1069766-8’, ‘1069766-9’, ‘1069782-5’, ‘10698-9’, ‘1069877-5’, ‘1070031-4’, ‘1070109-7’, ‘1070109-8’, ‘1070181-9’, ‘1070323-4’, ‘1070678-5’, ‘1070733-6’, ‘1070733-9’, ‘1070765-5’, ‘1070842-9’, ‘1070872-9’, ‘1070998-4’, ‘1071018-7’, ‘1071161-8’, ‘1071192-8’, ‘1071207-5’, ‘1071379-8’, ‘1071383-5’, ‘1071595-9’, ‘1071867-6’, ‘1072178-4’, ‘107221-6’, ‘1072287-9’, ‘1072503-7’, ‘1072565-4’, ‘1072585-9’, ‘1072818-9’, ‘1072940-5’, ‘1073023-6’, ‘107313-5’, ‘1073398-6’, ‘1073609-7’, ‘1073678-8’, ‘107408-9’, ‘1074117-9’, ‘1074331-9’, ‘1074334-5’, ‘1074334-7’, ‘1074810-8’, ‘1074862-4’, ‘1074902-4’, ‘1074944-9’, ‘1075095-4’, ‘”\n"
          ],
          "name": "stderr"
        },
        {
          "output_type": "error",
          "ename": "ERROR",
          "evalue": "ignored",
          "traceback": [
            "Error in `.rowNamesDF<-`(x, value = value): duplicate 'row.names' are not allowed\nTraceback:\n",
            "1. plm(log(PD_AMOUNT) ~ factor(SEASON) + TEMP_AVG + RAINFALL_DAY + \n .     HUMID_AVG + DUST, model = \"within\", data = pdf_master)",
            "2. `row.names<-`(`*tmp*`, value = orig_rownames[as.numeric(row.names(data))])",
            "3. `row.names<-.data.frame`(`*tmp*`, value = orig_rownames[as.numeric(row.names(data))])",
            "4. `.rowNamesDF<-`(x, value = value)",
            "5. stop(\"duplicate 'row.names' are not allowed\")"
          ]
        }
      ]
    },
    {
      "cell_type": "code",
      "metadata": {
        "id": "QFweh3iyd7E5",
        "colab": {
          "base_uri": "https://localhost:8080/",
          "height": 493
        },
        "outputId": "a8a6504c-71c9-4171-c1e9-f017ba134991"
      },
      "source": [
        "b <- plm(log(PD_AMOUNT) ~ factor(SEASON)+TEMP_AVG+RAINFALL_DAY+HUMID_AVG+DUST, index=c(\"CLNT_ID\"), data=df_master, model=\"random\")\n",
        "summary(b)\n",
        "#와씨 r제곱 0.86"
      ],
      "execution_count": 46,
      "outputs": [
        {
          "output_type": "display_data",
          "data": {
            "text/plain": [
              "Oneway (individual) effect Within Model\n",
              "\n",
              "Call:\n",
              "plm(formula = log(PD_AMOUNT) ~ factor(SEASON) + TEMP_AVG + RAINFALL_DAY + \n",
              "    HUMID_AVG + DUST, data = df_master, model = \"within\", index = c(\"CLNT_ID\"))\n",
              "\n",
              "Unbalanced Panel: n = 93397, T = 1-576, N = 188189\n",
              "\n",
              "Residuals:\n",
              "     Min.   1st Qu.    Median   3rd Qu.      Max. \n",
              "-5.671406 -0.067130  0.000000  0.055415  3.871861 \n",
              "\n",
              "Coefficients:\n",
              "                        Estimate  Std. Error  t-value  Pr(>|t|)    \n",
              "factor(SEASON)spring -0.19010405  0.01413507 -13.4491 < 2.2e-16 ***\n",
              "factor(SEASON)summer -0.17314923  0.01283875 -13.4865 < 2.2e-16 ***\n",
              "TEMP_AVG             -0.00363611  0.00074383  -4.8884 1.018e-06 ***\n",
              "RAINFALL_DAY          0.00046972  0.00017817   2.6364  0.008381 ** \n",
              "HUMID_AVG             0.00020616  0.00021658   0.9519  0.341156    \n",
              "DUST                  0.00051156  0.00019180   2.6671  0.007653 ** \n",
              "---\n",
              "Signif. codes:  0 ‘***’ 0.001 ‘**’ 0.01 ‘*’ 0.05 ‘.’ 0.1 ‘ ’ 1\n",
              "\n",
              "Total Sum of Squares:    30702\n",
              "Residual Sum of Squares: 30616\n",
              "R-Squared:      0.0028253\n",
              "Adj. R-Squared: -0.97979\n",
              "F-statistic: 44.7603 on 6 and 94786 DF, p-value: < 2.22e-16"
            ]
          },
          "metadata": {
            "tags": []
          }
        }
      ]
    },
    {
      "cell_type": "markdown",
      "metadata": {
        "id": "2Gd4osIOlZrU"
      },
      "source": [
        "# 패널 회귀분석 공부좀 해야됨 \n",
        "## 고정효과, 임의효과 개념 아직도 제대로 모름ㅠ \n",
        "\n"
      ]
    }
  ]
}