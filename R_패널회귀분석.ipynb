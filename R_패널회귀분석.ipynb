{
  "nbformat": 4,
  "nbformat_minor": 0,
  "metadata": {
    "colab": {
      "name": "R 패널회귀분석",
      "provenance": [],
      "authorship_tag": "ABX9TyMPNObPCtpRQSN7idHDtoEq",
      "include_colab_link": true
    },
    "kernelspec": {
      "name": "ir",
      "display_name": "R"
    },
    "language_info": {
      "name": "R"
    }
  },
  "cells": [
    {
      "cell_type": "markdown",
      "metadata": {
        "id": "view-in-github",
        "colab_type": "text"
      },
      "source": [
        "<a href=\"https://colab.research.google.com/github/chldnjstjr/Weather-Consumer/blob/main/R_%ED%8C%A8%EB%84%90%ED%9A%8C%EA%B7%80%EB%B6%84%EC%84%9D.ipynb\" target=\"_parent\"><img src=\"https://colab.research.google.com/assets/colab-badge.svg\" alt=\"Open In Colab\"/></a>"
      ]
    },
    {
      "cell_type": "markdown",
      "metadata": {
        "id": "GlIJjChxes_6"
      },
      "source": [
        "Colab에서 R 사용 가능\n",
        "\n",
        "[링크 텍스트](https://www.youtube.com/watch?v=ugNlbyOlWlQ) #이 분 없었으면 평생 헤맸을듯"
      ]
    },
    {
      "cell_type": "code",
      "metadata": {
        "id": "57Zb-HPyd9zJ"
      },
      "source": [
        "system(\"gdown --id 1q0JuMeYNscfq2BrGuEfk-_fDZTj2y5k-\")\n",
        "library(readxl)"
      ],
      "execution_count": 1,
      "outputs": []
    },
    {
      "cell_type": "code",
      "metadata": {
        "id": "lSvTiJwEeXEm"
      },
      "source": [
        "df_master = read_excel(\"df_master.xlsx\") #구글 드라이브에서 주소 가져올 때 링크가 있는 모든 사용자에게 공개 꼭! 해줘야함 "
      ],
      "execution_count": 2,
      "outputs": []
    },
    {
      "cell_type": "code",
      "metadata": {
        "colab": {
          "base_uri": "https://localhost:8080/",
          "height": 830
        },
        "id": "zYGeTnjniiw4",
        "outputId": "6ead0975-0eea-47dd-e1c7-c4d1da120a72"
      },
      "source": [
        "head(df_master)"
      ],
      "execution_count": 3,
      "outputs": [
        {
          "output_type": "display_data",
          "data": {
            "text/plain": [
              "  CLNT_ID SESS_ID PD_C   PD_ADD_NM PD_BRA_NM      PD_BUY_AM PD_BUY_CT\n",
              "1 4316011 2889247 574397 1개       농협홍삼한삼인 39000     1        \n",
              "2 4351904 8220376 747273 (not set) [새남해농협]   39000     1        \n",
              "3 4351904 8220376 803015 (not set) [새남해농협]   45430     1        \n",
              "4 4395026 7473082 722396 1개       천지인         39000     1        \n",
              "5 4549371 4421328 563452 1개       정관장.        61500     1        \n",
              "6 4549371 4421328 372235 1개       천호엔케어     94000     1        \n",
              "  PD_NM                                                CLAC1_NM\n",
              "1 한삼인 홍삼정 굿데이스틱 60포/쇼핑백증정             건강식품\n",
              "2 새남해농협 해두룸 흑마늘진액 프리미엄 70ml 20팩      건강식품\n",
              "3 [새남해농협]해두룸 흑마늘진액(80ml*30봉)             건강식품\n",
              "4 [동원천지인] 홍삼정 데일리원 (10mlx30포)             건강식품\n",
              "5 ◆ 홍삼원기 (50ml*30포)X2박스 + 쇼핑백(2개)증정       건강식품\n",
              "6 [#텐텐] 온기 담은 3년강화사자발쑥 100ml 30개입 2박스 건강식품\n",
              "  CLAC2_NM          ⋯ TEMP_AVG RAINFALL_HR RAINFALL_DAY WIND_AVG DEWPT_AVG\n",
              "1 홍삼/인삼가공식품 ⋯ 30.5     1.58         1.0         1.4      23.7     \n",
              "2 건강진액          ⋯ 23.2     8.13        28.3         1.9      22.3     \n",
              "3 건강진액          ⋯ 23.2     8.13        28.3         1.9      22.3     \n",
              "4 홍삼/인삼가공식품 ⋯ 22.3     0.00         0.0         1.6      11.0     \n",
              "5 홍삼/인삼가공식품 ⋯ 26.1     0.00         0.0         2.2      22.2     \n",
              "6 건강진액          ⋯ 26.1     0.00         0.0         2.2      22.2     \n",
              "  HUMID_AVG STEAMP_AVG ATMOS_AGV SOLAR_SUM DUST\n",
              "1 68.6      29.3       1000.4    12.29     33  \n",
              "2 95.4      27.0       1001.4     1.50     38  \n",
              "3 95.4      27.0       1001.4     1.50     38  \n",
              "4 49.8      13.2        999.9    26.49     44  \n",
              "5 81.0      26.8       1004.0    27.78     19  \n",
              "6 81.0      26.8       1004.0    27.78     19  "
            ],
            "text/latex": "A tibble: 6 × 29\n\\begin{tabular}{lllllllllllllllllllll}\n CLNT\\_ID & SESS\\_ID & PD\\_C & PD\\_ADD\\_NM & PD\\_BRA\\_NM & PD\\_BUY\\_AM & PD\\_BUY\\_CT & PD\\_NM & CLAC1\\_NM & CLAC2\\_NM & ⋯ & TEMP\\_AVG & RAINFALL\\_HR & RAINFALL\\_DAY & WIND\\_AVG & DEWPT\\_AVG & HUMID\\_AVG & STEAMP\\_AVG & ATMOS\\_AGV & SOLAR\\_SUM & DUST\\\\\n <dbl> & <dbl> & <dbl> & <chr> & <chr> & <dbl> & <dbl> & <chr> & <chr> & <chr> & ⋯ & <dbl> & <dbl> & <dbl> & <dbl> & <dbl> & <dbl> & <dbl> & <dbl> & <dbl> & <dbl>\\\\\n\\hline\n\t 4316011 & 2889247 & 574397 & 1개       & 농협홍삼한삼인 & 39000 & 1 & 한삼인 홍삼정 굿데이스틱 60포/쇼핑백증정             & 건강식품 & 홍삼/인삼가공식품 & ⋯ & 30.5 & 1.58 &  1.0 & 1.4 & 23.7 & 68.6 & 29.3 & 1000.4 & 12.29 & 33\\\\\n\t 4351904 & 8220376 & 747273 & (not set) & {[}새남해농협{]}   & 39000 & 1 & 새남해농협 해두룸 흑마늘진액 프리미엄 70ml 20팩      & 건강식품 & 건강진액          & ⋯ & 23.2 & 8.13 & 28.3 & 1.9 & 22.3 & 95.4 & 27.0 & 1001.4 &  1.50 & 38\\\\\n\t 4351904 & 8220376 & 803015 & (not set) & {[}새남해농협{]}   & 45430 & 1 & {[}새남해농협{]}해두룸 흑마늘진액(80ml*30봉)             & 건강식품 & 건강진액          & ⋯ & 23.2 & 8.13 & 28.3 & 1.9 & 22.3 & 95.4 & 27.0 & 1001.4 &  1.50 & 38\\\\\n\t 4395026 & 7473082 & 722396 & 1개       & 천지인         & 39000 & 1 & {[}동원천지인{]} 홍삼정 데일리원 (10mlx30포)             & 건강식품 & 홍삼/인삼가공식품 & ⋯ & 22.3 & 0.00 &  0.0 & 1.6 & 11.0 & 49.8 & 13.2 &  999.9 & 26.49 & 44\\\\\n\t 4549371 & 4421328 & 563452 & 1개       & 정관장.        & 61500 & 1 & ◆ 홍삼원기 (50ml*30포)X2박스 + 쇼핑백(2개)증정       & 건강식품 & 홍삼/인삼가공식품 & ⋯ & 26.1 & 0.00 &  0.0 & 2.2 & 22.2 & 81.0 & 26.8 & 1004.0 & 27.78 & 19\\\\\n\t 4549371 & 4421328 & 372235 & 1개       & 천호엔케어     & 94000 & 1 & {[}\\#텐텐{]} 온기 담은 3년강화사자발쑥 100ml 30개입 2박스 & 건강식품 & 건강진액          & ⋯ & 26.1 & 0.00 &  0.0 & 2.2 & 22.2 & 81.0 & 26.8 & 1004.0 & 27.78 & 19\\\\\n\\end{tabular}\n",
            "text/markdown": "\nA tibble: 6 × 29\n\n| CLNT_ID &lt;dbl&gt; | SESS_ID &lt;dbl&gt; | PD_C &lt;dbl&gt; | PD_ADD_NM &lt;chr&gt; | PD_BRA_NM &lt;chr&gt; | PD_BUY_AM &lt;dbl&gt; | PD_BUY_CT &lt;dbl&gt; | PD_NM &lt;chr&gt; | CLAC1_NM &lt;chr&gt; | CLAC2_NM &lt;chr&gt; | ⋯ ⋯ | TEMP_AVG &lt;dbl&gt; | RAINFALL_HR &lt;dbl&gt; | RAINFALL_DAY &lt;dbl&gt; | WIND_AVG &lt;dbl&gt; | DEWPT_AVG &lt;dbl&gt; | HUMID_AVG &lt;dbl&gt; | STEAMP_AVG &lt;dbl&gt; | ATMOS_AGV &lt;dbl&gt; | SOLAR_SUM &lt;dbl&gt; | DUST &lt;dbl&gt; |\n|---|---|---|---|---|---|---|---|---|---|---|---|---|---|---|---|---|---|---|---|---|\n| 4316011 | 2889247 | 574397 | 1개       | 농협홍삼한삼인 | 39000 | 1 | 한삼인 홍삼정 굿데이스틱 60포/쇼핑백증정             | 건강식품 | 홍삼/인삼가공식품 | ⋯ | 30.5 | 1.58 |  1.0 | 1.4 | 23.7 | 68.6 | 29.3 | 1000.4 | 12.29 | 33 |\n| 4351904 | 8220376 | 747273 | (not set) | [새남해농협]   | 39000 | 1 | 새남해농협 해두룸 흑마늘진액 프리미엄 70ml 20팩      | 건강식품 | 건강진액          | ⋯ | 23.2 | 8.13 | 28.3 | 1.9 | 22.3 | 95.4 | 27.0 | 1001.4 |  1.50 | 38 |\n| 4351904 | 8220376 | 803015 | (not set) | [새남해농협]   | 45430 | 1 | [새남해농협]해두룸 흑마늘진액(80ml*30봉)             | 건강식품 | 건강진액          | ⋯ | 23.2 | 8.13 | 28.3 | 1.9 | 22.3 | 95.4 | 27.0 | 1001.4 |  1.50 | 38 |\n| 4395026 | 7473082 | 722396 | 1개       | 천지인         | 39000 | 1 | [동원천지인] 홍삼정 데일리원 (10mlx30포)             | 건강식품 | 홍삼/인삼가공식품 | ⋯ | 22.3 | 0.00 |  0.0 | 1.6 | 11.0 | 49.8 | 13.2 |  999.9 | 26.49 | 44 |\n| 4549371 | 4421328 | 563452 | 1개       | 정관장.        | 61500 | 1 | ◆ 홍삼원기 (50ml*30포)X2박스 + 쇼핑백(2개)증정       | 건강식품 | 홍삼/인삼가공식품 | ⋯ | 26.1 | 0.00 |  0.0 | 2.2 | 22.2 | 81.0 | 26.8 | 1004.0 | 27.78 | 19 |\n| 4549371 | 4421328 | 372235 | 1개       | 천호엔케어     | 94000 | 1 | [#텐텐] 온기 담은 3년강화사자발쑥 100ml 30개입 2박스 | 건강식품 | 건강진액          | ⋯ | 26.1 | 0.00 |  0.0 | 2.2 | 22.2 | 81.0 | 26.8 | 1004.0 | 27.78 | 19 |\n\n",
            "text/html": [
              "<table class=\"dataframe\">\n",
              "<caption>A tibble: 6 × 29</caption>\n",
              "<thead>\n",
              "\t<tr><th scope=col>CLNT_ID</th><th scope=col>SESS_ID</th><th scope=col>PD_C</th><th scope=col>PD_ADD_NM</th><th scope=col>PD_BRA_NM</th><th scope=col>PD_BUY_AM</th><th scope=col>PD_BUY_CT</th><th scope=col>PD_NM</th><th scope=col>CLAC1_NM</th><th scope=col>CLAC2_NM</th><th scope=col>⋯</th><th scope=col>TEMP_AVG</th><th scope=col>RAINFALL_HR</th><th scope=col>RAINFALL_DAY</th><th scope=col>WIND_AVG</th><th scope=col>DEWPT_AVG</th><th scope=col>HUMID_AVG</th><th scope=col>STEAMP_AVG</th><th scope=col>ATMOS_AGV</th><th scope=col>SOLAR_SUM</th><th scope=col>DUST</th></tr>\n",
              "\t<tr><th scope=col>&lt;dbl&gt;</th><th scope=col>&lt;dbl&gt;</th><th scope=col>&lt;dbl&gt;</th><th scope=col>&lt;chr&gt;</th><th scope=col>&lt;chr&gt;</th><th scope=col>&lt;dbl&gt;</th><th scope=col>&lt;dbl&gt;</th><th scope=col>&lt;chr&gt;</th><th scope=col>&lt;chr&gt;</th><th scope=col>&lt;chr&gt;</th><th scope=col>⋯</th><th scope=col>&lt;dbl&gt;</th><th scope=col>&lt;dbl&gt;</th><th scope=col>&lt;dbl&gt;</th><th scope=col>&lt;dbl&gt;</th><th scope=col>&lt;dbl&gt;</th><th scope=col>&lt;dbl&gt;</th><th scope=col>&lt;dbl&gt;</th><th scope=col>&lt;dbl&gt;</th><th scope=col>&lt;dbl&gt;</th><th scope=col>&lt;dbl&gt;</th></tr>\n",
              "</thead>\n",
              "<tbody>\n",
              "\t<tr><td>4316011</td><td>2889247</td><td>574397</td><td>1개      </td><td>농협홍삼한삼인</td><td>39000</td><td>1</td><td>한삼인 홍삼정 굿데이스틱 60포/쇼핑백증정            </td><td>건강식품</td><td>홍삼/인삼가공식품</td><td>⋯</td><td>30.5</td><td>1.58</td><td> 1.0</td><td>1.4</td><td>23.7</td><td>68.6</td><td>29.3</td><td>1000.4</td><td>12.29</td><td>33</td></tr>\n",
              "\t<tr><td>4351904</td><td>8220376</td><td>747273</td><td>(not set)</td><td>[새남해농협]  </td><td>39000</td><td>1</td><td>새남해농협 해두룸 흑마늘진액 프리미엄 70ml 20팩     </td><td>건강식품</td><td>건강진액         </td><td>⋯</td><td>23.2</td><td>8.13</td><td>28.3</td><td>1.9</td><td>22.3</td><td>95.4</td><td>27.0</td><td>1001.4</td><td> 1.50</td><td>38</td></tr>\n",
              "\t<tr><td>4351904</td><td>8220376</td><td>803015</td><td>(not set)</td><td>[새남해농협]  </td><td>45430</td><td>1</td><td>[새남해농협]해두룸 흑마늘진액(80ml*30봉)            </td><td>건강식품</td><td>건강진액         </td><td>⋯</td><td>23.2</td><td>8.13</td><td>28.3</td><td>1.9</td><td>22.3</td><td>95.4</td><td>27.0</td><td>1001.4</td><td> 1.50</td><td>38</td></tr>\n",
              "\t<tr><td>4395026</td><td>7473082</td><td>722396</td><td>1개      </td><td>천지인        </td><td>39000</td><td>1</td><td>[동원천지인] 홍삼정 데일리원 (10mlx30포)            </td><td>건강식품</td><td>홍삼/인삼가공식품</td><td>⋯</td><td>22.3</td><td>0.00</td><td> 0.0</td><td>1.6</td><td>11.0</td><td>49.8</td><td>13.2</td><td> 999.9</td><td>26.49</td><td>44</td></tr>\n",
              "\t<tr><td>4549371</td><td>4421328</td><td>563452</td><td>1개      </td><td>정관장.       </td><td>61500</td><td>1</td><td>◆ 홍삼원기 (50ml*30포)X2박스 + 쇼핑백(2개)증정      </td><td>건강식품</td><td>홍삼/인삼가공식품</td><td>⋯</td><td>26.1</td><td>0.00</td><td> 0.0</td><td>2.2</td><td>22.2</td><td>81.0</td><td>26.8</td><td>1004.0</td><td>27.78</td><td>19</td></tr>\n",
              "\t<tr><td>4549371</td><td>4421328</td><td>372235</td><td>1개      </td><td>천호엔케어    </td><td>94000</td><td>1</td><td>[#텐텐] 온기 담은 3년강화사자발쑥 100ml 30개입 2박스</td><td>건강식품</td><td>건강진액         </td><td>⋯</td><td>26.1</td><td>0.00</td><td> 0.0</td><td>2.2</td><td>22.2</td><td>81.0</td><td>26.8</td><td>1004.0</td><td>27.78</td><td>19</td></tr>\n",
              "</tbody>\n",
              "</table>\n"
            ]
          },
          "metadata": {
            "tags": []
          }
        }
      ]
    },
    {
      "cell_type": "code",
      "metadata": {
        "colab": {
          "base_uri": "https://localhost:8080/",
          "height": 34
        },
        "id": "UGenOATLI-oK",
        "outputId": "1416d44d-47d2-46e9-e8b0-0d72e6415dbe"
      },
      "source": [
        "unique(df_master$CLAC1_NM)"
      ],
      "execution_count": 11,
      "outputs": [
        {
          "output_type": "display_data",
          "data": {
            "text/plain": [
              "[1] \"건강식품\" \"냉동식품\" \"냉장식품\" \"과일\"     \"축산물\"  "
            ],
            "text/latex": "\\begin{enumerate*}\n\\item '건강식품'\n\\item '냉동식품'\n\\item '냉장식품'\n\\item '과일'\n\\item '축산물'\n\\end{enumerate*}\n",
            "text/markdown": "1. '건강식품'\n2. '냉동식품'\n3. '냉장식품'\n4. '과일'\n5. '축산물'\n\n\n",
            "text/html": [
              "<style>\n",
              ".list-inline {list-style: none; margin:0; padding: 0}\n",
              ".list-inline>li {display: inline-block}\n",
              ".list-inline>li:not(:last-child)::after {content: \"\\00b7\"; padding: 0 .5ex}\n",
              "</style>\n",
              "<ol class=list-inline><li>'건강식품'</li><li>'냉동식품'</li><li>'냉장식품'</li><li>'과일'</li><li>'축산물'</li></ol>\n"
            ]
          },
          "metadata": {
            "tags": []
          }
        }
      ]
    },
    {
      "cell_type": "code",
      "metadata": {
        "id": "Q1K7sWQfIUOx"
      },
      "source": [
        "df_master_health <- subset(df_master, CLAC1_NM==\"건강식품\") \n",
        "df_master_ice <- subset(df_master, CLAC1_NM==\"냉동식품\") \n",
        "df_master_ref <- subset(df_master, CLAC1_NM==\"냉장식품\") \n",
        "df_master_fruit <- subset(df_master, CLAC1_NM==\"과일\")\n",
        "df_master_meet  <- subset(df_master, CLAC1_NM==\"축산물\")"
      ],
      "execution_count": 12,
      "outputs": []
    },
    {
      "cell_type": "code",
      "metadata": {
        "colab": {
          "base_uri": "https://localhost:8080/"
        },
        "id": "tgq_WSbs987E",
        "outputId": "28dc28c8-91e5-4d3f-8b2a-bcf587b9c50f"
      },
      "source": [
        "install.packages('plm')\n",
        "library(plm)"
      ],
      "execution_count": 6,
      "outputs": [
        {
          "output_type": "stream",
          "text": [
            "Installing package into ‘/usr/local/lib/R/site-library’\n",
            "(as ‘lib’ is unspecified)\n",
            "\n",
            "also installing the dependencies ‘miscTools’, ‘rbibutils’, ‘bdsmatrix’, ‘zoo’, ‘sandwich’, ‘lmtest’, ‘maxLik’, ‘Rdpack’, ‘Formula’\n",
            "\n",
            "\n"
          ],
          "name": "stderr"
        }
      ]
    },
    {
      "cell_type": "code",
      "metadata": {
        "colab": {
          "base_uri": "https://localhost:8080/",
          "height": 459
        },
        "id": "O9R6v7bS0UGL",
        "outputId": "43679c65-64c3-4a22-f482-cb7a00833ebe"
      },
      "source": [
        "a=plm(log(PD_AMOUNT) ~ TEMP_AVG+RAINFALL_DAY+HUMID_AVG+DUST,index=\"CLNT_ID\" ,data=df_master_health, model=\"within\")\n",
        "summary(a)\n",
        "\n",
        "#출처 https://m.blog.naver.com/PostView.naver?isHttpsRedirect=true&blogId=vnf3751&logNo=220868710769"
      ],
      "execution_count": 33,
      "outputs": [
        {
          "output_type": "display_data",
          "data": {
            "text/plain": [
              "Oneway (individual) effect Within Model\n",
              "\n",
              "Call:\n",
              "plm(formula = log(PD_AMOUNT) ~ TEMP_AVG + RAINFALL_DAY + HUMID_AVG + \n",
              "    DUST, data = df_master_health, model = \"within\", index = \"CLNT_ID\")\n",
              "\n",
              "Unbalanced Panel: n = 66256, T = 1-576, N = 123623\n",
              "\n",
              "Residuals:\n",
              "     Min.   1st Qu.    Median   3rd Qu.      Max. \n",
              "-5.693951 -0.016951  0.000000  0.014885  3.880780 \n",
              "\n",
              "Coefficients:\n",
              "                Estimate  Std. Error t-value  Pr(>|t|)    \n",
              "TEMP_AVG     -0.00280409  0.00058696 -4.7773 1.781e-06 ***\n",
              "RAINFALL_DAY  0.00013338  0.00020983  0.6357   0.52498    \n",
              "HUMID_AVG     0.00060594  0.00025158  2.4085   0.01602 *  \n",
              "DUST          0.00049406  0.00021586  2.2888   0.02210 *  \n",
              "---\n",
              "Signif. codes:  0 ‘***’ 0.001 ‘**’ 0.01 ‘*’ 0.05 ‘.’ 0.1 ‘ ’ 1\n",
              "\n",
              "Total Sum of Squares:    15296\n",
              "Residual Sum of Squares: 15285\n",
              "R-Squared:      0.00071738\n",
              "Adj. R-Squared: -1.1535\n",
              "F-statistic: 10.2952 on 4 and 57363 DF, p-value: 2.4824e-08"
            ]
          },
          "metadata": {
            "tags": []
          }
        }
      ]
    },
    {
      "cell_type": "markdown",
      "metadata": {
        "id": "QM9iL20f5Ov0"
      },
      "source": [
        "### 모델 자체가 걍 엉망진창"
      ]
    }
  ]
}