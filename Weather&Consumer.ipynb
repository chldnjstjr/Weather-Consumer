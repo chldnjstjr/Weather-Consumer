{
  "nbformat": 4,
  "nbformat_minor": 0,
  "metadata": {
    "colab": {
      "name": "Weather&Consumer.ipynb",
      "provenance": [],
      "authorship_tag": "ABX9TyNjF0aVFduIoBZsQ6CoG9tW"
    },
    "kernelspec": {
      "name": "python3",
      "display_name": "Python 3"
    }
  },
  "cells": [
    {
      "cell_type": "code",
      "metadata": {
        "id": "72JEH9Ch-T2c",
        "colab": {
          "base_uri": "https://localhost:8080/"
        },
        "outputId": "65de0727-c651-42be-fe87-0f3a185a9e88"
      },
      "source": [
        "#구글 드라이브 연결\r\n",
        "from google.colab import drive\r\n",
        "drive.mount('/content/drive')"
      ],
      "execution_count": 1,
      "outputs": [
        {
          "output_type": "stream",
          "text": [
            "Mounted at /content/drive\n"
          ],
          "name": "stdout"
        }
      ]
    },
    {
      "cell_type": "code",
      "metadata": {
        "id": "22Oh_Zi9-VcN"
      },
      "source": [
        "import pandas as pd\r\n",
        "import numpy as np\r\n",
        "import matplotlib.pyplot as plt\r\n",
        "import seaborn as sns"
      ],
      "execution_count": 2,
      "outputs": []
    },
    {
      "cell_type": "code",
      "metadata": {
        "id": "5orSOsg3ATbt"
      },
      "source": [
        "#출력 한 번에 나올 수 있게 설정\r\n",
        "from IPython.core.interactiveshell import InteractiveShell\r\n",
        "InteractiveShell.ast_node_interactivity = 'all'"
      ],
      "execution_count": 3,
      "outputs": []
    },
    {
      "cell_type": "code",
      "metadata": {
        "id": "-LTSttO7AVM4"
      },
      "source": [
        "filename='/content/drive/My Drive/DataSet/Lpoint/data/Product.csv'"
      ],
      "execution_count": 4,
      "outputs": []
    },
    {
      "cell_type": "code",
      "metadata": {
        "id": "sPX0QY0iAXFM"
      },
      "source": [
        "srchcsv='/content/drive/My Drive/DataSet/Lpoint/data/Search1.csv'\r\n",
        "search1 = pd.read_csv(srchcsv, dtype={\"CLNT_ID\":np.str, \"SESS_ID\":np.str})\r\n",
        "\r\n",
        "srch2csv='/content/drive/My Drive/DataSet/Lpoint/data/Search2.csv'\r\n",
        "search2 = pd.read_csv(srch2csv)"
      ],
      "execution_count": 5,
      "outputs": []
    },
    {
      "cell_type": "code",
      "metadata": {
        "colab": {
          "base_uri": "https://localhost:8080/",
          "height": 387
        },
        "id": "RhS7aUnXAZ4d",
        "outputId": "5d6f4b86-4cb5-40cf-eeb7-a32810ce8382"
      },
      "source": [
        "search1.head()\r\n",
        "search2.head()"
      ],
      "execution_count": 8,
      "outputs": [
        {
          "output_type": "execute_result",
          "data": {
            "text/html": [
              "<div>\n",
              "<style scoped>\n",
              "    .dataframe tbody tr th:only-of-type {\n",
              "        vertical-align: middle;\n",
              "    }\n",
              "\n",
              "    .dataframe tbody tr th {\n",
              "        vertical-align: top;\n",
              "    }\n",
              "\n",
              "    .dataframe thead th {\n",
              "        text-align: right;\n",
              "    }\n",
              "</style>\n",
              "<table border=\"1\" class=\"dataframe\">\n",
              "  <thead>\n",
              "    <tr style=\"text-align: right;\">\n",
              "      <th></th>\n",
              "      <th>CLNT_ID</th>\n",
              "      <th>SESS_ID</th>\n",
              "      <th>KWD_NM</th>\n",
              "      <th>SEARCH_CNT</th>\n",
              "    </tr>\n",
              "  </thead>\n",
              "  <tbody>\n",
              "    <tr>\n",
              "      <th>0</th>\n",
              "      <td>5607714</td>\n",
              "      <td>07112876</td>\n",
              "      <td>빌리프 아이크림</td>\n",
              "      <td>6</td>\n",
              "    </tr>\n",
              "    <tr>\n",
              "      <th>1</th>\n",
              "      <td>5607714</td>\n",
              "      <td>04090791</td>\n",
              "      <td>프리메라 마스크팩</td>\n",
              "      <td>3</td>\n",
              "    </tr>\n",
              "    <tr>\n",
              "      <th>2</th>\n",
              "      <td>5607714</td>\n",
              "      <td>04090791</td>\n",
              "      <td>여성청결제</td>\n",
              "      <td>1</td>\n",
              "    </tr>\n",
              "    <tr>\n",
              "      <th>3</th>\n",
              "      <td>5612428</td>\n",
              "      <td>01876482</td>\n",
              "      <td>명품가방</td>\n",
              "      <td>1</td>\n",
              "    </tr>\n",
              "    <tr>\n",
              "      <th>4</th>\n",
              "      <td>5612428</td>\n",
              "      <td>00658123</td>\n",
              "      <td>콩순이 아이스크림</td>\n",
              "      <td>1</td>\n",
              "    </tr>\n",
              "  </tbody>\n",
              "</table>\n",
              "</div>"
            ],
            "text/plain": [
              "   CLNT_ID   SESS_ID     KWD_NM  SEARCH_CNT\n",
              "0  5607714  07112876   빌리프 아이크림           6\n",
              "1  5607714  04090791  프리메라 마스크팩           3\n",
              "2  5607714  04090791      여성청결제           1\n",
              "3  5612428  01876482       명품가방           1\n",
              "4  5612428  00658123  콩순이 아이스크림           1"
            ]
          },
          "metadata": {
            "tags": []
          },
          "execution_count": 8
        },
        {
          "output_type": "execute_result",
          "data": {
            "text/html": [
              "<div>\n",
              "<style scoped>\n",
              "    .dataframe tbody tr th:only-of-type {\n",
              "        vertical-align: middle;\n",
              "    }\n",
              "\n",
              "    .dataframe tbody tr th {\n",
              "        vertical-align: top;\n",
              "    }\n",
              "\n",
              "    .dataframe thead th {\n",
              "        text-align: right;\n",
              "    }\n",
              "</style>\n",
              "<table border=\"1\" class=\"dataframe\">\n",
              "  <thead>\n",
              "    <tr style=\"text-align: right;\">\n",
              "      <th></th>\n",
              "      <th>SESS_DT</th>\n",
              "      <th>KWD_NM</th>\n",
              "      <th>SEARCH_CNT</th>\n",
              "    </tr>\n",
              "  </thead>\n",
              "  <tbody>\n",
              "    <tr>\n",
              "      <th>0</th>\n",
              "      <td>20180407</td>\n",
              "      <td>닥스원피스</td>\n",
              "      <td>8</td>\n",
              "    </tr>\n",
              "    <tr>\n",
              "      <th>1</th>\n",
              "      <td>20180407</td>\n",
              "      <td>닥터지 브라이트닝</td>\n",
              "      <td>1</td>\n",
              "    </tr>\n",
              "    <tr>\n",
              "      <th>2</th>\n",
              "      <td>20180407</td>\n",
              "      <td>달팡 인트랄</td>\n",
              "      <td>2</td>\n",
              "    </tr>\n",
              "    <tr>\n",
              "      <th>3</th>\n",
              "      <td>20180407</td>\n",
              "      <td>대상트</td>\n",
              "      <td>1</td>\n",
              "    </tr>\n",
              "    <tr>\n",
              "      <th>4</th>\n",
              "      <td>20180407</td>\n",
              "      <td>더블유닷</td>\n",
              "      <td>6</td>\n",
              "    </tr>\n",
              "  </tbody>\n",
              "</table>\n",
              "</div>"
            ],
            "text/plain": [
              "    SESS_DT     KWD_NM SEARCH_CNT\n",
              "0  20180407      닥스원피스          8\n",
              "1  20180407  닥터지 브라이트닝          1\n",
              "2  20180407     달팡 인트랄          2\n",
              "3  20180407        대상트          1\n",
              "4  20180407       더블유닷          6"
            ]
          },
          "metadata": {
            "tags": []
          },
          "execution_count": 8
        }
      ]
    },
    {
      "cell_type": "code",
      "metadata": {
        "colab": {
          "base_uri": "https://localhost:8080/",
          "height": 415
        },
        "id": "f2cwaMu1Czbl",
        "outputId": "510b931d-043f-436a-f60f-0089445bd4c2"
      },
      "source": [
        "wtrfilter = search2[search2['KWD_NM'].str.contains('제습기')]\r\n",
        "wtrfilter"
      ],
      "execution_count": 10,
      "outputs": [
        {
          "output_type": "execute_result",
          "data": {
            "text/html": [
              "<div>\n",
              "<style scoped>\n",
              "    .dataframe tbody tr th:only-of-type {\n",
              "        vertical-align: middle;\n",
              "    }\n",
              "\n",
              "    .dataframe tbody tr th {\n",
              "        vertical-align: top;\n",
              "    }\n",
              "\n",
              "    .dataframe thead th {\n",
              "        text-align: right;\n",
              "    }\n",
              "</style>\n",
              "<table border=\"1\" class=\"dataframe\">\n",
              "  <thead>\n",
              "    <tr style=\"text-align: right;\">\n",
              "      <th></th>\n",
              "      <th>SESS_DT</th>\n",
              "      <th>KWD_NM</th>\n",
              "      <th>SEARCH_CNT</th>\n",
              "    </tr>\n",
              "  </thead>\n",
              "  <tbody>\n",
              "    <tr>\n",
              "      <th>903</th>\n",
              "      <td>20180406</td>\n",
              "      <td>마모스제습기</td>\n",
              "      <td>4</td>\n",
              "    </tr>\n",
              "    <tr>\n",
              "      <th>8667</th>\n",
              "      <td>20180412</td>\n",
              "      <td>lg제습기</td>\n",
              "      <td>3</td>\n",
              "    </tr>\n",
              "    <tr>\n",
              "      <th>13820</th>\n",
              "      <td>20180716</td>\n",
              "      <td>엘지 제습기</td>\n",
              "      <td>1</td>\n",
              "    </tr>\n",
              "    <tr>\n",
              "      <th>17071</th>\n",
              "      <td>20180422</td>\n",
              "      <td>제습기</td>\n",
              "      <td>83</td>\n",
              "    </tr>\n",
              "    <tr>\n",
              "      <th>18583</th>\n",
              "      <td>20180403</td>\n",
              "      <td>위니아제습기</td>\n",
              "      <td>2</td>\n",
              "    </tr>\n",
              "    <tr>\n",
              "      <th>...</th>\n",
              "      <td>...</td>\n",
              "      <td>...</td>\n",
              "      <td>...</td>\n",
              "    </tr>\n",
              "    <tr>\n",
              "      <th>8031518</th>\n",
              "      <td>20180903</td>\n",
              "      <td>제습기커버</td>\n",
              "      <td>1</td>\n",
              "    </tr>\n",
              "    <tr>\n",
              "      <th>8032973</th>\n",
              "      <td>20180905</td>\n",
              "      <td>위닉스 제습기</td>\n",
              "      <td>8</td>\n",
              "    </tr>\n",
              "    <tr>\n",
              "      <th>8033494</th>\n",
              "      <td>20180903</td>\n",
              "      <td>위닉스제습기</td>\n",
              "      <td>36</td>\n",
              "    </tr>\n",
              "    <tr>\n",
              "      <th>8044136</th>\n",
              "      <td>20180915</td>\n",
              "      <td>신일제습기</td>\n",
              "      <td>2</td>\n",
              "    </tr>\n",
              "    <tr>\n",
              "      <th>8046871</th>\n",
              "      <td>20180903</td>\n",
              "      <td>위니아 제습기</td>\n",
              "      <td>1</td>\n",
              "    </tr>\n",
              "  </tbody>\n",
              "</table>\n",
              "<p>2497 rows × 3 columns</p>\n",
              "</div>"
            ],
            "text/plain": [
              "          SESS_DT   KWD_NM SEARCH_CNT\n",
              "903      20180406   마모스제습기          4\n",
              "8667     20180412    lg제습기          3\n",
              "13820    20180716   엘지 제습기          1\n",
              "17071    20180422      제습기         83\n",
              "18583    20180403   위니아제습기          2\n",
              "...           ...      ...        ...\n",
              "8031518  20180903    제습기커버          1\n",
              "8032973  20180905  위닉스 제습기          8\n",
              "8033494  20180903   위닉스제습기         36\n",
              "8044136  20180915    신일제습기          2\n",
              "8046871  20180903  위니아 제습기          1\n",
              "\n",
              "[2497 rows x 3 columns]"
            ]
          },
          "metadata": {
            "tags": []
          },
          "execution_count": 10
        }
      ]
    },
    {
      "cell_type": "code",
      "metadata": {
        "id": "7vna1VGOC0E_"
      },
      "source": [
        "wtrfilter.to_excel(excel_writer='/content/drive/My Drive/DataSet/Lpoint/data/wtrfilter.xlsx')"
      ],
      "execution_count": 12,
      "outputs": []
    },
    {
      "cell_type": "code",
      "metadata": {
        "id": "-HSctc6VH3Fj"
      },
      "source": [
        ""
      ],
      "execution_count": null,
      "outputs": []
    }
  ]
}