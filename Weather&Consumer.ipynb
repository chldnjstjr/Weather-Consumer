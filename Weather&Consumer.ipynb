{
  "nbformat": 4,
  "nbformat_minor": 0,
  "metadata": {
    "colab": {
      "name": "Weather&Consumer.ipynb",
      "provenance": [],
      "authorship_tag": "ABX9TyOuiXQ1AFKJ7gh5BByWyla0"
    },
    "kernelspec": {
      "name": "python3",
      "display_name": "Python 3"
    }
  },
  "cells": [
    {
      "cell_type": "code",
      "metadata": {
        "id": "72JEH9Ch-T2c",
        "colab": {
          "base_uri": "https://localhost:8080/"
        },
        "outputId": "626833cf-430e-417d-f4e4-49227c0da0ca"
      },
      "source": [
        "#구글 드라이브 연결\r\n",
        "from google.colab import drive\r\n",
        "drive.mount('/content/drive')"
      ],
      "execution_count": 1,
      "outputs": [
        {
          "output_type": "stream",
          "text": [
            "Mounted at /content/drive\n"
          ],
          "name": "stdout"
        }
      ]
    },
    {
      "cell_type": "code",
      "metadata": {
        "id": "22Oh_Zi9-VcN"
      },
      "source": [
        "import pandas as pd\r\n",
        "import numpy as np\r\n",
        "import matplotlib.pyplot as plt\r\n",
        "import seaborn as sns"
      ],
      "execution_count": 2,
      "outputs": []
    },
    {
      "cell_type": "code",
      "metadata": {
        "id": "5orSOsg3ATbt"
      },
      "source": [
        "#출력 한 번에 나올 수 있게 설정\r\n",
        "from IPython.core.interactiveshell import InteractiveShell\r\n",
        "InteractiveShell.ast_node_interactivity = 'all'"
      ],
      "execution_count": 3,
      "outputs": []
    },
    {
      "cell_type": "code",
      "metadata": {
        "id": "-LTSttO7AVM4"
      },
      "source": [
        "filename='/content/drive/My Drive/DataSet/Lpoint/data/Product.csv'"
      ],
      "execution_count": 4,
      "outputs": []
    },
    {
      "cell_type": "code",
      "metadata": {
        "id": "sPX0QY0iAXFM"
      },
      "source": [
        "srchcsv='/content/drive/My Drive/DataSet/Lpoint/data/Search1.csv'\r\n",
        "search1 = pd.read_csv(srchcsv, dtype={\"CLNT_ID\":np.str, \"SESS_ID\":np.str})\r\n",
        "\r\n",
        "srch2csv='/content/drive/My Drive/DataSet/Lpoint/data/Search2.csv'\r\n",
        "search2 = pd.read_csv(srch2csv)"
      ],
      "execution_count": 5,
      "outputs": []
    },
    {
      "cell_type": "code",
      "metadata": {
        "colab": {
          "base_uri": "https://localhost:8080/",
          "height": 391
        },
        "id": "RhS7aUnXAZ4d",
        "outputId": "1f1b7cd4-065e-48ac-dfc7-6ef3076f8431"
      },
      "source": [
        "search1.head()\r\n",
        "search2.head()"
      ],
      "execution_count": 6,
      "outputs": [
        {
          "output_type": "execute_result",
          "data": {
            "text/html": [
              "<div>\n",
              "<style scoped>\n",
              "    .dataframe tbody tr th:only-of-type {\n",
              "        vertical-align: middle;\n",
              "    }\n",
              "\n",
              "    .dataframe tbody tr th {\n",
              "        vertical-align: top;\n",
              "    }\n",
              "\n",
              "    .dataframe thead th {\n",
              "        text-align: right;\n",
              "    }\n",
              "</style>\n",
              "<table border=\"1\" class=\"dataframe\">\n",
              "  <thead>\n",
              "    <tr style=\"text-align: right;\">\n",
              "      <th></th>\n",
              "      <th>CLNT_ID</th>\n",
              "      <th>SESS_ID</th>\n",
              "      <th>KWD_NM</th>\n",
              "      <th>SEARCH_CNT</th>\n",
              "    </tr>\n",
              "  </thead>\n",
              "  <tbody>\n",
              "    <tr>\n",
              "      <th>0</th>\n",
              "      <td>5607714</td>\n",
              "      <td>07112876</td>\n",
              "      <td>빌리프 아이크림</td>\n",
              "      <td>6</td>\n",
              "    </tr>\n",
              "    <tr>\n",
              "      <th>1</th>\n",
              "      <td>5607714</td>\n",
              "      <td>04090791</td>\n",
              "      <td>프리메라 마스크팩</td>\n",
              "      <td>3</td>\n",
              "    </tr>\n",
              "    <tr>\n",
              "      <th>2</th>\n",
              "      <td>5607714</td>\n",
              "      <td>04090791</td>\n",
              "      <td>여성청결제</td>\n",
              "      <td>1</td>\n",
              "    </tr>\n",
              "    <tr>\n",
              "      <th>3</th>\n",
              "      <td>5612428</td>\n",
              "      <td>01876482</td>\n",
              "      <td>명품가방</td>\n",
              "      <td>1</td>\n",
              "    </tr>\n",
              "    <tr>\n",
              "      <th>4</th>\n",
              "      <td>5612428</td>\n",
              "      <td>00658123</td>\n",
              "      <td>콩순이 아이스크림</td>\n",
              "      <td>1</td>\n",
              "    </tr>\n",
              "  </tbody>\n",
              "</table>\n",
              "</div>"
            ],
            "text/plain": [
              "   CLNT_ID   SESS_ID     KWD_NM  SEARCH_CNT\n",
              "0  5607714  07112876   빌리프 아이크림           6\n",
              "1  5607714  04090791  프리메라 마스크팩           3\n",
              "2  5607714  04090791      여성청결제           1\n",
              "3  5612428  01876482       명품가방           1\n",
              "4  5612428  00658123  콩순이 아이스크림           1"
            ]
          },
          "metadata": {
            "tags": []
          },
          "execution_count": 6
        },
        {
          "output_type": "execute_result",
          "data": {
            "text/html": [
              "<div>\n",
              "<style scoped>\n",
              "    .dataframe tbody tr th:only-of-type {\n",
              "        vertical-align: middle;\n",
              "    }\n",
              "\n",
              "    .dataframe tbody tr th {\n",
              "        vertical-align: top;\n",
              "    }\n",
              "\n",
              "    .dataframe thead th {\n",
              "        text-align: right;\n",
              "    }\n",
              "</style>\n",
              "<table border=\"1\" class=\"dataframe\">\n",
              "  <thead>\n",
              "    <tr style=\"text-align: right;\">\n",
              "      <th></th>\n",
              "      <th>SESS_DT</th>\n",
              "      <th>KWD_NM</th>\n",
              "      <th>SEARCH_CNT</th>\n",
              "    </tr>\n",
              "  </thead>\n",
              "  <tbody>\n",
              "    <tr>\n",
              "      <th>0</th>\n",
              "      <td>20180407</td>\n",
              "      <td>닥스원피스</td>\n",
              "      <td>8</td>\n",
              "    </tr>\n",
              "    <tr>\n",
              "      <th>1</th>\n",
              "      <td>20180407</td>\n",
              "      <td>닥터지 브라이트닝</td>\n",
              "      <td>1</td>\n",
              "    </tr>\n",
              "    <tr>\n",
              "      <th>2</th>\n",
              "      <td>20180407</td>\n",
              "      <td>달팡 인트랄</td>\n",
              "      <td>2</td>\n",
              "    </tr>\n",
              "    <tr>\n",
              "      <th>3</th>\n",
              "      <td>20180407</td>\n",
              "      <td>대상트</td>\n",
              "      <td>1</td>\n",
              "    </tr>\n",
              "    <tr>\n",
              "      <th>4</th>\n",
              "      <td>20180407</td>\n",
              "      <td>더블유닷</td>\n",
              "      <td>6</td>\n",
              "    </tr>\n",
              "  </tbody>\n",
              "</table>\n",
              "</div>"
            ],
            "text/plain": [
              "    SESS_DT     KWD_NM SEARCH_CNT\n",
              "0  20180407      닥스원피스          8\n",
              "1  20180407  닥터지 브라이트닝          1\n",
              "2  20180407     달팡 인트랄          2\n",
              "3  20180407        대상트          1\n",
              "4  20180407       더블유닷          6"
            ]
          },
          "metadata": {
            "tags": []
          },
          "execution_count": 6
        }
      ]
    },
    {
      "cell_type": "code",
      "metadata": {
        "colab": {
          "base_uri": "https://localhost:8080/",
          "height": 419
        },
        "id": "f2cwaMu1Czbl",
        "outputId": "b8bb90e7-e357-4980-b6e4-b1ff3d59c111"
      },
      "source": [
        "wtrfilter = search2[search2['KWD_NM'].str.contains('제습기')]\r\n",
        "wtrfilter"
      ],
      "execution_count": 7,
      "outputs": [
        {
          "output_type": "execute_result",
          "data": {
            "text/html": [
              "<div>\n",
              "<style scoped>\n",
              "    .dataframe tbody tr th:only-of-type {\n",
              "        vertical-align: middle;\n",
              "    }\n",
              "\n",
              "    .dataframe tbody tr th {\n",
              "        vertical-align: top;\n",
              "    }\n",
              "\n",
              "    .dataframe thead th {\n",
              "        text-align: right;\n",
              "    }\n",
              "</style>\n",
              "<table border=\"1\" class=\"dataframe\">\n",
              "  <thead>\n",
              "    <tr style=\"text-align: right;\">\n",
              "      <th></th>\n",
              "      <th>SESS_DT</th>\n",
              "      <th>KWD_NM</th>\n",
              "      <th>SEARCH_CNT</th>\n",
              "    </tr>\n",
              "  </thead>\n",
              "  <tbody>\n",
              "    <tr>\n",
              "      <th>903</th>\n",
              "      <td>20180406</td>\n",
              "      <td>마모스제습기</td>\n",
              "      <td>4</td>\n",
              "    </tr>\n",
              "    <tr>\n",
              "      <th>8667</th>\n",
              "      <td>20180412</td>\n",
              "      <td>lg제습기</td>\n",
              "      <td>3</td>\n",
              "    </tr>\n",
              "    <tr>\n",
              "      <th>13820</th>\n",
              "      <td>20180716</td>\n",
              "      <td>엘지 제습기</td>\n",
              "      <td>1</td>\n",
              "    </tr>\n",
              "    <tr>\n",
              "      <th>17071</th>\n",
              "      <td>20180422</td>\n",
              "      <td>제습기</td>\n",
              "      <td>83</td>\n",
              "    </tr>\n",
              "    <tr>\n",
              "      <th>18583</th>\n",
              "      <td>20180403</td>\n",
              "      <td>위니아제습기</td>\n",
              "      <td>2</td>\n",
              "    </tr>\n",
              "    <tr>\n",
              "      <th>...</th>\n",
              "      <td>...</td>\n",
              "      <td>...</td>\n",
              "      <td>...</td>\n",
              "    </tr>\n",
              "    <tr>\n",
              "      <th>8031518</th>\n",
              "      <td>20180903</td>\n",
              "      <td>제습기커버</td>\n",
              "      <td>1</td>\n",
              "    </tr>\n",
              "    <tr>\n",
              "      <th>8032973</th>\n",
              "      <td>20180905</td>\n",
              "      <td>위닉스 제습기</td>\n",
              "      <td>8</td>\n",
              "    </tr>\n",
              "    <tr>\n",
              "      <th>8033494</th>\n",
              "      <td>20180903</td>\n",
              "      <td>위닉스제습기</td>\n",
              "      <td>36</td>\n",
              "    </tr>\n",
              "    <tr>\n",
              "      <th>8044136</th>\n",
              "      <td>20180915</td>\n",
              "      <td>신일제습기</td>\n",
              "      <td>2</td>\n",
              "    </tr>\n",
              "    <tr>\n",
              "      <th>8046871</th>\n",
              "      <td>20180903</td>\n",
              "      <td>위니아 제습기</td>\n",
              "      <td>1</td>\n",
              "    </tr>\n",
              "  </tbody>\n",
              "</table>\n",
              "<p>2497 rows × 3 columns</p>\n",
              "</div>"
            ],
            "text/plain": [
              "          SESS_DT   KWD_NM SEARCH_CNT\n",
              "903      20180406   마모스제습기          4\n",
              "8667     20180412    lg제습기          3\n",
              "13820    20180716   엘지 제습기          1\n",
              "17071    20180422      제습기         83\n",
              "18583    20180403   위니아제습기          2\n",
              "...           ...      ...        ...\n",
              "8031518  20180903    제습기커버          1\n",
              "8032973  20180905  위닉스 제습기          8\n",
              "8033494  20180903   위닉스제습기         36\n",
              "8044136  20180915    신일제습기          2\n",
              "8046871  20180903  위니아 제습기          1\n",
              "\n",
              "[2497 rows x 3 columns]"
            ]
          },
          "metadata": {
            "tags": []
          },
          "execution_count": 7
        }
      ]
    },
    {
      "cell_type": "markdown",
      "metadata": {
        "id": "tvJnEFmLw66f"
      },
      "source": [
        "# 네이버 트렌드 API \r\n"
      ]
    },
    {
      "cell_type": "markdown",
      "metadata": {
        "id": "jKIGoiMj1Ph4"
      },
      "source": [
        "## 검색 트렌드 크롤링"
      ]
    },
    {
      "cell_type": "code",
      "metadata": {
        "colab": {
          "base_uri": "https://localhost:8080/"
        },
        "id": "OJAF1_ha1TD-",
        "outputId": "e5aa7597-f3f8-4fa8-e527-ddada65464b4"
      },
      "source": [
        "import os\r\n",
        "import sys\r\n",
        "import urllib.request\r\n",
        "client_id = \"qUiizuc0pfN6x2POwG0_\"\r\n",
        "client_secret = \"ruh0V04uUN\"\r\n",
        "url = \"https://openapi.naver.com/v1/datalab/search\";\r\n",
        "body = \"{\\\"startDate\\\":\\\"2017-01-01\\\",\\\"endDate\\\":\\\"2017-04-30\\\",\\\"timeUnit\\\":\\\"month\\\",\\\"keywordGroups\\\":[{\\\"groupName\\\":\\\"한글\\\",\\\"keywords\\\":[\\\"한글\\\",\\\"korean\\\"]},{\\\"groupName\\\":\\\"영어\\\",\\\"keywords\\\":[\\\"영어\\\",\\\"english\\\"]}],\\\"device\\\":\\\"pc\\\",\\\"ages\\\":[\\\"1\\\",\\\"2\\\"],\\\"gender\\\":\\\"f\\\"}\";\r\n",
        "\r\n",
        "request = urllib.request.Request(url)\r\n",
        "request.add_header(\"X-Naver-Client-Id\",client_id)\r\n",
        "request.add_header(\"X-Naver-Client-Secret\",client_secret)\r\n",
        "request.add_header(\"Content-Type\",\"application/json\")\r\n",
        "response = urllib.request.urlopen(request, data=body.encode(\"utf-8\"))\r\n",
        "rescode = response.getcode()\r\n",
        "if(rescode==200):\r\n",
        "    response_body = response.read()\r\n",
        "    print(response_body.decode('utf-8'))\r\n",
        "else:\r\n",
        "    print(\"Error Code:\" + rescode)\r\n"
      ],
      "execution_count": 24,
      "outputs": [
        {
          "output_type": "stream",
          "text": [
            "{\"startDate\":\"2017-01-01\",\"endDate\":\"2017-04-30\",\"timeUnit\":\"month\",\"results\":[{\"title\":\"한글\",\"keywords\":[\"한글\",\"korean\"],\"data\":[{\"period\":\"2017-01-01\",\"ratio\":47.00101},{\"period\":\"2017-02-01\",\"ratio\":53.23619},{\"period\":\"2017-03-01\",\"ratio\":100},{\"period\":\"2017-04-01\",\"ratio\":85.327}]},{\"title\":\"영어\",\"keywords\":[\"영어\",\"english\"],\"data\":[{\"period\":\"2017-01-01\",\"ratio\":40.0881},{\"period\":\"2017-02-01\",\"ratio\":36.69942},{\"period\":\"2017-03-01\",\"ratio\":52.11792},{\"period\":\"2017-04-01\",\"ratio\":44.4595}]}]}\n"
          ],
          "name": "stdout"
        }
      ]
    },
    {
      "cell_type": "code",
      "metadata": {
        "id": "G1EFm8sB2nCL"
      },
      "source": [
        ""
      ],
      "execution_count": null,
      "outputs": []
    },
    {
      "cell_type": "markdown",
      "metadata": {
        "id": "Z3QlSWSi1Km_"
      },
      "source": [
        "## 실시간 검색어 크롤링"
      ]
    },
    {
      "cell_type": "code",
      "metadata": {
        "id": "t9MDjf7Lw9mB"
      },
      "source": [
        "import urllib.request\r\n",
        "from bs4 import BeautifulSoup\r\n",
        "import json\r\n",
        "import pandas as pd\r\n",
        "import matplotlib.pyplot as plt\r\n",
        "import requests\r\n",
        "import seaborn as sns\r\n",
        "import datetime\r\n",
        "import time\r\n",
        "import tqdm\r\n",
        "from dateutil.relativedelta import relativedelta"
      ],
      "execution_count": 13,
      "outputs": []
    },
    {
      "cell_type": "code",
      "metadata": {
        "colab": {
          "base_uri": "https://localhost:8080/"
        },
        "id": "iRn17jVT0VKO",
        "outputId": "664d755c-b836-41c7-b03a-24e20bd7f92b"
      },
      "source": [
        "url = 'https://datalab.naver.com/keyword/realtimeList.naver?age=all'\r\n",
        "body = {'User-Agent':'Mozilla/5.0 (Windows NT 10.0; Win64; x64) AppleWebKit/537.36 (KHTML, like Gecko) Chrome/87.0.4280.88 Safari/537.36'}\r\n",
        "res = requests.get(url, headers = body)\r\n",
        "soup = BeautifulSoup(res.content, 'html.parser')\r\n",
        "data = soup.select('span.item_title')\r\n",
        "data"
      ],
      "execution_count": 14,
      "outputs": [
        {
          "output_type": "execute_result",
          "data": {
            "text/plain": [
              "[<span class=\"item_title\">싱어게인 결방</span>,\n",
              " <span class=\"item_title\">최원희</span>,\n",
              " <span class=\"item_title\">펜트하우스 19세</span>,\n",
              " <span class=\"item_title\">홍지민</span>,\n",
              " <span class=\"item_title\">황혼에서 새벽까지</span>,\n",
              " <span class=\"item_title\">정조국</span>,\n",
              " <span class=\"item_title\">범죄와의 전쟁</span>,\n",
              " <span class=\"item_title\">최원희 점집</span>,\n",
              " <span class=\"item_title\">김성은</span>,\n",
              " <span class=\"item_title\">이화선</span>,\n",
              " <span class=\"item_title\">홍지민 집</span>,\n",
              " <span class=\"item_title\">한정수</span>,\n",
              " <span class=\"item_title\">류제국</span>,\n",
              " <span class=\"item_title\">홍지민 나이</span>,\n",
              " <span class=\"item_title\">너를 만났다</span>,\n",
              " <span class=\"item_title\">신은경</span>,\n",
              " <span class=\"item_title\">그레이스 조</span>,\n",
              " <span class=\"item_title\">국가비</span>,\n",
              " <span class=\"item_title\">하도권</span>,\n",
              " <span class=\"item_title\">차이나타운</span>]"
            ]
          },
          "metadata": {
            "tags": []
          },
          "execution_count": 14
        }
      ]
    },
    {
      "cell_type": "code",
      "metadata": {
        "colab": {
          "base_uri": "https://localhost:8080/"
        },
        "id": "0WNgBrI90c-w",
        "outputId": "9feb8895-c6ab-4f97-adbe-17c785f2b284"
      },
      "source": [
        "#문자만 추출\r\n",
        "for i in data:\r\n",
        "    print(i.get_text())"
      ],
      "execution_count": 15,
      "outputs": [
        {
          "output_type": "stream",
          "text": [
            "싱어게인 결방\n",
            "최원희\n",
            "펜트하우스 19세\n",
            "홍지민\n",
            "황혼에서 새벽까지\n",
            "정조국\n",
            "범죄와의 전쟁\n",
            "최원희 점집\n",
            "김성은\n",
            "이화선\n",
            "홍지민 집\n",
            "한정수\n",
            "류제국\n",
            "홍지민 나이\n",
            "너를 만났다\n",
            "신은경\n",
            "그레이스 조\n",
            "국가비\n",
            "하도권\n",
            "차이나타운\n"
          ],
          "name": "stdout"
        }
      ]
    },
    {
      "cell_type": "code",
      "metadata": {
        "id": "7XAfc1SH0jvF"
      },
      "source": [
        "def datalab_realtime_keyword(code):\r\n",
        "    url = 'https://datalab.naver.com/keyword/realtimeList.naver?age={}'.format(code)\r\n",
        "    body = {'User-Agent':'Mozilla/5.0 (Windows NT 10.0; Win64; x64) AppleWebKit/537.36 (KHTML, like Gecko) Chrome/87.0.4280.88 Safari/537.36'}\r\n",
        "    res = requests.get(url, headers = body)\r\n",
        "    soup = BeautifulSoup(res.content, 'html.parser')\r\n",
        "    data = soup.select('span.item_title')\r\n",
        "    \r\n",
        "    \r\n",
        "    realtime_list = []\r\n",
        "    for i in data:\r\n",
        "        realtime_list.append(i.get_text())\r\n",
        "        \r\n",
        "    realtime_df = pd.DataFrame(realtime_list); realtime_df.columns = [code] \r\n",
        "    realtime_df.index = range(1,21)\r\n",
        "    realtime_df = realtime_df.T\r\n",
        "    \r\n",
        "    return realtime_df"
      ],
      "execution_count": 21,
      "outputs": []
    },
    {
      "cell_type": "code",
      "metadata": {
        "colab": {
          "base_uri": "https://localhost:8080/",
          "height": 80
        },
        "id": "p2H5dz6v0mVQ",
        "outputId": "3695b042-571b-4b0e-b694-c77388ada44d"
      },
      "source": [
        "datalab_realtime_keyword('all')"
      ],
      "execution_count": 22,
      "outputs": [
        {
          "output_type": "execute_result",
          "data": {
            "text/html": [
              "<div>\n",
              "<style scoped>\n",
              "    .dataframe tbody tr th:only-of-type {\n",
              "        vertical-align: middle;\n",
              "    }\n",
              "\n",
              "    .dataframe tbody tr th {\n",
              "        vertical-align: top;\n",
              "    }\n",
              "\n",
              "    .dataframe thead th {\n",
              "        text-align: right;\n",
              "    }\n",
              "</style>\n",
              "<table border=\"1\" class=\"dataframe\">\n",
              "  <thead>\n",
              "    <tr style=\"text-align: right;\">\n",
              "      <th></th>\n",
              "      <th>1</th>\n",
              "      <th>2</th>\n",
              "      <th>3</th>\n",
              "      <th>4</th>\n",
              "      <th>5</th>\n",
              "      <th>6</th>\n",
              "      <th>7</th>\n",
              "      <th>8</th>\n",
              "      <th>9</th>\n",
              "      <th>10</th>\n",
              "      <th>11</th>\n",
              "      <th>12</th>\n",
              "      <th>13</th>\n",
              "      <th>14</th>\n",
              "      <th>15</th>\n",
              "      <th>16</th>\n",
              "      <th>17</th>\n",
              "      <th>18</th>\n",
              "      <th>19</th>\n",
              "      <th>20</th>\n",
              "    </tr>\n",
              "  </thead>\n",
              "  <tbody>\n",
              "    <tr>\n",
              "      <th>all</th>\n",
              "      <td>싱어게인 결방</td>\n",
              "      <td>최원희</td>\n",
              "      <td>펜트하우스 19세</td>\n",
              "      <td>홍지민</td>\n",
              "      <td>황혼에서 새벽까지</td>\n",
              "      <td>정조국</td>\n",
              "      <td>최원희 점집</td>\n",
              "      <td>범죄와의 전쟁</td>\n",
              "      <td>김성은</td>\n",
              "      <td>이화선</td>\n",
              "      <td>홍지민 집</td>\n",
              "      <td>한정수</td>\n",
              "      <td>류제국</td>\n",
              "      <td>홍지민 나이</td>\n",
              "      <td>신은경</td>\n",
              "      <td>너를 만났다</td>\n",
              "      <td>차이나타운</td>\n",
              "      <td>그레이스 조</td>\n",
              "      <td>국가비</td>\n",
              "      <td>도성수</td>\n",
              "    </tr>\n",
              "  </tbody>\n",
              "</table>\n",
              "</div>"
            ],
            "text/plain": [
              "          1    2          3    4          5   ...      16     17      18   19   20\n",
              "all  싱어게인 결방  최원희  펜트하우스 19세  홍지민  황혼에서 새벽까지  ...  너를 만났다  차이나타운  그레이스 조  국가비  도성수\n",
              "\n",
              "[1 rows x 20 columns]"
            ]
          },
          "metadata": {
            "tags": []
          },
          "execution_count": 22
        }
      ]
    },
    {
      "cell_type": "code",
      "metadata": {
        "colab": {
          "base_uri": "https://localhost:8080/",
          "height": 160
        },
        "id": "v6HoetXh0-Bw",
        "outputId": "ce75b76c-a48a-4dd8-8260-ea34a40476ad"
      },
      "source": [
        "#연령별\r\n",
        "datalab_realtime_keyword('10s')\r\n",
        "datalab_realtime_keyword('20s')"
      ],
      "execution_count": 23,
      "outputs": [
        {
          "output_type": "execute_result",
          "data": {
            "text/html": [
              "<div>\n",
              "<style scoped>\n",
              "    .dataframe tbody tr th:only-of-type {\n",
              "        vertical-align: middle;\n",
              "    }\n",
              "\n",
              "    .dataframe tbody tr th {\n",
              "        vertical-align: top;\n",
              "    }\n",
              "\n",
              "    .dataframe thead th {\n",
              "        text-align: right;\n",
              "    }\n",
              "</style>\n",
              "<table border=\"1\" class=\"dataframe\">\n",
              "  <thead>\n",
              "    <tr style=\"text-align: right;\">\n",
              "      <th></th>\n",
              "      <th>1</th>\n",
              "      <th>2</th>\n",
              "      <th>3</th>\n",
              "      <th>4</th>\n",
              "      <th>5</th>\n",
              "      <th>6</th>\n",
              "      <th>7</th>\n",
              "      <th>8</th>\n",
              "      <th>9</th>\n",
              "      <th>10</th>\n",
              "      <th>11</th>\n",
              "      <th>12</th>\n",
              "      <th>13</th>\n",
              "      <th>14</th>\n",
              "      <th>15</th>\n",
              "      <th>16</th>\n",
              "      <th>17</th>\n",
              "      <th>18</th>\n",
              "      <th>19</th>\n",
              "      <th>20</th>\n",
              "    </tr>\n",
              "  </thead>\n",
              "  <tbody>\n",
              "    <tr>\n",
              "      <th>10s</th>\n",
              "      <td>펜트하우스 19세</td>\n",
              "      <td>싱어게인 결방</td>\n",
              "      <td>아름다웠던 우리에게</td>\n",
              "      <td>최원희</td>\n",
              "      <td>그레이스 조</td>\n",
              "      <td>국가장학금 신청방법</td>\n",
              "      <td>상간녀 뜻</td>\n",
              "      <td>홍지민</td>\n",
              "      <td>상간녀</td>\n",
              "      <td>대머리 갈매기</td>\n",
              "      <td>변이 바이러스</td>\n",
              "      <td>정조국</td>\n",
              "      <td>마녀2</td>\n",
              "      <td>마포깐풍기</td>\n",
              "      <td>국가장학금 가구원동의</td>\n",
              "      <td>하도권</td>\n",
              "      <td>쏘우</td>\n",
              "      <td>ebs 온라인 클래스</td>\n",
              "      <td>국내 드라마 빙고</td>\n",
              "      <td>공인인증서 발급방법</td>\n",
              "    </tr>\n",
              "  </tbody>\n",
              "</table>\n",
              "</div>"
            ],
            "text/plain": [
              "            1        2           3   ...           18         19          20\n",
              "10s  펜트하우스 19세  싱어게인 결방  아름다웠던 우리에게  ...  ebs 온라인 클래스  국내 드라마 빙고  공인인증서 발급방법\n",
              "\n",
              "[1 rows x 20 columns]"
            ]
          },
          "metadata": {
            "tags": []
          },
          "execution_count": 23
        },
        {
          "output_type": "execute_result",
          "data": {
            "text/html": [
              "<div>\n",
              "<style scoped>\n",
              "    .dataframe tbody tr th:only-of-type {\n",
              "        vertical-align: middle;\n",
              "    }\n",
              "\n",
              "    .dataframe tbody tr th {\n",
              "        vertical-align: top;\n",
              "    }\n",
              "\n",
              "    .dataframe thead th {\n",
              "        text-align: right;\n",
              "    }\n",
              "</style>\n",
              "<table border=\"1\" class=\"dataframe\">\n",
              "  <thead>\n",
              "    <tr style=\"text-align: right;\">\n",
              "      <th></th>\n",
              "      <th>1</th>\n",
              "      <th>2</th>\n",
              "      <th>3</th>\n",
              "      <th>4</th>\n",
              "      <th>5</th>\n",
              "      <th>6</th>\n",
              "      <th>7</th>\n",
              "      <th>8</th>\n",
              "      <th>9</th>\n",
              "      <th>10</th>\n",
              "      <th>11</th>\n",
              "      <th>12</th>\n",
              "      <th>13</th>\n",
              "      <th>14</th>\n",
              "      <th>15</th>\n",
              "      <th>16</th>\n",
              "      <th>17</th>\n",
              "      <th>18</th>\n",
              "      <th>19</th>\n",
              "      <th>20</th>\n",
              "    </tr>\n",
              "  </thead>\n",
              "  <tbody>\n",
              "    <tr>\n",
              "      <th>20s</th>\n",
              "      <td>싱어게인 결방</td>\n",
              "      <td>최원희</td>\n",
              "      <td>펜트하우스 19세</td>\n",
              "      <td>범죄와의 전쟁</td>\n",
              "      <td>정조국</td>\n",
              "      <td>홍지민</td>\n",
              "      <td>그레이스 조</td>\n",
              "      <td>마포깐풍기</td>\n",
              "      <td>한정수</td>\n",
              "      <td>국가비</td>\n",
              "      <td>황혼에서 새벽까지</td>\n",
              "      <td>김성은</td>\n",
              "      <td>최원희 점집</td>\n",
              "      <td>아름다웠던 우리에게</td>\n",
              "      <td>신은경</td>\n",
              "      <td>피라맥스</td>\n",
              "      <td>김현중</td>\n",
              "      <td>차이나타운</td>\n",
              "      <td>구직촉진수당</td>\n",
              "      <td>옵스</td>\n",
              "    </tr>\n",
              "  </tbody>\n",
              "</table>\n",
              "</div>"
            ],
            "text/plain": [
              "          1    2          3        4    5   ...    16   17     18      19  20\n",
              "20s  싱어게인 결방  최원희  펜트하우스 19세  범죄와의 전쟁  정조국  ...  피라맥스  김현중  차이나타운  구직촉진수당  옵스\n",
              "\n",
              "[1 rows x 20 columns]"
            ]
          },
          "metadata": {
            "tags": []
          },
          "execution_count": 23
        }
      ]
    }
  ]
}