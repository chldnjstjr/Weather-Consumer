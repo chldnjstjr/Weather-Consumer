{
  "nbformat": 4,
  "nbformat_minor": 0,
  "metadata": {
    "colab": {
      "name": "크롤링.ipynb",
      "provenance": [],
      "authorship_tag": "ABX9TyNS1yYV76KQK+ujoDR2Lxw8"
    },
    "kernelspec": {
      "name": "python3",
      "display_name": "Python 3"
    },
    "language_info": {
      "name": "python"
    }
  },
  "cells": [
    {
      "cell_type": "markdown",
      "metadata": {
        "id": "MWvnW9AD_Kaf"
      },
      "source": [
        "# 소셜 데이터 분석을 위한 크롤링\n",
        "\n",
        "비, 흐림, 안개와 같은 좋지 않은 날씨의 해시태그들과 부정적인 감정을 표현한 해시태그가 많이 사용되는지 알아보기 위함. 상관관계라도 찾을 수 있으면 더할 나위 없이 좋겠다."
      ]
    },
    {
      "cell_type": "markdown",
      "metadata": {
        "id": "cPC9NTTt_0zD"
      },
      "source": [
        "### 첫 번째 시도\n",
        "참고: [링크 텍스트](https://mokeya.tistory.com/68)"
      ]
    },
    {
      "cell_type": "code",
      "metadata": {
        "colab": {
          "base_uri": "https://localhost:8080/"
        },
        "id": "TuC1QguUAReD",
        "outputId": "39dfb4a1-8e87-4feb-ca53-103da867a2bd"
      },
      "source": [
        "pip install selenium"
      ],
      "execution_count": 185,
      "outputs": [
        {
          "output_type": "stream",
          "text": [
            "Requirement already satisfied: selenium in /usr/local/lib/python3.7/dist-packages (3.141.0)\n",
            "Requirement already satisfied: urllib3 in /usr/local/lib/python3.7/dist-packages (from selenium) (1.24.3)\n"
          ],
          "name": "stdout"
        }
      ]
    },
    {
      "cell_type": "code",
      "metadata": {
        "colab": {
          "base_uri": "https://localhost:8080/"
        },
        "id": "ZGDvbHAcRPMS",
        "outputId": "8c78ce6d-b186-4e56-9ce8-4a1352078ab6"
      },
      "source": [
        "pip install lxml"
      ],
      "execution_count": 186,
      "outputs": [
        {
          "output_type": "stream",
          "text": [
            "Requirement already satisfied: lxml in /usr/local/lib/python3.7/dist-packages (4.2.6)\n"
          ],
          "name": "stdout"
        }
      ]
    },
    {
      "cell_type": "code",
      "metadata": {
        "id": "hsxjktm6_IM5"
      },
      "source": [
        "#필요 패키지 호출 \n",
        "from selenium import webdriver\n",
        "from bs4 import BeautifulSoup\n",
        "import time\n",
        "import re\n",
        "import time"
      ],
      "execution_count": 187,
      "outputs": []
    },
    {
      "cell_type": "code",
      "metadata": {
        "id": "vTRu5rKJ_Wkm"
      },
      "source": [
        "#출력 한 번에 나올 수 있게 설정\n",
        "from IPython.core.interactiveshell import InteractiveShell\n",
        "InteractiveShell.ast_node_interactivity = 'all'"
      ],
      "execution_count": 188,
      "outputs": []
    },
    {
      "cell_type": "code",
      "metadata": {
        "id": "49EmVeCVAG3d"
      },
      "source": [
        "#함수 정의: 검색어 조건에 따른 url 생성\n",
        "# 내가 원하는 키워드를 받아서 해당 키워드 검색 결과 페이지의 url을 생성하는 함수를 정의\n",
        "def insta_searching(word):\n",
        "  url=\"https://www.instagram.com/explore/tags/\" +str(word)\n",
        "  return url"
      ],
      "execution_count": 189,
      "outputs": []
    },
    {
      "cell_type": "code",
      "metadata": {
        "id": "SwXnnA9OAx4Q"
      },
      "source": [
        "import time \n",
        "def select_first(driver):\n",
        "  first = driver.find_elements_by_css_selector(\"div._9AhH0\")[0]\n",
        "  first.click()\n",
        "  time.sleep(3) #로딩을 위해 3초 대기"
      ],
      "execution_count": 190,
      "outputs": []
    },
    {
      "cell_type": "code",
      "metadata": {
        "id": "iy_Rf-VHBEFb"
      },
      "source": [
        "#함수 정의: 본문 내용, 작성일자, 좋아요 수, 위치정보, 해시태그 가져오기\n",
        "import re\n",
        "def get_content(driver):\n",
        "    # 1. 현재 페이지의 HTML 정보 가져오기\n",
        "    html = driver.page_source\n",
        "    soup = BeautifulSoup(html, 'lxml')    \n",
        "    # 2. 본문 내용 가져오기\n",
        "    try:  \t\t\t#여러 태그중 첫번째([0]) 태그를 선택  \n",
        "        content = soup.select('div.C4VMK > span')[0].text \n",
        "        \t\t\t#첫 게시글 본문 내용이 <div class=\"C4VMK\"> 임을 알 수 있다.\n",
        "                                #태그명이 div, class명이 C4VMK인 태그 아래에 있는 span 태그를 모두 선택.\n",
        "    except:\n",
        "        content = ' ' \n",
        "    # 3. 본문 내용에서 해시태그 가져오기(정규표현식 활용)\n",
        "    tags = re.findall(r'#[^\\s#,\\\\]+', content) # content 변수의 본문 내용 중 #으로 시작하며, #뒤에 연속된 문자(공백이나 #, \\ 기호가 아닌 경우)를 모두 찾아 tags 변수에 저장\n",
        "    # 4. 작성 일자 가져오기\n",
        "    try:\n",
        "        date = soup.select('time._1o9PC.Nzb55')[0]['datetime'][:10] #앞에서부터 10자리 글자\n",
        "    except:\n",
        "        date = ''\n",
        "    # 5. 좋아요 수 가져오기\n",
        "    try:\n",
        "        like = soup.select('div.Nm9Fw > button')[0].text[4:-1] \n",
        "    except:\n",
        "        like = 0\n",
        "    # 6. 위치 정보 가져오기\n",
        "    try:\n",
        "        place = soup.select('div.JF9hh')[0].text\n",
        "    except:\n",
        "        place = ''\n",
        "    data = [content, date, like, place, tags]\n",
        "    return data \n"
      ],
      "execution_count": 191,
      "outputs": []
    },
    {
      "cell_type": "code",
      "metadata": {
        "id": "nIji37FECaNy"
      },
      "source": [
        "#함수 정의: 첫 게시물 클릭 후 다음 게시물 클릭\n",
        "def move_next(driver):\n",
        "  right = driver.find_element_by_css_selector('a._65Bje.coreSpriteRightPaginationArrow') \n",
        "  right.click()\n",
        "  time.sleep(3)"
      ],
      "execution_count": 192,
      "outputs": []
    },
    {
      "cell_type": "code",
      "metadata": {
        "colab": {
          "base_uri": "https://localhost:8080/"
        },
        "id": "jqT3wsiSERNN",
        "outputId": "9558d596-ecef-4404-c8fb-db2ec668a19d"
      },
      "source": [
        "# install chromium, its driver, and selenium\n",
        "!apt update\n",
        "!apt install chromium-chromedriver\n",
        "!pip install selenium\n",
        "# set options to be headless, ..\n",
        "from selenium import webdriver\n",
        "options = webdriver.ChromeOptions()\n",
        "options.add_argument('--headless')\n",
        "options.add_argument('--no-sandbox')\n",
        "options.add_argument('--disable-dev-shm-usage')"
      ],
      "execution_count": 193,
      "outputs": [
        {
          "output_type": "stream",
          "text": [
            "\u001b[33m\r0% [Working]\u001b[0m\r            \rHit:1 http://security.ubuntu.com/ubuntu bionic-security InRelease\n",
            "\u001b[33m\r0% [Connecting to archive.ubuntu.com (91.189.88.152)] [Connected to cloud.r-pro\u001b[0m\u001b[33m\r0% [1 InRelease gpgv 88.7 kB] [Connecting to archive.ubuntu.com (91.189.88.152)\u001b[0m\r                                                                               \rHit:2 https://cloud.r-project.org/bin/linux/ubuntu bionic-cran40/ InRelease\n",
            "\u001b[33m\r0% [1 InRelease gpgv 88.7 kB] [Connecting to archive.ubuntu.com (91.189.88.152)\u001b[0m\r                                                                               \rIgn:3 https://developer.download.nvidia.com/compute/cuda/repos/ubuntu1804/x86_64  InRelease\n",
            "\u001b[33m\r0% [1 InRelease gpgv 88.7 kB] [Waiting for headers] [Waiting for headers] [Wait\u001b[0m\r                                                                               \rHit:4 http://ppa.launchpad.net/c2d4u.team/c2d4u4.0+/ubuntu bionic InRelease\n",
            "\u001b[33m\r                                                                               \r0% [1 InRelease gpgv 88.7 kB] [Waiting for headers] [Waiting for headers]\u001b[0m\r                                                                         \rHit:5 http://archive.ubuntu.com/ubuntu bionic InRelease\n",
            "\u001b[33m\r0% [1 InRelease gpgv 88.7 kB] [Waiting for headers] [Connecting to ppa.launchpa\u001b[0m\r                                                                               \rIgn:6 https://developer.download.nvidia.com/compute/machine-learning/repos/ubuntu1804/x86_64  InRelease\n",
            "\u001b[33m\r0% [1 InRelease gpgv 88.7 kB] [Waiting for headers] [Connecting to ppa.launchpa\u001b[0m\r                                                                               \rHit:7 https://developer.download.nvidia.com/compute/cuda/repos/ubuntu1804/x86_64  Release\n",
            "\u001b[33m\r0% [1 InRelease gpgv 88.7 kB] [Waiting for headers] [Connecting to ppa.launchpa\u001b[0m\r                                                                               \rHit:8 https://developer.download.nvidia.com/compute/machine-learning/repos/ubuntu1804/x86_64  Release\n",
            "Hit:9 http://archive.ubuntu.com/ubuntu bionic-updates InRelease\n",
            "Hit:10 http://ppa.launchpad.net/cran/libgit2/ubuntu bionic InRelease\n",
            "Hit:11 http://archive.ubuntu.com/ubuntu bionic-backports InRelease\n",
            "Hit:12 http://ppa.launchpad.net/deadsnakes/ppa/ubuntu bionic InRelease\n",
            "Hit:13 http://ppa.launchpad.net/graphics-drivers/ppa/ubuntu bionic InRelease\n",
            "Reading package lists... Done\n",
            "Building dependency tree       \n",
            "Reading state information... Done\n",
            "46 packages can be upgraded. Run 'apt list --upgradable' to see them.\n",
            "Reading package lists... Done\n",
            "Building dependency tree       \n",
            "Reading state information... Done\n",
            "chromium-chromedriver is already the newest version (91.0.4472.77-0ubuntu0.18.04.1).\n",
            "0 upgraded, 0 newly installed, 0 to remove and 46 not upgraded.\n",
            "Requirement already satisfied: selenium in /usr/local/lib/python3.7/dist-packages (3.141.0)\n",
            "Requirement already satisfied: urllib3 in /usr/local/lib/python3.7/dist-packages (from selenium) (1.24.3)\n"
          ],
          "name": "stdout"
        }
      ]
    },
    {
      "cell_type": "code",
      "metadata": {
        "colab": {
          "base_uri": "https://localhost:8080/",
          "height": 375
        },
        "id": "r1PVwB47Hdyi",
        "outputId": "9df75b3b-89a9-426d-9296-7ae1d2c89b89"
      },
      "source": [
        "driver = webdriver.Chrome(options=options)\n",
        "driver.get(\"https://www.instagram.com/accounts/login/\")\n",
        "time.sleep(3)\n",
        "\n",
        "email=''\n",
        "input_id=driver.find_elements_by_css_selector('input._2hvTZ.pexuQ.zyHYP')[0]\n",
        "input_id.clear()\n",
        "input_id.send_keys(email)\n",
        "\n",
        "passwrod=''\n",
        "input_pw = driver.find_elements_by_css_selector('input._2hvTZ.pexuQ.zyHYP')[1]\n",
        "input_pw.clear()\n",
        "input_pw.send_keys(password)\n",
        "input_pw.submit()\n",
        "\n",
        "time.sleep(5)\n",
        "\n",
        "word = input(\"비\")\n",
        "word = str(word)\n",
        "url = insta_searching(word)\n",
        "\n",
        "driver.get(url)\n",
        "time.sleep(3)\n",
        "\n",
        "#첫 게시물 클릭\n",
        "select_first(driver)\n",
        "\n",
        "results= []\n",
        "\n",
        "target = 10000\n",
        "for i in range(target):\n",
        "\n",
        "    try:\n",
        "        data = get_content(driver)\n",
        "        results.append(data)\n",
        "        move_next(driver)\n",
        "    except:\n",
        "        time.sleep(2)\n",
        "        move_next(driver)\n",
        "\n",
        "results[:2]"
      ],
      "execution_count": 195,
      "outputs": [
        {
          "output_type": "error",
          "ename": "KeyboardInterrupt",
          "evalue": "ignored",
          "traceback": [
            "\u001b[0;31m---------------------------------------------------------------------------\u001b[0m",
            "\u001b[0;31mKeyboardInterrupt\u001b[0m                         Traceback (most recent call last)",
            "\u001b[0;32m<ipython-input-195-c06347d72b61>\u001b[0m in \u001b[0;36m<module>\u001b[0;34m()\u001b[0m\n\u001b[0;32m----> 1\u001b[0;31m \u001b[0mdriver\u001b[0m \u001b[0;34m=\u001b[0m \u001b[0mwebdriver\u001b[0m\u001b[0;34m.\u001b[0m\u001b[0mChrome\u001b[0m\u001b[0;34m(\u001b[0m\u001b[0moptions\u001b[0m\u001b[0;34m=\u001b[0m\u001b[0moptions\u001b[0m\u001b[0;34m)\u001b[0m\u001b[0;34m\u001b[0m\u001b[0;34m\u001b[0m\u001b[0m\n\u001b[0m\u001b[1;32m      2\u001b[0m \u001b[0mdriver\u001b[0m\u001b[0;34m.\u001b[0m\u001b[0mget\u001b[0m\u001b[0;34m(\u001b[0m\u001b[0;34m\"https://www.instagram.com/accounts/login/\"\u001b[0m\u001b[0;34m)\u001b[0m\u001b[0;34m\u001b[0m\u001b[0;34m\u001b[0m\u001b[0m\n\u001b[1;32m      3\u001b[0m \u001b[0mtime\u001b[0m\u001b[0;34m.\u001b[0m\u001b[0msleep\u001b[0m\u001b[0;34m(\u001b[0m\u001b[0;36m3\u001b[0m\u001b[0;34m)\u001b[0m\u001b[0;34m\u001b[0m\u001b[0;34m\u001b[0m\u001b[0m\n\u001b[1;32m      4\u001b[0m \u001b[0;34m\u001b[0m\u001b[0m\n\u001b[1;32m      5\u001b[0m \u001b[0memail\u001b[0m\u001b[0;34m=\u001b[0m\u001b[0;34m''\u001b[0m\u001b[0;34m\u001b[0m\u001b[0;34m\u001b[0m\u001b[0m\n",
            "\u001b[0;32m/usr/local/lib/python3.7/dist-packages/selenium/webdriver/chrome/webdriver.py\u001b[0m in \u001b[0;36m__init__\u001b[0;34m(self, executable_path, port, options, service_args, desired_capabilities, service_log_path, chrome_options, keep_alive)\u001b[0m\n\u001b[1;32m     71\u001b[0m             \u001b[0mservice_args\u001b[0m\u001b[0;34m=\u001b[0m\u001b[0mservice_args\u001b[0m\u001b[0;34m,\u001b[0m\u001b[0;34m\u001b[0m\u001b[0;34m\u001b[0m\u001b[0m\n\u001b[1;32m     72\u001b[0m             log_path=service_log_path)\n\u001b[0;32m---> 73\u001b[0;31m         \u001b[0mself\u001b[0m\u001b[0;34m.\u001b[0m\u001b[0mservice\u001b[0m\u001b[0;34m.\u001b[0m\u001b[0mstart\u001b[0m\u001b[0;34m(\u001b[0m\u001b[0;34m)\u001b[0m\u001b[0;34m\u001b[0m\u001b[0;34m\u001b[0m\u001b[0m\n\u001b[0m\u001b[1;32m     74\u001b[0m \u001b[0;34m\u001b[0m\u001b[0m\n\u001b[1;32m     75\u001b[0m         \u001b[0;32mtry\u001b[0m\u001b[0;34m:\u001b[0m\u001b[0;34m\u001b[0m\u001b[0;34m\u001b[0m\u001b[0m\n",
            "\u001b[0;32m/usr/local/lib/python3.7/dist-packages/selenium/webdriver/common/service.py\u001b[0m in \u001b[0;36mstart\u001b[0;34m(self)\u001b[0m\n\u001b[1;32m    100\u001b[0m                 \u001b[0;32mbreak\u001b[0m\u001b[0;34m\u001b[0m\u001b[0;34m\u001b[0m\u001b[0m\n\u001b[1;32m    101\u001b[0m             \u001b[0mcount\u001b[0m \u001b[0;34m+=\u001b[0m \u001b[0;36m1\u001b[0m\u001b[0;34m\u001b[0m\u001b[0;34m\u001b[0m\u001b[0m\n\u001b[0;32m--> 102\u001b[0;31m             \u001b[0mtime\u001b[0m\u001b[0;34m.\u001b[0m\u001b[0msleep\u001b[0m\u001b[0;34m(\u001b[0m\u001b[0;36m1\u001b[0m\u001b[0;34m)\u001b[0m\u001b[0;34m\u001b[0m\u001b[0;34m\u001b[0m\u001b[0m\n\u001b[0m\u001b[1;32m    103\u001b[0m             \u001b[0;32mif\u001b[0m \u001b[0mcount\u001b[0m \u001b[0;34m==\u001b[0m \u001b[0;36m30\u001b[0m\u001b[0;34m:\u001b[0m\u001b[0;34m\u001b[0m\u001b[0;34m\u001b[0m\u001b[0m\n\u001b[1;32m    104\u001b[0m                 \u001b[0;32mraise\u001b[0m \u001b[0mWebDriverException\u001b[0m\u001b[0;34m(\u001b[0m\u001b[0;34m\"Can not connect to the Service %s\"\u001b[0m \u001b[0;34m%\u001b[0m \u001b[0mself\u001b[0m\u001b[0;34m.\u001b[0m\u001b[0mpath\u001b[0m\u001b[0;34m)\u001b[0m\u001b[0;34m\u001b[0m\u001b[0;34m\u001b[0m\u001b[0m\n",
            "\u001b[0;31mKeyboardInterrupt\u001b[0m: "
          ]
        }
      ]
    },
    {
      "cell_type": "code",
      "metadata": {
        "id": "RvWfcBHXLmZ-"
      },
      "source": [
        "word = input(\"#\")"
      ],
      "execution_count": null,
      "outputs": []
    },
    {
      "cell_type": "markdown",
      "metadata": {
        "id": "saYZ4Yd9DjCL"
      },
      "source": [
        "### IndexError: list index out of range\n",
        "### 참고: [링크 텍스트](https://korbillgates.tistory.com/91)"
      ]
    },
    {
      "cell_type": "code",
      "metadata": {
        "id": "bdHU9jKaDiVK"
      },
      "source": [
        ""
      ],
      "execution_count": null,
      "outputs": []
    },
    {
      "cell_type": "code",
      "metadata": {
        "id": "w2xIyawiCqK_"
      },
      "source": [
        "#크롤링 시작\n",
        "# driver.get(url)을 통해 검색 페이지 접속하고, target 변수에 크롤링할 게시글의 수를 바인딩\n",
        "\n",
        "driver="
      ],
      "execution_count": null,
      "outputs": []
    },
    {
      "cell_type": "code",
      "metadata": {
        "id": "1Jgtze2dFoOq"
      },
      "source": [
        ""
      ],
      "execution_count": null,
      "outputs": []
    }
  ]
}