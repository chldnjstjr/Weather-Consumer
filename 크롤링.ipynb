{
  "nbformat": 4,
  "nbformat_minor": 0,
  "metadata": {
    "colab": {
      "name": "크롤링.ipynb",
      "provenance": [],
      "authorship_tag": "ABX9TyO8QhR37nNDeenbBNIb6WBj"
    },
    "kernelspec": {
      "name": "python3",
      "display_name": "Python 3"
    },
    "language_info": {
      "name": "python"
    }
  },
  "cells": [
    {
      "cell_type": "markdown",
      "metadata": {
        "id": "MWvnW9AD_Kaf"
      },
      "source": [
        "# 소셜 데이터 분석을 위한 크롤링\n",
        "\n",
        "비, 흐림, 안개와 같은 좋지 않은 날씨의 해시태그들과 부정적인 감정을 표현한 해시태그가 많이 사용되는지 알아보기 위함. 상관관계라도 찾을 수 있으면 더할 나위 없이 좋겠다."
      ]
    },
    {
      "cell_type": "markdown",
      "metadata": {
        "id": "cPC9NTTt_0zD"
      },
      "source": [
        "### 첫 번째 시도\n",
        "참고: [링크 텍스트](https://mokeya.tistory.com/68)"
      ]
    },
    {
      "cell_type": "code",
      "metadata": {
        "colab": {
          "base_uri": "https://localhost:8080/"
        },
        "id": "TuC1QguUAReD",
        "outputId": "42c7ad5e-1aa8-4c2f-b413-456846bf8306"
      },
      "source": [
        "pip install selenium"
      ],
      "execution_count": 2,
      "outputs": [
        {
          "output_type": "stream",
          "text": [
            "Collecting selenium\n",
            "\u001b[?25l  Downloading https://files.pythonhosted.org/packages/80/d6/4294f0b4bce4de0abf13e17190289f9d0613b0a44e5dd6a7f5ca98459853/selenium-3.141.0-py2.py3-none-any.whl (904kB)\n",
            "\r\u001b[K     |▍                               | 10kB 12.2MB/s eta 0:00:01\r\u001b[K     |▊                               | 20kB 17.6MB/s eta 0:00:01\r\u001b[K     |█                               | 30kB 11.2MB/s eta 0:00:01\r\u001b[K     |█▌                              | 40kB 8.3MB/s eta 0:00:01\r\u001b[K     |█▉                              | 51kB 5.2MB/s eta 0:00:01\r\u001b[K     |██▏                             | 61kB 5.4MB/s eta 0:00:01\r\u001b[K     |██▌                             | 71kB 5.8MB/s eta 0:00:01\r\u001b[K     |███                             | 81kB 6.4MB/s eta 0:00:01\r\u001b[K     |███▎                            | 92kB 6.5MB/s eta 0:00:01\r\u001b[K     |███▋                            | 102kB 6.7MB/s eta 0:00:01\r\u001b[K     |████                            | 112kB 6.7MB/s eta 0:00:01\r\u001b[K     |████▍                           | 122kB 6.7MB/s eta 0:00:01\r\u001b[K     |████▊                           | 133kB 6.7MB/s eta 0:00:01\r\u001b[K     |█████                           | 143kB 6.7MB/s eta 0:00:01\r\u001b[K     |█████▍                          | 153kB 6.7MB/s eta 0:00:01\r\u001b[K     |█████▉                          | 163kB 6.7MB/s eta 0:00:01\r\u001b[K     |██████▏                         | 174kB 6.7MB/s eta 0:00:01\r\u001b[K     |██████▌                         | 184kB 6.7MB/s eta 0:00:01\r\u001b[K     |██████▉                         | 194kB 6.7MB/s eta 0:00:01\r\u001b[K     |███████▎                        | 204kB 6.7MB/s eta 0:00:01\r\u001b[K     |███████▋                        | 215kB 6.7MB/s eta 0:00:01\r\u001b[K     |████████                        | 225kB 6.7MB/s eta 0:00:01\r\u001b[K     |████████▎                       | 235kB 6.7MB/s eta 0:00:01\r\u001b[K     |████████▊                       | 245kB 6.7MB/s eta 0:00:01\r\u001b[K     |█████████                       | 256kB 6.7MB/s eta 0:00:01\r\u001b[K     |█████████▍                      | 266kB 6.7MB/s eta 0:00:01\r\u001b[K     |█████████▉                      | 276kB 6.7MB/s eta 0:00:01\r\u001b[K     |██████████▏                     | 286kB 6.7MB/s eta 0:00:01\r\u001b[K     |██████████▌                     | 296kB 6.7MB/s eta 0:00:01\r\u001b[K     |██████████▉                     | 307kB 6.7MB/s eta 0:00:01\r\u001b[K     |███████████▎                    | 317kB 6.7MB/s eta 0:00:01\r\u001b[K     |███████████▋                    | 327kB 6.7MB/s eta 0:00:01\r\u001b[K     |████████████                    | 337kB 6.7MB/s eta 0:00:01\r\u001b[K     |████████████▎                   | 348kB 6.7MB/s eta 0:00:01\r\u001b[K     |████████████▊                   | 358kB 6.7MB/s eta 0:00:01\r\u001b[K     |█████████████                   | 368kB 6.7MB/s eta 0:00:01\r\u001b[K     |█████████████▍                  | 378kB 6.7MB/s eta 0:00:01\r\u001b[K     |█████████████▊                  | 389kB 6.7MB/s eta 0:00:01\r\u001b[K     |██████████████▏                 | 399kB 6.7MB/s eta 0:00:01\r\u001b[K     |██████████████▌                 | 409kB 6.7MB/s eta 0:00:01\r\u001b[K     |██████████████▉                 | 419kB 6.7MB/s eta 0:00:01\r\u001b[K     |███████████████▏                | 430kB 6.7MB/s eta 0:00:01\r\u001b[K     |███████████████▋                | 440kB 6.7MB/s eta 0:00:01\r\u001b[K     |████████████████                | 450kB 6.7MB/s eta 0:00:01\r\u001b[K     |████████████████▎               | 460kB 6.7MB/s eta 0:00:01\r\u001b[K     |████████████████▋               | 471kB 6.7MB/s eta 0:00:01\r\u001b[K     |█████████████████               | 481kB 6.7MB/s eta 0:00:01\r\u001b[K     |█████████████████▍              | 491kB 6.7MB/s eta 0:00:01\r\u001b[K     |█████████████████▊              | 501kB 6.7MB/s eta 0:00:01\r\u001b[K     |██████████████████▏             | 512kB 6.7MB/s eta 0:00:01\r\u001b[K     |██████████████████▌             | 522kB 6.7MB/s eta 0:00:01\r\u001b[K     |██████████████████▉             | 532kB 6.7MB/s eta 0:00:01\r\u001b[K     |███████████████████▏            | 542kB 6.7MB/s eta 0:00:01\r\u001b[K     |███████████████████▋            | 552kB 6.7MB/s eta 0:00:01\r\u001b[K     |████████████████████            | 563kB 6.7MB/s eta 0:00:01\r\u001b[K     |████████████████████▎           | 573kB 6.7MB/s eta 0:00:01\r\u001b[K     |████████████████████▋           | 583kB 6.7MB/s eta 0:00:01\r\u001b[K     |█████████████████████           | 593kB 6.7MB/s eta 0:00:01\r\u001b[K     |█████████████████████▍          | 604kB 6.7MB/s eta 0:00:01\r\u001b[K     |█████████████████████▊          | 614kB 6.7MB/s eta 0:00:01\r\u001b[K     |██████████████████████          | 624kB 6.7MB/s eta 0:00:01\r\u001b[K     |██████████████████████▌         | 634kB 6.7MB/s eta 0:00:01\r\u001b[K     |██████████████████████▉         | 645kB 6.7MB/s eta 0:00:01\r\u001b[K     |███████████████████████▏        | 655kB 6.7MB/s eta 0:00:01\r\u001b[K     |███████████████████████▌        | 665kB 6.7MB/s eta 0:00:01\r\u001b[K     |████████████████████████        | 675kB 6.7MB/s eta 0:00:01\r\u001b[K     |████████████████████████▎       | 686kB 6.7MB/s eta 0:00:01\r\u001b[K     |████████████████████████▋       | 696kB 6.7MB/s eta 0:00:01\r\u001b[K     |█████████████████████████       | 706kB 6.7MB/s eta 0:00:01\r\u001b[K     |█████████████████████████▍      | 716kB 6.7MB/s eta 0:00:01\r\u001b[K     |█████████████████████████▊      | 727kB 6.7MB/s eta 0:00:01\r\u001b[K     |██████████████████████████      | 737kB 6.7MB/s eta 0:00:01\r\u001b[K     |██████████████████████████▍     | 747kB 6.7MB/s eta 0:00:01\r\u001b[K     |██████████████████████████▉     | 757kB 6.7MB/s eta 0:00:01\r\u001b[K     |███████████████████████████▏    | 768kB 6.7MB/s eta 0:00:01\r\u001b[K     |███████████████████████████▌    | 778kB 6.7MB/s eta 0:00:01\r\u001b[K     |████████████████████████████    | 788kB 6.7MB/s eta 0:00:01\r\u001b[K     |████████████████████████████▎   | 798kB 6.7MB/s eta 0:00:01\r\u001b[K     |████████████████████████████▋   | 808kB 6.7MB/s eta 0:00:01\r\u001b[K     |█████████████████████████████   | 819kB 6.7MB/s eta 0:00:01\r\u001b[K     |█████████████████████████████▍  | 829kB 6.7MB/s eta 0:00:01\r\u001b[K     |█████████████████████████████▊  | 839kB 6.7MB/s eta 0:00:01\r\u001b[K     |██████████████████████████████  | 849kB 6.7MB/s eta 0:00:01\r\u001b[K     |██████████████████████████████▍ | 860kB 6.7MB/s eta 0:00:01\r\u001b[K     |██████████████████████████████▉ | 870kB 6.7MB/s eta 0:00:01\r\u001b[K     |███████████████████████████████▏| 880kB 6.7MB/s eta 0:00:01\r\u001b[K     |███████████████████████████████▌| 890kB 6.7MB/s eta 0:00:01\r\u001b[K     |███████████████████████████████▉| 901kB 6.7MB/s eta 0:00:01\r\u001b[K     |████████████████████████████████| 911kB 6.7MB/s \n",
            "\u001b[?25hRequirement already satisfied: urllib3 in /usr/local/lib/python3.7/dist-packages (from selenium) (1.24.3)\n",
            "Installing collected packages: selenium\n",
            "Successfully installed selenium-3.141.0\n"
          ],
          "name": "stdout"
        }
      ]
    },
    {
      "cell_type": "code",
      "metadata": {
        "id": "hsxjktm6_IM5"
      },
      "source": [
        "#필요 패키지 호출 \n",
        "from selenium import webdriver\n",
        "from bs4 import BeautifulSoup\n",
        "import time\n",
        "import re\n",
        "import time"
      ],
      "execution_count": 3,
      "outputs": []
    },
    {
      "cell_type": "code",
      "metadata": {
        "id": "49EmVeCVAG3d"
      },
      "source": [
        "#함수 정의: 검색어 조건에 따른 url 생성\n",
        "# 내가 원하는 키워드를 받아서 해당 키워드 검색 결과 페이지의 url을 생성하는 함수를 정의\n",
        "\n",
        "def insta_searching(word):\n",
        "  url=\"https://www.instagram.com/explore/tags/\" +str(word)\n",
        "  return url"
      ],
      "execution_count": 4,
      "outputs": []
    },
    {
      "cell_type": "code",
      "metadata": {
        "id": "SwXnnA9OAx4Q"
      },
      "source": [
        "#함수 정의: 열린 페이지에서 첫 번째 게시물 클릭 + sleep 메소드 통해 시차 두기\n",
        "def select_firts(driver):\n",
        "  first=driver.find_elements_by_css_selector(\"div._9AhH0\")[0]\n",
        "  first.click()\n",
        "  time.sleep(3)"
      ],
      "execution_count": 5,
      "outputs": []
    },
    {
      "cell_type": "code",
      "metadata": {
        "id": "iy_Rf-VHBEFb"
      },
      "source": [
        "#함수 정의: 본문 내용, 작성일자, 좋아요 수, 위치정보, 해시태그 가져오기\n",
        "def get_content(driver):\n",
        "  html=driver.page_source\n",
        "  soup=BeautifulSoup(html, 'lxml')\n",
        "  #본문 내용\n",
        "  try:\n",
        "    content=soup.select('div.C4VMK>span')[0].text\n",
        "  except:\n",
        "    content = ' '\n",
        "  # 해시태그\n",
        "  tags = re.findall(r'#[^\\s#,\\\\]+', content)\n",
        "  # 작성일자\n",
        "  date=soup.select('time._1o9PC.Nzb55')[0]['datetime'][:10]\n",
        "  # 좋아요\n",
        "  try:\n",
        "    like=soup.select('div.Nm9Fw > button')[0].text[4:-1]\n",
        "  except:\n",
        "    like = 0\n",
        "  #위치\n",
        "  try:\n",
        "    place=soup.select('div.M30cS')[0].text\n",
        "  except:\n",
        "    place=''\n",
        "  \n",
        "  data=[content, date, like, place, tags]\n",
        "  return data"
      ],
      "execution_count": 6,
      "outputs": []
    },
    {
      "cell_type": "code",
      "metadata": {
        "id": "nIji37FECaNy"
      },
      "source": [
        "#함수 정의: 첫 게시물 클릭 후 다음 게시물 클릭\n",
        "\n",
        "def move_next(driver):\n",
        "  right=driver.find_element_by_css_selector('a.coreSpriteRightPaginationArrow')\n",
        "  right.click()\n",
        "  time.sleep(3)\n"
      ],
      "execution_count": 7,
      "outputs": []
    },
    {
      "cell_type": "code",
      "metadata": {
        "id": "w2xIyawiCqK_"
      },
      "source": [
        "#크롤링 시작\n",
        "# driver.get(url)을 통해 검색 페이지 접속하고, target 변수에 크롤링할 게시글의 수를 바인딩\n",
        "\n",
        "driver="
      ],
      "execution_count": null,
      "outputs": []
    }
  ]
}